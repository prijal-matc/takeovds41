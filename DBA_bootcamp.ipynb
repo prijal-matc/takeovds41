{
  "nbformat": 4,
  "nbformat_minor": 0,
  "metadata": {
    "colab": {
      "provenance": [],
      "authorship_tag": "ABX9TyOFR2541BTsM9weTW6BEGTp",
      "include_colab_link": true
    },
    "kernelspec": {
      "name": "python3",
      "display_name": "Python 3"
    },
    "language_info": {
      "name": "python"
    }
  },
  "cells": [
    {
      "cell_type": "markdown",
      "metadata": {
        "id": "view-in-github",
        "colab_type": "text"
      },
      "source": [
        "<a href=\"https://colab.research.google.com/github/prijal-matc/takeovds41/blob/main/DBA_bootcamp.ipynb\" target=\"_parent\"><img src=\"https://colab.research.google.com/assets/colab-badge.svg\" alt=\"Open In Colab\"/></a>"
      ]
    },
    {
      "cell_type": "code",
      "execution_count": null,
      "metadata": {
        "colab": {
          "base_uri": "https://localhost:8080/"
        },
        "id": "bEWP5MqnpvCa",
        "outputId": "97a1dd66-ce68-46f0-a37f-959ba2a2fc84"
      },
      "outputs": [
        {
          "output_type": "stream",
          "name": "stdout",
          "text": [
            "25.85 <class 'float'>\n",
            "6086086089 <class 'int'>\n",
            "(10+30j) <class 'complex'>\n",
            "True <class 'bool'>\n",
            "Prahlad Rijal <class 'str'>\n"
          ]
        }
      ],
      "source": [
        "percent = 25.85\n",
        "print (percent, type(percent))\n",
        "mobile = 6086086089\n",
        "print (mobile, type(mobile))\n",
        "complex = 10+30j\n",
        "print (complex, type(complex))\n",
        "visa = True\n",
        "print (visa, type(visa))\n",
        "name = 'Prahlad Rijal'\n",
        "print (name, type(name))\n"
      ]
    },
    {
      "cell_type": "code",
      "source": [
        "lst1 = ['mango', 'banana', 'apple', 'cherry', 'guava']\n",
        "print (lst1, type(lst1))"
      ],
      "metadata": {
        "colab": {
          "base_uri": "https://localhost:8080/"
        },
        "id": "K2cJqoxerf-2",
        "outputId": "275fcf68-bb46-4e9e-b834-3d0a7ce4d661"
      },
      "execution_count": null,
      "outputs": [
        {
          "output_type": "stream",
          "name": "stdout",
          "text": [
            "['mango', 'banana', 'apple', 'cherry', 'guava'] <class 'list'>\n"
          ]
        }
      ]
    },
    {
      "cell_type": "code",
      "source": [
        "tup1 = ('suger', 'tea', 'coffee', 'bread')\n",
        "print (tup1, type(tup1))"
      ],
      "metadata": {
        "colab": {
          "base_uri": "https://localhost:8080/"
        },
        "id": "RF6UMw8Mr_Mm",
        "outputId": "7c951d20-042d-4b3d-e55e-7ac9aec40b04"
      },
      "execution_count": null,
      "outputs": [
        {
          "output_type": "stream",
          "name": "stdout",
          "text": [
            "('suger', 'tea', 'coffee', 'bread') <class 'tuple'>\n"
          ]
        }
      ]
    },
    {
      "cell_type": "code",
      "source": [
        "set1 = {1,2,3,4, 'a','b','c','d', 12.23,34.45,56.66, True,False}\n",
        "print (set1, type(set1))"
      ],
      "metadata": {
        "colab": {
          "base_uri": "https://localhost:8080/"
        },
        "id": "tta4cb-UsSiD",
        "outputId": "80f062a6-d030-4d75-b4d0-8c40cd838eaf"
      },
      "execution_count": null,
      "outputs": [
        {
          "output_type": "stream",
          "name": "stdout",
          "text": [
            "{False, 1, 2, 3, 4, 'a', 34.45, 'b', 12.23, 56.66, 'd', 'c'} <class 'set'>\n"
          ]
        }
      ]
    },
    {
      "cell_type": "code",
      "source": [
        "lst1 = ['mango', 'banana', 'apple', 'cherry', 'guava']\n",
        "print(lst1)\n",
        "lst1.append\n",
        "print(lst1)"
      ],
      "metadata": {
        "colab": {
          "base_uri": "https://localhost:8080/"
        },
        "id": "iuVHpbtpsxfj",
        "outputId": "9ad46abe-2212-4f2d-c1d5-ed3780c30ab9"
      },
      "execution_count": null,
      "outputs": [
        {
          "output_type": "stream",
          "name": "stdout",
          "text": [
            "['mango', 'banana', 'apple', 'cherry', 'guava']\n",
            "['mango', 'banana', 'apple', 'cherry', 'guava']\n"
          ]
        }
      ]
    },
    {
      "cell_type": "code",
      "source": [
        "lst1 = ['mango', 'banana', 'apple', 'cherry', 'guava']\n",
        "print(lst1)\n",
        "lst1.clear()\n",
        "print(lst1)"
      ],
      "metadata": {
        "colab": {
          "base_uri": "https://localhost:8080/"
        },
        "id": "vis9j6was7Sp",
        "outputId": "2e0b5730-a5b6-4319-81b8-e24c78c1d2ca"
      },
      "execution_count": null,
      "outputs": [
        {
          "output_type": "stream",
          "name": "stdout",
          "text": [
            "['mango', 'banana', 'apple', 'cherry', 'guava']\n",
            "[]\n"
          ]
        }
      ]
    },
    {
      "cell_type": "code",
      "source": [
        "lst1 = ['mango', 'banana', 'apple', 'cherry', 'guava']\n",
        "print(lst1)\n",
        "lst1.copy()\n",
        "print(lst1)"
      ],
      "metadata": {
        "colab": {
          "base_uri": "https://localhost:8080/"
        },
        "id": "Mb3Hjwk9tFup",
        "outputId": "fedb5e7c-e09f-4e42-8fde-6e43d639dc67"
      },
      "execution_count": null,
      "outputs": [
        {
          "output_type": "stream",
          "name": "stdout",
          "text": [
            "['mango', 'banana', 'apple', 'cherry', 'guava']\n",
            "['mango', 'banana', 'apple', 'cherry', 'guava']\n"
          ]
        }
      ]
    },
    {
      "cell_type": "code",
      "source": [
        "lst1 = ['mango', 'banana', 'apple', 'cherry', 'guava']\n",
        "print(lst1)\n",
        "lst1.count('banana')\n",
        "print(lst1)"
      ],
      "metadata": {
        "colab": {
          "base_uri": "https://localhost:8080/"
        },
        "id": "h8YOK7LXtUPg",
        "outputId": "a07d0f50-1bee-4de6-e2bd-2432af1c9f79"
      },
      "execution_count": null,
      "outputs": [
        {
          "output_type": "stream",
          "name": "stdout",
          "text": [
            "['mango', 'banana', 'apple', 'cherry', 'guava']\n",
            "['mango', 'banana', 'apple', 'cherry', 'guava']\n"
          ]
        }
      ]
    },
    {
      "cell_type": "code",
      "source": [
        "lst1 = ['mango', 'banana', 'apple', 'cherry', 'guava']\n",
        "print(lst1)\n",
        "lst1.reverse()\n",
        "print(lst1)"
      ],
      "metadata": {
        "colab": {
          "base_uri": "https://localhost:8080/"
        },
        "id": "ti7VWNIeuBn-",
        "outputId": "d43f7f8c-789d-48b3-b76e-20bab209be5f"
      },
      "execution_count": null,
      "outputs": [
        {
          "output_type": "stream",
          "name": "stdout",
          "text": [
            "['mango', 'banana', 'apple', 'cherry', 'guava']\n",
            "['guava', 'cherry', 'apple', 'banana', 'mango']\n"
          ]
        }
      ]
    },
    {
      "cell_type": "code",
      "source": [
        "tup1 = ('mango', 'banana', 'apple', 'cherry', 'guava')\n",
        "print(tup1)\n",
        "tup1.index\n",
        "print(tup1)"
      ],
      "metadata": {
        "colab": {
          "base_uri": "https://localhost:8080/"
        },
        "id": "iYknDs54uMUl",
        "outputId": "3064282b-2731-4fc0-9a6a-24e8a54a6e9b"
      },
      "execution_count": null,
      "outputs": [
        {
          "output_type": "stream",
          "name": "stdout",
          "text": [
            "('mango', 'banana', 'apple', 'cherry', 'guava')\n",
            "('mango', 'banana', 'apple', 'cherry', 'guava')\n"
          ]
        }
      ]
    },
    {
      "cell_type": "code",
      "source": [
        "tup1 = ('mango', 'banana', 'apple', 'cherry', 'guava')\n",
        "print(tup1)\n",
        "tup1.count('guava')\n",
        "print(tup1)\n"
      ],
      "metadata": {
        "colab": {
          "base_uri": "https://localhost:8080/"
        },
        "id": "iBEvWKrPujQ9",
        "outputId": "a881dd13-229f-4cb2-d029-06f6027a73a0"
      },
      "execution_count": null,
      "outputs": [
        {
          "output_type": "stream",
          "name": "stdout",
          "text": [
            "('mango', 'banana', 'apple', 'cherry', 'guava')\n",
            "('mango', 'banana', 'apple', 'cherry', 'guava')\n"
          ]
        }
      ]
    },
    {
      "cell_type": "code",
      "source": [
        "#**Wednesday Dec 06, 2023**\n"
      ],
      "metadata": {
        "id": "svziaJafyunC"
      },
      "execution_count": null,
      "outputs": []
    },
    {
      "cell_type": "code",
      "source": [
        "lst1 = [12,23,34,45,56,67,78,89,90]\n",
        "lst1[::]"
      ],
      "metadata": {
        "colab": {
          "base_uri": "https://localhost:8080/"
        },
        "id": "WgnmBrGh0DdA",
        "outputId": "2df3c950-8a7e-4839-a0d0-40e86e104eff"
      },
      "execution_count": null,
      "outputs": [
        {
          "output_type": "execute_result",
          "data": {
            "text/plain": [
              "[12, 23, 34, 45, 56, 67, 78, 89, 90]"
            ]
          },
          "metadata": {},
          "execution_count": 22
        }
      ]
    },
    {
      "cell_type": "code",
      "source": [
        "lst1 = [12,23,34,45,56,67,78,89,90]\n",
        "lst1[0::]"
      ],
      "metadata": {
        "colab": {
          "base_uri": "https://localhost:8080/"
        },
        "id": "09v05QOx0hao",
        "outputId": "c3c21959-4dab-456a-d6c1-2f6e1952a879"
      },
      "execution_count": null,
      "outputs": [
        {
          "output_type": "execute_result",
          "data": {
            "text/plain": [
              "[12, 23, 34, 45, 56, 67, 78, 89, 90]"
            ]
          },
          "metadata": {},
          "execution_count": 23
        }
      ]
    },
    {
      "cell_type": "code",
      "source": [
        "lst1 = [12,23,34,45,56,67,78,89,90]\n",
        "lst1[0:len(lst1)]"
      ],
      "metadata": {
        "colab": {
          "base_uri": "https://localhost:8080/"
        },
        "id": "mCSG8bjx0nb4",
        "outputId": "05264292-9d6c-4bee-ddbd-d0aa0bc149fa"
      },
      "execution_count": null,
      "outputs": [
        {
          "output_type": "execute_result",
          "data": {
            "text/plain": [
              "[12, 23, 34, 45, 56, 67, 78, 89, 90]"
            ]
          },
          "metadata": {},
          "execution_count": 24
        }
      ]
    },
    {
      "cell_type": "code",
      "source": [
        "lst1 = [12,23,34,45,56,67,78,89,90]\n",
        "lst1[::1]\n"
      ],
      "metadata": {
        "colab": {
          "base_uri": "https://localhost:8080/"
        },
        "id": "vpHwu8op0xqH",
        "outputId": "bee30864-8f44-43f2-e343-5cee6147a9c3"
      },
      "execution_count": null,
      "outputs": [
        {
          "output_type": "execute_result",
          "data": {
            "text/plain": [
              "[12, 23, 34, 45, 56, 67, 78, 89, 90]"
            ]
          },
          "metadata": {},
          "execution_count": 25
        }
      ]
    },
    {
      "cell_type": "code",
      "source": [
        "lst1 = [12,23,34,45,56,67,78,89,90]\n",
        "lst1[:4:]"
      ],
      "metadata": {
        "colab": {
          "base_uri": "https://localhost:8080/"
        },
        "id": "4JS7U2zQ06Yf",
        "outputId": "ccce927b-5eb3-4648-8926-f0db6c481124"
      },
      "execution_count": null,
      "outputs": [
        {
          "output_type": "execute_result",
          "data": {
            "text/plain": [
              "[12, 23, 34, 45]"
            ]
          },
          "metadata": {},
          "execution_count": 26
        }
      ]
    },
    {
      "cell_type": "code",
      "source": [
        "lst1 = [12,23,34,45,56,67,78,89,90]\n",
        "lst1[2:6:]"
      ],
      "metadata": {
        "colab": {
          "base_uri": "https://localhost:8080/"
        },
        "id": "nXuFt2bZ1BaW",
        "outputId": "94da748d-5045-447c-ba2f-bd33a5285784"
      },
      "execution_count": null,
      "outputs": [
        {
          "output_type": "execute_result",
          "data": {
            "text/plain": [
              "[34, 45, 56, 67]"
            ]
          },
          "metadata": {},
          "execution_count": 27
        }
      ]
    },
    {
      "cell_type": "code",
      "source": [
        "lst1 = [12,23,34,45,56,67,78,89,90]\n",
        "lst1[-1:-(len(lst1)+1):-1]"
      ],
      "metadata": {
        "colab": {
          "base_uri": "https://localhost:8080/"
        },
        "id": "hODzNMN11MG7",
        "outputId": "d14a878c-7c61-4aef-f231-ba080252414b"
      },
      "execution_count": null,
      "outputs": [
        {
          "output_type": "execute_result",
          "data": {
            "text/plain": [
              "[90, 89, 78, 67, 56, 45, 34, 23, 12]"
            ]
          },
          "metadata": {},
          "execution_count": 31
        }
      ]
    },
    {
      "cell_type": "code",
      "source": [
        "lst1 = [12,23,34,45,56,67,78,89,90]\n",
        "lst1[-6::-1]"
      ],
      "metadata": {
        "colab": {
          "base_uri": "https://localhost:8080/"
        },
        "id": "dzo3lLWV2P5T",
        "outputId": "3f17b747-d52c-42c7-8a29-60f6ae617c85"
      },
      "execution_count": null,
      "outputs": [
        {
          "output_type": "execute_result",
          "data": {
            "text/plain": [
              "[45, 34, 23, 12]"
            ]
          },
          "metadata": {},
          "execution_count": 32
        }
      ]
    },
    {
      "cell_type": "code",
      "source": [
        "lst1 = [12,23,34,45,56,67,78,89,90]\n",
        "lst1[-4:-8:-1]\n"
      ],
      "metadata": {
        "colab": {
          "base_uri": "https://localhost:8080/"
        },
        "id": "jjtM0lGW238b",
        "outputId": "c7449b96-a90b-4bec-dc1b-338bcb37fecf"
      },
      "execution_count": null,
      "outputs": [
        {
          "output_type": "execute_result",
          "data": {
            "text/plain": [
              "[67, 56, 45, 34]"
            ]
          },
          "metadata": {},
          "execution_count": 33
        }
      ]
    },
    {
      "cell_type": "code",
      "source": [
        "lst1 = [12,23,34,45,56,67,78,89,90]\n",
        "lst1[-1::-4]"
      ],
      "metadata": {
        "colab": {
          "base_uri": "https://localhost:8080/"
        },
        "id": "FVt8-Cc44v2w",
        "outputId": "fc4fc4ba-a6bc-49a6-b31f-cd38150fb198"
      },
      "execution_count": null,
      "outputs": [
        {
          "output_type": "execute_result",
          "data": {
            "text/plain": [
              "[90, 56, 12]"
            ]
          },
          "metadata": {},
          "execution_count": 35
        }
      ]
    },
    {
      "cell_type": "code",
      "source": [
        "lst1 = [12,23,34,45,56,67,78,89,90]\n",
        "lst1[-4::-3]"
      ],
      "metadata": {
        "colab": {
          "base_uri": "https://localhost:8080/"
        },
        "id": "wvdBll3D8T5E",
        "outputId": "eebcd3db-e7e7-46b8-b4a3-63b9d8eef5ab"
      },
      "execution_count": null,
      "outputs": [
        {
          "output_type": "execute_result",
          "data": {
            "text/plain": [
              "[67, 34]"
            ]
          },
          "metadata": {},
          "execution_count": 37
        }
      ]
    },
    {
      "cell_type": "code",
      "source": [
        "lst1 = [12,23,34,45,56,67,78,89,90]\n",
        "lst1[3:9:1]"
      ],
      "metadata": {
        "colab": {
          "base_uri": "https://localhost:8080/"
        },
        "id": "bA326LzN8ukt",
        "outputId": "d676a1d1-14a2-446d-a23d-ee2dc1ff71fd"
      },
      "execution_count": null,
      "outputs": [
        {
          "output_type": "execute_result",
          "data": {
            "text/plain": [
              "[45, 56, 67, 78, 89, 90]"
            ]
          },
          "metadata": {},
          "execution_count": 38
        }
      ]
    },
    {
      "cell_type": "code",
      "source": [
        "lst1 = [12,23,34,45,56,67,78,89,90]\n",
        "lst1[-6::1]"
      ],
      "metadata": {
        "id": "EEBszjTN9r6H"
      },
      "execution_count": null,
      "outputs": []
    },
    {
      "cell_type": "code",
      "source": [
        "lst1 = [12,23,34,45,56,67,78,89,90]\n",
        "lst1[-6::1]"
      ],
      "metadata": {
        "colab": {
          "base_uri": "https://localhost:8080/"
        },
        "id": "iChWo3RZ96w3",
        "outputId": "6d88a8fc-8b1f-4588-c544-99587acdb089"
      },
      "execution_count": null,
      "outputs": [
        {
          "output_type": "execute_result",
          "data": {
            "text/plain": [
              "[45, 56, 67, 78, 89, 90]"
            ]
          },
          "metadata": {},
          "execution_count": 39
        }
      ]
    },
    {
      "cell_type": "code",
      "source": [
        "lst1 = [12,23,34,45,56,67,78,89,90]\n",
        "lst1[-1:-7:-1]"
      ],
      "metadata": {
        "colab": {
          "base_uri": "https://localhost:8080/"
        },
        "id": "I34Mubq1-Cn2",
        "outputId": "efab6174-a0d1-4714-8412-efff666e1f65"
      },
      "execution_count": null,
      "outputs": [
        {
          "output_type": "execute_result",
          "data": {
            "text/plain": [
              "[90, 89, 78, 67, 56, 45]"
            ]
          },
          "metadata": {},
          "execution_count": 40
        }
      ]
    },
    {
      "cell_type": "code",
      "source": [
        "lst1 = [12,23,34,45,56,67,78,89,90]\n",
        "lst1[:2:-1]"
      ],
      "metadata": {
        "colab": {
          "base_uri": "https://localhost:8080/"
        },
        "id": "_lA0KEEMD1jo",
        "outputId": "ff20b63c-09dc-4fbd-eb98-a84092ba67b8"
      },
      "execution_count": null,
      "outputs": [
        {
          "output_type": "execute_result",
          "data": {
            "text/plain": [
              "[90, 89, 78, 67, 56, 45]"
            ]
          },
          "metadata": {},
          "execution_count": 41
        }
      ]
    },
    {
      "cell_type": "markdown",
      "source": [
        "Python Operators\n",
        "1. arithmetic operator\n",
        "2. Assignment operator\n",
        "3. Comparison operator\n",
        "4. Logical Operator"
      ],
      "metadata": {
        "id": "rFHHmYrzEC7H"
      }
    },
    {
      "cell_type": "code",
      "source": [
        "a = 10\n",
        "b = 5\n",
        "\n",
        "print(a+b)\n",
        "print(a-b)\n",
        "print(a*b)\n",
        "print(a/b)\n",
        "\n",
        "a = 13\n",
        "b =3\n",
        "\n",
        "print(a%b) # Modulus\n",
        "print(a//b) # Floor division\n",
        "print(a**b) # Exponentiation"
      ],
      "metadata": {
        "colab": {
          "base_uri": "https://localhost:8080/"
        },
        "id": "aK7JGNq3EUpu",
        "outputId": "78fefb0a-4aa0-44f4-db4c-c3456418a7f2"
      },
      "execution_count": null,
      "outputs": [
        {
          "output_type": "stream",
          "name": "stdout",
          "text": [
            "15\n",
            "5\n",
            "50\n",
            "2.0\n",
            "1\n",
            "4\n",
            "2197\n"
          ]
        }
      ]
    },
    {
      "cell_type": "code",
      "source": [
        "a = a + b"
      ],
      "metadata": {
        "id": "JKbUTearGoDq"
      },
      "execution_count": null,
      "outputs": []
    },
    {
      "cell_type": "code",
      "source": [
        "a = 10\n",
        "b = 20\n",
        "print(a+b)"
      ],
      "metadata": {
        "colab": {
          "base_uri": "https://localhost:8080/"
        },
        "id": "vf9fae0HHRMK",
        "outputId": "a6fcbeb7-7d02-4a29-c870-47aaaf86ed8d"
      },
      "execution_count": null,
      "outputs": [
        {
          "output_type": "stream",
          "name": "stdout",
          "text": [
            "30\n"
          ]
        }
      ]
    },
    {
      "cell_type": "code",
      "source": [
        "a = 10\n",
        "b =20\n",
        "a +=b\n",
        "print (a)"
      ],
      "metadata": {
        "colab": {
          "base_uri": "https://localhost:8080/"
        },
        "id": "XNM1c5LMHdly",
        "outputId": "01ce20a6-f408-4457-f0cb-ddd584924327"
      },
      "execution_count": null,
      "outputs": [
        {
          "output_type": "stream",
          "name": "stdout",
          "text": [
            "30\n"
          ]
        }
      ]
    },
    {
      "cell_type": "code",
      "source": [
        "a = 10\n",
        "b = 20\n",
        "a -=b\n",
        "print(a)\n"
      ],
      "metadata": {
        "colab": {
          "base_uri": "https://localhost:8080/"
        },
        "id": "urHeI30rHdj4",
        "outputId": "595a6a34-6317-498c-a071-b53f515d8880"
      },
      "execution_count": null,
      "outputs": [
        {
          "output_type": "stream",
          "name": "stdout",
          "text": [
            "-10\n"
          ]
        }
      ]
    },
    {
      "cell_type": "code",
      "source": [
        "a = 10\n",
        "b = 20\n",
        "\n",
        "a *=b\n",
        "print(a)"
      ],
      "metadata": {
        "colab": {
          "base_uri": "https://localhost:8080/"
        },
        "id": "g02jVo_6H5oN",
        "outputId": "3122b861-6690-465d-f0a2-adb77589d468"
      },
      "execution_count": null,
      "outputs": [
        {
          "output_type": "stream",
          "name": "stdout",
          "text": [
            "200\n"
          ]
        }
      ]
    },
    {
      "cell_type": "code",
      "source": [
        "a = 10\n",
        "b = 20\n",
        "\n",
        "a /=b\n",
        "print(a)"
      ],
      "metadata": {
        "colab": {
          "base_uri": "https://localhost:8080/"
        },
        "id": "15VlNkv_ICeN",
        "outputId": "e0b9183d-ed26-400a-dfef-e8c8209f9abc"
      },
      "execution_count": null,
      "outputs": [
        {
          "output_type": "stream",
          "name": "stdout",
          "text": [
            "0.5\n"
          ]
        }
      ]
    },
    {
      "cell_type": "code",
      "source": [
        "a = 10\n",
        "b = 20\n",
        "\n",
        "a %=b\n",
        "print(a)"
      ],
      "metadata": {
        "colab": {
          "base_uri": "https://localhost:8080/"
        },
        "id": "RNzhUL1uIKEM",
        "outputId": "94350cd7-0b16-49a9-9c41-822c5bf29f5d"
      },
      "execution_count": null,
      "outputs": [
        {
          "output_type": "stream",
          "name": "stdout",
          "text": [
            "10\n"
          ]
        }
      ]
    },
    {
      "cell_type": "code",
      "source": [
        "a = 10\n",
        "b = 20\n",
        "a //=b\n",
        "print(a)"
      ],
      "metadata": {
        "colab": {
          "base_uri": "https://localhost:8080/"
        },
        "id": "GuKSri73IRQk",
        "outputId": "79492a3c-979a-4cd9-8684-c1fb9efdd6ea"
      },
      "execution_count": null,
      "outputs": [
        {
          "output_type": "stream",
          "name": "stdout",
          "text": [
            "0\n"
          ]
        }
      ]
    },
    {
      "cell_type": "code",
      "source": [
        "a = 10\n",
        "b = 20\n",
        "a **=b\n",
        "print(a)"
      ],
      "metadata": {
        "colab": {
          "base_uri": "https://localhost:8080/"
        },
        "id": "T-_JNTnaIZcG",
        "outputId": "4a641905-661e-407a-f12e-a034b4c91014"
      },
      "execution_count": null,
      "outputs": [
        {
          "output_type": "stream",
          "name": "stdout",
          "text": [
            "100000000000000000000\n"
          ]
        }
      ]
    },
    {
      "cell_type": "code",
      "source": [
        "a = 10\n",
        "b = 20\n",
        "\n",
        "a == b\n"
      ],
      "metadata": {
        "colab": {
          "base_uri": "https://localhost:8080/"
        },
        "id": "uw_B-73nKVEG",
        "outputId": "1a751feb-bdf7-4c8c-cdd6-a77bc81efa4b"
      },
      "execution_count": null,
      "outputs": [
        {
          "output_type": "execute_result",
          "data": {
            "text/plain": [
              "False"
            ]
          },
          "metadata": {},
          "execution_count": 62
        }
      ]
    },
    {
      "cell_type": "code",
      "source": [
        "a = 10\n",
        "b = 20\n",
        "\n",
        "a !=b\n"
      ],
      "metadata": {
        "colab": {
          "base_uri": "https://localhost:8080/"
        },
        "id": "7n3D_X-OK_xU",
        "outputId": "8b612485-3157-4134-b8ca-96f6bc85c6cc"
      },
      "execution_count": null,
      "outputs": [
        {
          "output_type": "execute_result",
          "data": {
            "text/plain": [
              "True"
            ]
          },
          "metadata": {},
          "execution_count": 61
        }
      ]
    },
    {
      "cell_type": "code",
      "source": [
        "a = 10\n",
        "b = 20\n",
        "\n",
        "a > b\n"
      ],
      "metadata": {
        "colab": {
          "base_uri": "https://localhost:8080/"
        },
        "id": "1oHXKjD3LKHs",
        "outputId": "72f3801f-c10d-488a-9d18-f7727729e484"
      },
      "execution_count": null,
      "outputs": [
        {
          "output_type": "execute_result",
          "data": {
            "text/plain": [
              "False"
            ]
          },
          "metadata": {},
          "execution_count": 60
        }
      ]
    },
    {
      "cell_type": "code",
      "source": [
        "a = 10\n",
        "b = 20\n",
        "\n",
        "a < b"
      ],
      "metadata": {
        "colab": {
          "base_uri": "https://localhost:8080/"
        },
        "id": "NOQsKSRgLjGk",
        "outputId": "94ae3ce1-506a-4647-e7ba-7a8b00f0b22a"
      },
      "execution_count": null,
      "outputs": [
        {
          "output_type": "execute_result",
          "data": {
            "text/plain": [
              "True"
            ]
          },
          "metadata": {},
          "execution_count": 63
        }
      ]
    },
    {
      "cell_type": "code",
      "source": [
        "a = 10\n",
        "b = 20\n",
        "\n",
        "a >= b"
      ],
      "metadata": {
        "colab": {
          "base_uri": "https://localhost:8080/"
        },
        "id": "rRu_SCptLwcr",
        "outputId": "ac20c544-17cc-4f01-e4ce-e1245f30ddba"
      },
      "execution_count": null,
      "outputs": [
        {
          "output_type": "execute_result",
          "data": {
            "text/plain": [
              "False"
            ]
          },
          "metadata": {},
          "execution_count": 64
        }
      ]
    },
    {
      "cell_type": "code",
      "source": [
        "a = 10\n",
        "b = 20\n",
        "\n",
        "a <= b"
      ],
      "metadata": {
        "colab": {
          "base_uri": "https://localhost:8080/"
        },
        "id": "z1Z861F_L28D",
        "outputId": "76746740-e9ec-4725-f8e6-4748cba1052f"
      },
      "execution_count": null,
      "outputs": [
        {
          "output_type": "execute_result",
          "data": {
            "text/plain": [
              "True"
            ]
          },
          "metadata": {},
          "execution_count": 65
        }
      ]
    },
    {
      "cell_type": "code",
      "source": [
        "a = 10\n",
        "b = 20\n",
        "\n",
        "a < 5 and b < 10"
      ],
      "metadata": {
        "colab": {
          "base_uri": "https://localhost:8080/"
        },
        "id": "pxutwFhrMFnq",
        "outputId": "6ad376cf-a3b2-474a-8b9b-cd17777c540e"
      },
      "execution_count": null,
      "outputs": [
        {
          "output_type": "execute_result",
          "data": {
            "text/plain": [
              "False"
            ]
          },
          "metadata": {},
          "execution_count": 69
        }
      ]
    },
    {
      "cell_type": "code",
      "source": [
        "a = 10\n",
        "b = 20\n",
        "\n",
        "a < 5 or b < 4"
      ],
      "metadata": {
        "colab": {
          "base_uri": "https://localhost:8080/"
        },
        "id": "zKL5GpRFMzGY",
        "outputId": "a44c4b18-d790-4d49-af8c-09b55b56a153"
      },
      "execution_count": null,
      "outputs": [
        {
          "output_type": "execute_result",
          "data": {
            "text/plain": [
              "False"
            ]
          },
          "metadata": {},
          "execution_count": 70
        }
      ]
    },
    {
      "cell_type": "code",
      "source": [
        "a = 10\n",
        "b = 20\n",
        "\n",
        "not (a <5 and b < 10)"
      ],
      "metadata": {
        "colab": {
          "base_uri": "https://localhost:8080/"
        },
        "id": "CZ-Tb7AoNO3P",
        "outputId": "4c720ec0-09f2-4739-8400-d67598b347cf"
      },
      "execution_count": null,
      "outputs": [
        {
          "output_type": "execute_result",
          "data": {
            "text/plain": [
              "True"
            ]
          },
          "metadata": {},
          "execution_count": 71
        }
      ]
    },
    {
      "cell_type": "code",
      "source": [],
      "metadata": {
        "id": "e7HMKzJHPFh7"
      },
      "execution_count": null,
      "outputs": []
    },
    {
      "cell_type": "code",
      "source": [],
      "metadata": {
        "id": "COz9wRb0jjp6"
      },
      "execution_count": null,
      "outputs": []
    },
    {
      "cell_type": "markdown",
      "source": [
        "Thursday Dec 07 2023"
      ],
      "metadata": {
        "id": "mNWC_UGvAe7_"
      }
    },
    {
      "cell_type": "code",
      "source": [
        "a = 10\n",
        "b = 20\n",
        "\n",
        "if a < b:\n",
        "print( 'a is greater than b')\n",
        "else:\n",
        "  print('we are in else part')"
      ],
      "metadata": {
        "colab": {
          "base_uri": "https://localhost:8080/",
          "height": 140
        },
        "id": "r94yLfL0AiyZ",
        "outputId": "39ebbb54-9a86-4182-e6bf-b573b5f2f09d"
      },
      "execution_count": null,
      "outputs": [
        {
          "output_type": "error",
          "ename": "IndentationError",
          "evalue": "ignored",
          "traceback": [
            "\u001b[0;36m  File \u001b[0;32m\"<ipython-input-3-738f3e0b94df>\"\u001b[0;36m, line \u001b[0;32m5\u001b[0m\n\u001b[0;31m    print( 'a is greater than b')\u001b[0m\n\u001b[0m    ^\u001b[0m\n\u001b[0;31mIndentationError\u001b[0m\u001b[0;31m:\u001b[0m expected an indented block after 'if' statement on line 4\n"
          ]
        }
      ]
    },
    {
      "cell_type": "code",
      "source": [
        "a =10\n",
        "b = 20\n",
        "c = 30\n",
        "\n",
        "if (a < b) and (b < c):\n",
        "    print(\"condition is True\")\n"
      ],
      "metadata": {
        "colab": {
          "base_uri": "https://localhost:8080/"
        },
        "id": "3H8U7HaeBdul",
        "outputId": "1ccc25be-63a0-4f1c-ce54-d28b673408e1"
      },
      "execution_count": null,
      "outputs": [
        {
          "output_type": "stream",
          "name": "stdout",
          "text": [
            "condition is True\n"
          ]
        }
      ]
    },
    {
      "cell_type": "code",
      "source": [
        "a =10\n",
        "b = 20\n",
        "c = 30\n",
        "\n",
        "if (a > b) or (b < c):\n",
        "    print(\"condition is True\")"
      ],
      "metadata": {
        "colab": {
          "base_uri": "https://localhost:8080/"
        },
        "id": "kZBGjpGKB1st",
        "outputId": "994977bc-2957-4e76-f12f-3a1b8ca1f9ce"
      },
      "execution_count": null,
      "outputs": [
        {
          "output_type": "stream",
          "name": "stdout",
          "text": [
            "condition is True\n"
          ]
        }
      ]
    },
    {
      "cell_type": "code",
      "source": [
        "a =10\n",
        "b = 20\n",
        "c = 30\n",
        "\n",
        "if (a > b) or (b < c):\n",
        "    print(\"condition is True\")"
      ],
      "metadata": {
        "colab": {
          "base_uri": "https://localhost:8080/"
        },
        "id": "fAANiAfzB9PS",
        "outputId": "058af123-8cb1-4f61-d5e7-aa9df8c6eb49"
      },
      "execution_count": null,
      "outputs": [
        {
          "output_type": "stream",
          "name": "stdout",
          "text": [
            "condition is True\n"
          ]
        }
      ]
    },
    {
      "cell_type": "code",
      "source": [
        "a =10\n",
        "b = 20\n",
        "c = 30\n",
        "\n",
        "if (a < b) and ((b < c) or (a < c)):\n",
        "    print(\"condition is True\")"
      ],
      "metadata": {
        "colab": {
          "base_uri": "https://localhost:8080/"
        },
        "id": "ReQ0ICZaCESS",
        "outputId": "093086ef-df96-4d0e-9202-5e6c961c04c8"
      },
      "execution_count": null,
      "outputs": [
        {
          "output_type": "stream",
          "name": "stdout",
          "text": [
            "condition is True\n"
          ]
        }
      ]
    },
    {
      "cell_type": "code",
      "source": [
        "a =10\n",
        "b = 20\n",
        "c = 30\n",
        "\n",
        "if (a < b) and (b < c) or (a < c):\n",
        "    print(\"condition is True\")"
      ],
      "metadata": {
        "colab": {
          "base_uri": "https://localhost:8080/"
        },
        "id": "ixDO8MzlCuOo",
        "outputId": "9368d90e-1304-4b6d-afa8-4508ee973cbf"
      },
      "execution_count": null,
      "outputs": [
        {
          "output_type": "stream",
          "name": "stdout",
          "text": [
            "condition is True\n"
          ]
        }
      ]
    },
    {
      "cell_type": "code",
      "source": [
        "a =10\n",
        "b = 20\n",
        "c = 30\n",
        "\n",
        "if a < b:\n",
        "    print('a < b')\n",
        "elif b < c:\n",
        "    print('b < c')\n",
        "elif a < c:\n",
        "    print('a < c')"
      ],
      "metadata": {
        "colab": {
          "base_uri": "https://localhost:8080/"
        },
        "id": "8HAvaA22FuUz",
        "outputId": "df224209-2823-41af-f129-d9ec4a51cd3c"
      },
      "execution_count": null,
      "outputs": [
        {
          "output_type": "stream",
          "name": "stdout",
          "text": [
            "a < b\n"
          ]
        }
      ]
    },
    {
      "cell_type": "code",
      "source": [
        "a =10\n",
        "b = 20\n",
        "c = 30\n",
        "\n",
        "if a > b:\n",
        "    print('a > b')\n",
        "elif b > c:\n",
        "    print('b > c')\n",
        "elif a > c:\n",
        "    print('a > c')\n",
        "else:\n",
        "    print('we are in else part')"
      ],
      "metadata": {
        "colab": {
          "base_uri": "https://localhost:8080/"
        },
        "id": "9GiAfr1IGdHa",
        "outputId": "e677f490-7346-4f68-ecf4-b4e5e5dfd71f"
      },
      "execution_count": null,
      "outputs": [
        {
          "output_type": "stream",
          "name": "stdout",
          "text": [
            "we are in else part\n"
          ]
        }
      ]
    },
    {
      "cell_type": "code",
      "source": [
        "a = 10\n",
        "b = 100\n",
        "if a < 100:\n",
        "  print('a < 20')\n",
        "  if a < 85:\n",
        "    print('a < 85')\n",
        "    if a < 70:\n",
        "      print('a < 70')\n",
        "      if a < 55:\n",
        "        print('a < 55')\n",
        "      else:\n",
        "        print('else a < 55')\n",
        "    else:\n",
        "      print('else a < 70')\n",
        "  else:\n",
        "    print('else a < 85')\n",
        "else:\n",
        "  print('else a < 100')"
      ],
      "metadata": {
        "colab": {
          "base_uri": "https://localhost:8080/"
        },
        "id": "yOMS_RZiIR_X",
        "outputId": "3ecb6078-0526-471f-da53-e5c6794ab1ab"
      },
      "execution_count": null,
      "outputs": [
        {
          "output_type": "stream",
          "name": "stdout",
          "text": [
            "a < 20\n",
            "a < 85\n",
            "a < 70\n",
            "a < 55\n"
          ]
        }
      ]
    },
    {
      "cell_type": "code",
      "source": [
        "a = 10\n",
        "b = 100\n",
        "if a < 100:\n",
        "  print('a < 20')\n",
        "  if a < 85:\n",
        "    print('a < 85')\n",
        "    if a < 70:\n",
        "      print('a < 70')\n",
        "      if a < 55:\n",
        "        print('a < 55')\n",
        "      else:\n",
        "        print('else a < 55')\n",
        "    else:\n",
        "      print('else a < 70')\n",
        "  else:\n",
        "    print('else a < 85')\n",
        "else:\n",
        "  print('else a < 100')"
      ],
      "metadata": {
        "colab": {
          "base_uri": "https://localhost:8080/"
        },
        "id": "LCIQ_k2MJlK0",
        "outputId": "86bf0e5d-59a0-4d8e-f0ce-03f188e1e70d"
      },
      "execution_count": null,
      "outputs": [
        {
          "output_type": "stream",
          "name": "stdout",
          "text": [
            "a < 20\n",
            "a < 85\n",
            "a < 70\n",
            "a < 55\n"
          ]
        }
      ]
    },
    {
      "cell_type": "code",
      "source": [
        "from re import I\n",
        "\n",
        "a = 0\n",
        "for i in range(1, 1000001, 1):\n",
        "  a += i\n",
        "print(a)\n"
      ],
      "metadata": {
        "colab": {
          "base_uri": "https://localhost:8080/"
        },
        "id": "aIdKwr3PNhZO",
        "outputId": "154a93b9-4019-4a00-ac9f-3273e0526490"
      },
      "execution_count": null,
      "outputs": [
        {
          "output_type": "stream",
          "name": "stdout",
          "text": [
            "500000500000\n"
          ]
        }
      ]
    },
    {
      "cell_type": "code",
      "source": [
        "i = 1\n",
        "a = 0\n",
        "\n",
        "while i < 101:\n",
        "  a += i\n",
        "  i += 1\n",
        "\n",
        "print (a)"
      ],
      "metadata": {
        "colab": {
          "base_uri": "https://localhost:8080/"
        },
        "id": "9YIlZ2V6N9Fc",
        "outputId": "639ead4d-c98e-47f2-a77a-3e9a059be138"
      },
      "execution_count": null,
      "outputs": [
        {
          "output_type": "stream",
          "name": "stdout",
          "text": [
            "5050\n"
          ]
        }
      ]
    },
    {
      "cell_type": "code",
      "source": [
        "i = 1\n",
        "a = 0\n",
        "\n",
        "while i < 101: # 1, 2, 3, 4, 5...99, 100\n",
        "  a += i # 1,3,6,10,15... 5050\n",
        "  i += 1 # 2,3,4,5,6\n",
        "\n",
        "print (a)"
      ],
      "metadata": {
        "colab": {
          "base_uri": "https://localhost:8080/"
        },
        "id": "QH5TXpDLPXzq",
        "outputId": "ef705c85-155a-441d-a90d-1da44ae087d5"
      },
      "execution_count": null,
      "outputs": [
        {
          "output_type": "stream",
          "name": "stdout",
          "text": [
            "5050\n"
          ]
        }
      ]
    },
    {
      "cell_type": "code",
      "source": [
        "i = 100\n",
        "a = 0\n",
        "\n",
        "while i < 101:\n",
        "  a += i\n",
        "  i += 1\n",
        "\n",
        "print (a)"
      ],
      "metadata": {
        "colab": {
          "base_uri": "https://localhost:8080/"
        },
        "id": "Dgzhqv3wQhX_",
        "outputId": "55fb64a6-b021-4951-d961-473a8a426835"
      },
      "execution_count": null,
      "outputs": [
        {
          "output_type": "stream",
          "name": "stdout",
          "text": [
            "100\n"
          ]
        }
      ]
    },
    {
      "cell_type": "code",
      "source": [
        "a = 100\n",
        "for i in range(1, 1001, 1):\n",
        "  a += i\n",
        "print(a)"
      ],
      "metadata": {
        "colab": {
          "base_uri": "https://localhost:8080/"
        },
        "id": "Is8XaJ1OQv9O",
        "outputId": "ea7fba68-1f63-4480-c04a-f8485368f40b"
      },
      "execution_count": null,
      "outputs": [
        {
          "output_type": "stream",
          "name": "stdout",
          "text": [
            "500600\n"
          ]
        }
      ]
    },
    {
      "cell_type": "code",
      "source": [
        "i = 1\n",
        "a = 0\n",
        "\n",
        "while i < 100:\n",
        "  a += i\n",
        "  i += 1\n",
        "\n",
        "print(a)"
      ],
      "metadata": {
        "colab": {
          "base_uri": "https://localhost:8080/"
        },
        "id": "AaJ7G3xuRGdW",
        "outputId": "468696ae-b74e-48e6-d13e-1b4fd7fe645c"
      },
      "execution_count": null,
      "outputs": [
        {
          "output_type": "stream",
          "name": "stdout",
          "text": [
            "4950\n"
          ]
        }
      ]
    },
    {
      "cell_type": "code",
      "source": [
        "i = 1\n",
        "a = 0\n",
        "while i<101:\n",
        "  a += i\n",
        "  i += 1\n",
        "print(a)"
      ],
      "metadata": {
        "colab": {
          "base_uri": "https://localhost:8080/"
        },
        "id": "5-ButQHDSZej",
        "outputId": "090e3726-1b5c-4ce3-8100-56e530e8ae4e"
      },
      "execution_count": null,
      "outputs": [
        {
          "output_type": "stream",
          "name": "stdout",
          "text": [
            "5050\n"
          ]
        }
      ]
    },
    {
      "cell_type": "code",
      "source": [
        "a = 0\n",
        "for i in range(1, 1001, 1):\n",
        "  a -= i\n",
        "print(a)"
      ],
      "metadata": {
        "colab": {
          "base_uri": "https://localhost:8080/"
        },
        "id": "ilbtQuQnS9Bj",
        "outputId": "e7bb26ea-1cc3-4f74-f5cc-bf5733cf6d9e"
      },
      "execution_count": null,
      "outputs": [
        {
          "output_type": "stream",
          "name": "stdout",
          "text": [
            "-500500\n"
          ]
        }
      ]
    },
    {
      "cell_type": "code",
      "source": [
        "a = 0\n",
        "for i in range(0, 100, )"
      ],
      "metadata": {
        "id": "1o9IB3XVUnow"
      },
      "execution_count": null,
      "outputs": []
    },
    {
      "cell_type": "code",
      "source": [
        "\n",
        "a = 0\n",
        "for i in range(1, 101, 1):\n",
        "  a += i\n",
        "else:\n",
        "  print('we are in else part')\n",
        "  print(a)"
      ],
      "metadata": {
        "colab": {
          "base_uri": "https://localhost:8080/"
        },
        "id": "ayEYwLPLXEmC",
        "outputId": "eb3e0594-a2d7-432e-fd20-f397c5574cb3"
      },
      "execution_count": null,
      "outputs": [
        {
          "output_type": "stream",
          "name": "stdout",
          "text": [
            "we are in else part\n",
            "5050\n"
          ]
        }
      ]
    },
    {
      "cell_type": "code",
      "source": [],
      "metadata": {
        "id": "tElz53O3XlHi"
      },
      "execution_count": null,
      "outputs": []
    },
    {
      "cell_type": "code",
      "source": [
        "i = 1\n",
        "a = 0\n",
        "\n",
        "while i < 101:\n",
        "  a += i\n",
        "  i += 1\n",
        "\n",
        "else:\n",
        "  print('we are in else part')\n",
        "print(a)"
      ],
      "metadata": {
        "colab": {
          "base_uri": "https://localhost:8080/"
        },
        "id": "4y5peO45Xp6q",
        "outputId": "0d0f7288-3d24-4de6-8386-1119d3bc2faf"
      },
      "execution_count": null,
      "outputs": [
        {
          "output_type": "stream",
          "name": "stdout",
          "text": [
            "we are in else part\n",
            "5050\n"
          ]
        }
      ]
    },
    {
      "cell_type": "code",
      "source": [
        "a = 0\n",
        "for i in range(100, 0, 1):\n",
        "  a += i\n",
        "else:\n",
        "  print('we are in else part')\n",
        "  print(a)"
      ],
      "metadata": {
        "id": "S0hgZrySYHxS",
        "outputId": "f8a8751c-caed-4cf4-c990-419c52d1e776",
        "colab": {
          "base_uri": "https://localhost:8080/"
        }
      },
      "execution_count": null,
      "outputs": [
        {
          "output_type": "stream",
          "name": "stdout",
          "text": [
            "we are in else part\n",
            "0\n"
          ]
        }
      ]
    },
    {
      "cell_type": "code",
      "source": [],
      "metadata": {
        "id": "Ijx7QxfPCY3Y"
      },
      "execution_count": null,
      "outputs": []
    },
    {
      "cell_type": "code",
      "source": [
        "Friday  Dec 08,2023\n"
      ],
      "metadata": {
        "colab": {
          "base_uri": "https://localhost:8080/",
          "height": 145
        },
        "id": "LLGTqLw6CY0Y",
        "outputId": "bec1113f-b932-4335-dfa4-c992f2dc1af4"
      },
      "execution_count": null,
      "outputs": [
        {
          "output_type": "error",
          "ename": "SyntaxError",
          "evalue": "ignored",
          "traceback": [
            "\u001b[0;36m  File \u001b[0;32m\"<ipython-input-1-c373f7b05de1>\"\u001b[0;36m, line \u001b[0;32m1\u001b[0m\n\u001b[0;31m    Friday  Dec 08,2023\u001b[0m\n\u001b[0m                ^\u001b[0m\n\u001b[0;31mSyntaxError\u001b[0m\u001b[0;31m:\u001b[0m leading zeros in decimal integer literals are not permitted; use an 0o prefix for octal integers\n"
          ]
        }
      ]
    },
    {
      "cell_type": "code",
      "source": [
        "\n"
      ],
      "metadata": {
        "id": "fYSc9hhWGsKO"
      },
      "execution_count": null,
      "outputs": []
    },
    {
      "cell_type": "markdown",
      "source": [
        "85% first classs distinction\n",
        "75% - 60% first calss\n",
        "59.99% - 40% second class\n"
      ],
      "metadata": {
        "id": "n9XvC3NBG6QV"
      }
    },
    {
      "cell_type": "code",
      "source": [
        "student_lst1 = [98, 90, 80, 87, 76, 70, 65, 60, 54, 50, 43, 40]\n",
        "\n",
        "for i in student_lst1:\n",
        "  print(\"Percentage Achieved\", i)\n",
        "  if i >=85:\n",
        "    print('...Pass with First Class Distinction')\n",
        "  elif i >= 60:\n",
        "    print('...Pass with First Class')\n",
        "  elif i >= 40:\n",
        "    print('...Pass with second class')\n",
        "  else:\n",
        "    print('...Better luck next time')\n",
        "\n"
      ],
      "metadata": {
        "colab": {
          "base_uri": "https://localhost:8080/"
        },
        "id": "dCG6jr6RHKRv",
        "outputId": "067ce415-b01c-4e1f-f20c-b168f0910e7f"
      },
      "execution_count": null,
      "outputs": [
        {
          "output_type": "stream",
          "name": "stdout",
          "text": [
            "Percentage Achieved 98\n",
            "...Pass with First Class Distinction\n",
            "Percentage Achieved 90\n",
            "...Pass with First Class Distinction\n",
            "Percentage Achieved 80\n",
            "...Pass with First Class\n",
            "Percentage Achieved 87\n",
            "...Pass with First Class Distinction\n",
            "Percentage Achieved 76\n",
            "...Pass with First Class\n",
            "Percentage Achieved 70\n",
            "...Pass with First Class\n",
            "Percentage Achieved 65\n",
            "...Pass with First Class\n",
            "Percentage Achieved 60\n",
            "...Pass with First Class\n",
            "Percentage Achieved 54\n",
            "...Pass with second class\n",
            "Percentage Achieved 50\n",
            "...Pass with second class\n",
            "Percentage Achieved 43\n",
            "...Pass with second class\n",
            "Percentage Achieved 40\n",
            "...Pass with second class\n"
          ]
        }
      ]
    },
    {
      "cell_type": "code",
      "source": [
        "student_name = ['Ram']\n",
        "student_sub = ['eng', 'math', 'science', 'so.sci', 'pt']\n",
        "student_marks_1 = [98,87,76,65,54]\n",
        "\n",
        "for i in student_name:\n",
        "  sub_tot = 0\n",
        "  for j in student_marks_1:\n",
        "    sub_tot += j\n",
        "  print(i, 'achieved', sub_tot, 'marks.')\n",
        "\n"
      ],
      "metadata": {
        "colab": {
          "base_uri": "https://localhost:8080/"
        },
        "id": "Oeve-IPeJB1D",
        "outputId": "0972684a-d3ea-419c-f73a-5342c84d6362"
      },
      "execution_count": null,
      "outputs": [
        {
          "output_type": "stream",
          "name": "stdout",
          "text": [
            "Ram achieved 380 marks.\n"
          ]
        }
      ]
    },
    {
      "cell_type": "code",
      "source": [
        "student_name = ['Ram', 'shyam', 'shiv', 'shanker']\n",
        "student_sub = ['eng', 'math', 'science', 'so.sci', 'pt']\n",
        "student_marks_1 = [[98,87,76,65,54]\n",
        "                  [45,54,56,67,78]\n",
        "                  [78,76,78,79,75]\n",
        "                  [56,56,67,78,89]]\n",
        "\n",
        "for i in student_name:\n",
        "  sub_tot = 0\n",
        "  for j in student_marks_1:\n",
        "    sub_tot += j\n",
        "  print(i, 'achieved', sub_tot, 'marks.')"
      ],
      "metadata": {
        "colab": {
          "base_uri": "https://localhost:8080/",
          "height": 327
        },
        "id": "1AumuhnSLhF9",
        "outputId": "701dd987-5f51-4b99-f160-6b8c0dff9ad8"
      },
      "execution_count": null,
      "outputs": [
        {
          "output_type": "stream",
          "name": "stderr",
          "text": [
            "<>:3: SyntaxWarning: list indices must be integers or slices, not tuple; perhaps you missed a comma?\n",
            "<>:3: SyntaxWarning: list indices must be integers or slices, not tuple; perhaps you missed a comma?\n",
            "<ipython-input-11-394150ced3eb>:3: SyntaxWarning: list indices must be integers or slices, not tuple; perhaps you missed a comma?\n",
            "  student_marks_1 = [[98,87,76,65,54]\n"
          ]
        },
        {
          "output_type": "error",
          "ename": "TypeError",
          "evalue": "ignored",
          "traceback": [
            "\u001b[0;31m---------------------------------------------------------------------------\u001b[0m",
            "\u001b[0;31mTypeError\u001b[0m                                 Traceback (most recent call last)",
            "\u001b[0;32m<ipython-input-11-394150ced3eb>\u001b[0m in \u001b[0;36m<cell line: 3>\u001b[0;34m()\u001b[0m\n\u001b[1;32m      1\u001b[0m \u001b[0mstudent_name\u001b[0m \u001b[0;34m=\u001b[0m \u001b[0;34m[\u001b[0m\u001b[0;34m'Ram'\u001b[0m\u001b[0;34m,\u001b[0m \u001b[0;34m'shyam'\u001b[0m\u001b[0;34m,\u001b[0m \u001b[0;34m'shiv'\u001b[0m\u001b[0;34m,\u001b[0m \u001b[0;34m'shanker'\u001b[0m\u001b[0;34m]\u001b[0m\u001b[0;34m\u001b[0m\u001b[0;34m\u001b[0m\u001b[0m\n\u001b[1;32m      2\u001b[0m \u001b[0mstudent_sub\u001b[0m \u001b[0;34m=\u001b[0m \u001b[0;34m[\u001b[0m\u001b[0;34m'eng'\u001b[0m\u001b[0;34m,\u001b[0m \u001b[0;34m'math'\u001b[0m\u001b[0;34m,\u001b[0m \u001b[0;34m'science'\u001b[0m\u001b[0;34m,\u001b[0m \u001b[0;34m'so.sci'\u001b[0m\u001b[0;34m,\u001b[0m \u001b[0;34m'pt'\u001b[0m\u001b[0;34m]\u001b[0m\u001b[0;34m\u001b[0m\u001b[0;34m\u001b[0m\u001b[0m\n\u001b[0;32m----> 3\u001b[0;31m student_marks_1 = [[98,87,76,65,54]\n\u001b[0m\u001b[1;32m      4\u001b[0m                   \u001b[0;34m[\u001b[0m\u001b[0;36m45\u001b[0m\u001b[0;34m,\u001b[0m\u001b[0;36m54\u001b[0m\u001b[0;34m,\u001b[0m\u001b[0;36m56\u001b[0m\u001b[0;34m,\u001b[0m\u001b[0;36m67\u001b[0m\u001b[0;34m,\u001b[0m\u001b[0;36m78\u001b[0m\u001b[0;34m]\u001b[0m\u001b[0;34m\u001b[0m\u001b[0;34m\u001b[0m\u001b[0m\n\u001b[1;32m      5\u001b[0m                   \u001b[0;34m[\u001b[0m\u001b[0;36m78\u001b[0m\u001b[0;34m,\u001b[0m\u001b[0;36m76\u001b[0m\u001b[0;34m,\u001b[0m\u001b[0;36m78\u001b[0m\u001b[0;34m,\u001b[0m\u001b[0;36m79\u001b[0m\u001b[0;34m,\u001b[0m\u001b[0;36m75\u001b[0m\u001b[0;34m]\u001b[0m\u001b[0;34m\u001b[0m\u001b[0;34m\u001b[0m\u001b[0m\n",
            "\u001b[0;31mTypeError\u001b[0m: list indices must be integers or slices, not tuple"
          ]
        }
      ]
    },
    {
      "cell_type": "code",
      "source": [
        "\n",
        "for i in range(10):\n",
        "  for j in range(10):\n",
        "    print('*', end='')\n",
        "  print('\\n')"
      ],
      "metadata": {
        "colab": {
          "base_uri": "https://localhost:8080/"
        },
        "id": "JOCc3i9MNUSR",
        "outputId": "61610216-ea82-48c9-df74-cc59a076e8d9"
      },
      "execution_count": null,
      "outputs": [
        {
          "output_type": "stream",
          "name": "stdout",
          "text": [
            "**********\n",
            "\n",
            "**********\n",
            "\n",
            "**********\n",
            "\n",
            "**********\n",
            "\n",
            "**********\n",
            "\n",
            "**********\n",
            "\n",
            "**********\n",
            "\n",
            "**********\n",
            "\n",
            "**********\n",
            "\n",
            "**********\n",
            "\n"
          ]
        }
      ]
    },
    {
      "cell_type": "code",
      "source": [
        "for i in range(10):\n",
        "  for j in range(10):\n",
        "    #for k in range (10):\n",
        "    print('*', end=' ')\n",
        "  print('')"
      ],
      "metadata": {
        "colab": {
          "base_uri": "https://localhost:8080/"
        },
        "id": "sG4p61oqNm6Q",
        "outputId": "22aca0ec-e488-47ee-fc71-2668f328c090"
      },
      "execution_count": null,
      "outputs": [
        {
          "output_type": "stream",
          "name": "stdout",
          "text": [
            "* * * * * * * * * * \n",
            "* * * * * * * * * * \n",
            "* * * * * * * * * * \n",
            "* * * * * * * * * * \n",
            "* * * * * * * * * * \n",
            "* * * * * * * * * * \n",
            "* * * * * * * * * * \n",
            "* * * * * * * * * * \n",
            "* * * * * * * * * * \n",
            "* * * * * * * * * * \n"
          ]
        }
      ]
    },
    {
      "cell_type": "code",
      "source": [
        "\n",
        "for i in range(10):\n",
        "  for j in range(i + 1):\n",
        "    print('*', end=' ')\n",
        "  print('')"
      ],
      "metadata": {
        "colab": {
          "base_uri": "https://localhost:8080/"
        },
        "id": "l5BBHKUSP5ae",
        "outputId": "9c30b02e-6058-46db-8291-6d846d02ec7a"
      },
      "execution_count": null,
      "outputs": [
        {
          "output_type": "stream",
          "name": "stdout",
          "text": [
            "* \n",
            "* * \n",
            "* * * \n",
            "* * * * \n",
            "* * * * * \n",
            "* * * * * * \n",
            "* * * * * * * \n",
            "* * * * * * * * \n",
            "* * * * * * * * * \n",
            "* * * * * * * * * * \n"
          ]
        }
      ]
    },
    {
      "cell_type": "code",
      "source": [],
      "metadata": {
        "id": "dP0p5u4DO2uP"
      },
      "execution_count": null,
      "outputs": []
    },
    {
      "cell_type": "code",
      "source": [
        "height = 10\n",
        "\n",
        "for i in range(height):\n",
        "\n",
        "    for j in range(height - i - 1):\n",
        "        print(' ', end=' ')\n",
        "\n",
        "\n",
        "    for k in range(2 * i + 1):\n",
        "        print('*', end=' ')\n",
        "\n",
        "\n",
        "    print('')"
      ],
      "metadata": {
        "colab": {
          "base_uri": "https://localhost:8080/"
        },
        "id": "RtkSZ3jSQWz0",
        "outputId": "2bf3985d-f800-4736-bff3-b83223bc005f"
      },
      "execution_count": null,
      "outputs": [
        {
          "output_type": "stream",
          "name": "stdout",
          "text": [
            "                  * \n",
            "                * * * \n",
            "              * * * * * \n",
            "            * * * * * * * \n",
            "          * * * * * * * * * \n",
            "        * * * * * * * * * * * \n",
            "      * * * * * * * * * * * * * \n",
            "    * * * * * * * * * * * * * * * \n",
            "  * * * * * * * * * * * * * * * * * \n",
            "* * * * * * * * * * * * * * * * * * * \n"
          ]
        }
      ]
    },
    {
      "cell_type": "code",
      "source": [
        "for i in range(10):\n",
        "  for j in range (10-i):\n",
        "    print('', end=' ')\n",
        "  for k in range(i + 1):\n",
        "    print('*', end=' ')\n",
        "  print()"
      ],
      "metadata": {
        "colab": {
          "base_uri": "https://localhost:8080/"
        },
        "id": "4DWqgbAKRedi",
        "outputId": "48aaf3b0-0725-4fce-ffbb-a355e47006fe"
      },
      "execution_count": null,
      "outputs": [
        {
          "output_type": "stream",
          "name": "stdout",
          "text": [
            "          * \n",
            "         * * \n",
            "        * * * \n",
            "       * * * * \n",
            "      * * * * * \n",
            "     * * * * * * \n",
            "    * * * * * * * \n",
            "   * * * * * * * * \n",
            "  * * * * * * * * * \n",
            " * * * * * * * * * * \n"
          ]
        }
      ]
    },
    {
      "cell_type": "code",
      "source": [],
      "metadata": {
        "id": "dq_0kv7qX-LI"
      },
      "execution_count": null,
      "outputs": []
    },
    {
      "cell_type": "code",
      "source": [
        "i = 0\n",
        "while i < 5:\n",
        "    j = 0\n",
        "    while j <= i:\n",
        "        print('*', end=' ')\n",
        "        j += 1\n",
        "    print('')\n",
        "    i += 1"
      ],
      "metadata": {
        "colab": {
          "base_uri": "https://localhost:8080/"
        },
        "id": "O8Uw2JhCe1ij",
        "outputId": "8c568e34-eb19-44b6-ddb8-c01e1461c05d"
      },
      "execution_count": null,
      "outputs": [
        {
          "output_type": "stream",
          "name": "stdout",
          "text": [
            "* \n",
            "* * \n",
            "* * * \n",
            "* * * * \n",
            "* * * * * \n"
          ]
        }
      ]
    },
    {
      "cell_type": "code",
      "source": [
        "rows = 5\n",
        "columns = 5\n",
        "\n",
        "i = 0\n",
        "\n",
        "while i < rows:\n",
        "  j = 0\n",
        "  while j < columns:\n",
        "    print('*', end='')\n",
        "    j += 1\n",
        "  print('')\n",
        "  i +=1\n",
        "\n"
      ],
      "metadata": {
        "colab": {
          "base_uri": "https://localhost:8080/"
        },
        "id": "gAJQgs2nfPux",
        "outputId": "b965cfe5-56aa-49d2-f9fe-7631eab4f598"
      },
      "execution_count": null,
      "outputs": [
        {
          "output_type": "stream",
          "name": "stdout",
          "text": [
            "*****\n",
            "*****\n",
            "*****\n",
            "*****\n",
            "*****\n"
          ]
        }
      ]
    },
    {
      "cell_type": "code",
      "source": [],
      "metadata": {
        "id": "2ogW0F6nhZ63"
      },
      "execution_count": null,
      "outputs": []
    },
    {
      "cell_type": "code",
      "source": [
        "for i in range(0, 10, 1):\n",
        "    for j in range(1, 10, 1):\n",
        "        print('[',i, '-', j,']', end='')\n",
        "\n",
        "    print()"
      ],
      "metadata": {
        "id": "BfU-RpQ9miU2"
      },
      "execution_count": null,
      "outputs": []
    },
    {
      "cell_type": "code",
      "source": [
        "while i in range (0, 10, 1):\n",
        "    while j in range (0, 10, 10):\n",
        "        print()"
      ],
      "metadata": {
        "id": "QbYkSrR6niv6"
      },
      "execution_count": null,
      "outputs": []
    },
    {
      "cell_type": "code",
      "source": [
        "\n",
        "Day 6 Monday, Dec 11, 2023\n",
        "\n",
        "\n"
      ],
      "metadata": {
        "id": "uNGhKJZ-iC4T"
      },
      "execution_count": null,
      "outputs": []
    },
    {
      "cell_type": "code",
      "source": [
        "python Function\n",
        "\n",
        "build in function\n",
        "user define functions\n",
        "lambda functions\n",
        "\n",
        "\n"
      ],
      "metadata": {
        "id": "fy9ynIeuljSc"
      },
      "execution_count": null,
      "outputs": []
    },
    {
      "cell_type": "code",
      "source": [
        "a = int(input('marks in math: '))\n",
        "b = int(input('marks in science'))\n",
        "c = int(input('marks in social'))\n",
        "\n",
        "total = a + b + c\n",
        "print(total)"
      ],
      "metadata": {
        "colab": {
          "base_uri": "https://localhost:8080/"
        },
        "id": "Qb6WPhWxlnbU",
        "outputId": "05465584-78db-43c6-9d47-1a6d3ab6cbd9"
      },
      "execution_count": null,
      "outputs": [
        {
          "output_type": "stream",
          "name": "stdout",
          "text": [
            "marks in math: 98\n",
            "marks in science87\n",
            "marks in social76\n",
            "261\n"
          ]
        }
      ]
    },
    {
      "cell_type": "code",
      "source": [
        "a = float(input('marks in math: '))\n",
        "b = float(input('marks in science'))\n",
        "c = float(input('marks in social'))\n",
        "\n",
        "total = a + b + c\n",
        "print(total)"
      ],
      "metadata": {
        "colab": {
          "base_uri": "https://localhost:8080/"
        },
        "id": "14q3pCwGqO-s",
        "outputId": "924f1b1c-403f-4011-ec98-3e31e69f57fc"
      },
      "execution_count": null,
      "outputs": [
        {
          "output_type": "stream",
          "name": "stdout",
          "text": [
            "marks in math: 98.76\n",
            "marks in science87.65\n",
            "marks in social76.54\n",
            "262.95000000000005\n"
          ]
        }
      ]
    },
    {
      "cell_type": "code",
      "source": [
        "a = complex(input('input 1: '))\n",
        "b = complex(input('input 2:'))\n",
        "c = complex(input('input 3:'))\n",
        "\n",
        "total = a + b + c\n",
        "print(total)\n",
        "print(type(total))"
      ],
      "metadata": {
        "colab": {
          "base_uri": "https://localhost:8080/"
        },
        "id": "7yvV7do7rBxC",
        "outputId": "f8104bfb-5ab1-4c8a-fd45-84e700dea32d"
      },
      "execution_count": null,
      "outputs": [
        {
          "output_type": "stream",
          "name": "stdout",
          "text": [
            "input 1: 12+23j\n",
            "input 2:-23-34j\n",
            "input 3:34+34j\n",
            "(23+23j)\n",
            "<class 'complex'>\n"
          ]
        }
      ]
    },
    {
      "cell_type": "code",
      "source": [
        "\n",
        "a = complex(input('input 1:'))\n",
        "b = complex(input('input 2'))\n",
        "c = complex(input('input 3'))\n",
        "\n",
        "total = a+b+c\n",
        "print(total)\n",
        "print(type(total))"
      ],
      "metadata": {
        "colab": {
          "base_uri": "https://localhost:8080/"
        },
        "id": "B_g5OISqtdGu",
        "outputId": "fbf330d1-7869-435f-f56a-c6f9827ae185"
      },
      "execution_count": null,
      "outputs": [
        {
          "output_type": "stream",
          "name": "stdout",
          "text": [
            "input 1:12+23j\n",
            "input 2-25-34j\n",
            "input 334+25j\n",
            "(21+14j)\n",
            "<class 'complex'>\n"
          ]
        }
      ]
    },
    {
      "cell_type": "code",
      "source": [],
      "metadata": {
        "id": "ArnSJsuvu_yl"
      },
      "execution_count": null,
      "outputs": []
    },
    {
      "cell_type": "code",
      "source": [
        "var_str1 = 'python programming'\n",
        "\n",
        "print(list(var_str1))"
      ],
      "metadata": {
        "colab": {
          "base_uri": "https://localhost:8080/"
        },
        "id": "12Q9DJj_vODD",
        "outputId": "062509d3-461c-4686-d43e-928d915c07f7"
      },
      "execution_count": null,
      "outputs": [
        {
          "output_type": "stream",
          "name": "stdout",
          "text": [
            "['p', 'y', 't', 'h', 'o', 'n', ' ', 'p', 'r', 'o', 'g', 'r', 'a', 'm', 'm', 'i', 'n', 'g']\n"
          ]
        }
      ]
    },
    {
      "cell_type": "code",
      "source": [
        "var_str1 = 'python programming'\n",
        "print(tuple(var_str1))"
      ],
      "metadata": {
        "colab": {
          "base_uri": "https://localhost:8080/"
        },
        "id": "qOn4ElT2vcxD",
        "outputId": "4921905d-9545-446e-d0b9-40b839134c6f"
      },
      "execution_count": null,
      "outputs": [
        {
          "output_type": "stream",
          "name": "stdout",
          "text": [
            "('p', 'y', 't', 'h', 'o', 'n', ' ', 'p', 'r', 'o', 'g', 'r', 'a', 'm', 'm', 'i', 'n', 'g')\n"
          ]
        }
      ]
    },
    {
      "cell_type": "code",
      "source": [
        "\n",
        "var_str1 = 'python programming'\n",
        "print(set(var_str1))"
      ],
      "metadata": {
        "colab": {
          "base_uri": "https://localhost:8080/"
        },
        "id": "O3RqITXRv1DK",
        "outputId": "8d0de785-fcae-49af-aead-2dc1cda03c1a"
      },
      "execution_count": null,
      "outputs": [
        {
          "output_type": "stream",
          "name": "stdout",
          "text": [
            "{' ', 't', 'g', 'm', 'p', 'i', 'h', 'a', 'n', 'y', 'o', 'r'}\n"
          ]
        }
      ]
    },
    {
      "cell_type": "code",
      "source": [
        "for i  in range (0, 200, 1):\n",
        "    print('decimal: ', i)\n",
        "    print('binary:', i)\n",
        "    print('octa decimal:', oct(i))\n",
        "    print('hexa decimal:', hex(i))"
      ],
      "metadata": {
        "colab": {
          "base_uri": "https://localhost:8080/"
        },
        "id": "FLp8s8W80I5D",
        "outputId": "cc9768ef-eb21-46d6-a3fd-61df31ecb592"
      },
      "execution_count": null,
      "outputs": [
        {
          "output_type": "stream",
          "name": "stdout",
          "text": [
            "decimal:  0\n",
            "binary: 0\n",
            "octa decimal: 0o0\n",
            "hexa decimal: 0x0\n",
            "decimal:  1\n",
            "binary: 1\n",
            "octa decimal: 0o1\n",
            "hexa decimal: 0x1\n",
            "decimal:  2\n",
            "binary: 2\n",
            "octa decimal: 0o2\n",
            "hexa decimal: 0x2\n",
            "decimal:  3\n",
            "binary: 3\n",
            "octa decimal: 0o3\n",
            "hexa decimal: 0x3\n",
            "decimal:  4\n",
            "binary: 4\n",
            "octa decimal: 0o4\n",
            "hexa decimal: 0x4\n",
            "decimal:  5\n",
            "binary: 5\n",
            "octa decimal: 0o5\n",
            "hexa decimal: 0x5\n",
            "decimal:  6\n",
            "binary: 6\n",
            "octa decimal: 0o6\n",
            "hexa decimal: 0x6\n",
            "decimal:  7\n",
            "binary: 7\n",
            "octa decimal: 0o7\n",
            "hexa decimal: 0x7\n",
            "decimal:  8\n",
            "binary: 8\n",
            "octa decimal: 0o10\n",
            "hexa decimal: 0x8\n",
            "decimal:  9\n",
            "binary: 9\n",
            "octa decimal: 0o11\n",
            "hexa decimal: 0x9\n",
            "decimal:  10\n",
            "binary: 10\n",
            "octa decimal: 0o12\n",
            "hexa decimal: 0xa\n",
            "decimal:  11\n",
            "binary: 11\n",
            "octa decimal: 0o13\n",
            "hexa decimal: 0xb\n",
            "decimal:  12\n",
            "binary: 12\n",
            "octa decimal: 0o14\n",
            "hexa decimal: 0xc\n",
            "decimal:  13\n",
            "binary: 13\n",
            "octa decimal: 0o15\n",
            "hexa decimal: 0xd\n",
            "decimal:  14\n",
            "binary: 14\n",
            "octa decimal: 0o16\n",
            "hexa decimal: 0xe\n",
            "decimal:  15\n",
            "binary: 15\n",
            "octa decimal: 0o17\n",
            "hexa decimal: 0xf\n",
            "decimal:  16\n",
            "binary: 16\n",
            "octa decimal: 0o20\n",
            "hexa decimal: 0x10\n",
            "decimal:  17\n",
            "binary: 17\n",
            "octa decimal: 0o21\n",
            "hexa decimal: 0x11\n",
            "decimal:  18\n",
            "binary: 18\n",
            "octa decimal: 0o22\n",
            "hexa decimal: 0x12\n",
            "decimal:  19\n",
            "binary: 19\n",
            "octa decimal: 0o23\n",
            "hexa decimal: 0x13\n",
            "decimal:  20\n",
            "binary: 20\n",
            "octa decimal: 0o24\n",
            "hexa decimal: 0x14\n",
            "decimal:  21\n",
            "binary: 21\n",
            "octa decimal: 0o25\n",
            "hexa decimal: 0x15\n",
            "decimal:  22\n",
            "binary: 22\n",
            "octa decimal: 0o26\n",
            "hexa decimal: 0x16\n",
            "decimal:  23\n",
            "binary: 23\n",
            "octa decimal: 0o27\n",
            "hexa decimal: 0x17\n",
            "decimal:  24\n",
            "binary: 24\n",
            "octa decimal: 0o30\n",
            "hexa decimal: 0x18\n",
            "decimal:  25\n",
            "binary: 25\n",
            "octa decimal: 0o31\n",
            "hexa decimal: 0x19\n",
            "decimal:  26\n",
            "binary: 26\n",
            "octa decimal: 0o32\n",
            "hexa decimal: 0x1a\n",
            "decimal:  27\n",
            "binary: 27\n",
            "octa decimal: 0o33\n",
            "hexa decimal: 0x1b\n",
            "decimal:  28\n",
            "binary: 28\n",
            "octa decimal: 0o34\n",
            "hexa decimal: 0x1c\n",
            "decimal:  29\n",
            "binary: 29\n",
            "octa decimal: 0o35\n",
            "hexa decimal: 0x1d\n",
            "decimal:  30\n",
            "binary: 30\n",
            "octa decimal: 0o36\n",
            "hexa decimal: 0x1e\n",
            "decimal:  31\n",
            "binary: 31\n",
            "octa decimal: 0o37\n",
            "hexa decimal: 0x1f\n",
            "decimal:  32\n",
            "binary: 32\n",
            "octa decimal: 0o40\n",
            "hexa decimal: 0x20\n",
            "decimal:  33\n",
            "binary: 33\n",
            "octa decimal: 0o41\n",
            "hexa decimal: 0x21\n",
            "decimal:  34\n",
            "binary: 34\n",
            "octa decimal: 0o42\n",
            "hexa decimal: 0x22\n",
            "decimal:  35\n",
            "binary: 35\n",
            "octa decimal: 0o43\n",
            "hexa decimal: 0x23\n",
            "decimal:  36\n",
            "binary: 36\n",
            "octa decimal: 0o44\n",
            "hexa decimal: 0x24\n",
            "decimal:  37\n",
            "binary: 37\n",
            "octa decimal: 0o45\n",
            "hexa decimal: 0x25\n",
            "decimal:  38\n",
            "binary: 38\n",
            "octa decimal: 0o46\n",
            "hexa decimal: 0x26\n",
            "decimal:  39\n",
            "binary: 39\n",
            "octa decimal: 0o47\n",
            "hexa decimal: 0x27\n",
            "decimal:  40\n",
            "binary: 40\n",
            "octa decimal: 0o50\n",
            "hexa decimal: 0x28\n",
            "decimal:  41\n",
            "binary: 41\n",
            "octa decimal: 0o51\n",
            "hexa decimal: 0x29\n",
            "decimal:  42\n",
            "binary: 42\n",
            "octa decimal: 0o52\n",
            "hexa decimal: 0x2a\n",
            "decimal:  43\n",
            "binary: 43\n",
            "octa decimal: 0o53\n",
            "hexa decimal: 0x2b\n",
            "decimal:  44\n",
            "binary: 44\n",
            "octa decimal: 0o54\n",
            "hexa decimal: 0x2c\n",
            "decimal:  45\n",
            "binary: 45\n",
            "octa decimal: 0o55\n",
            "hexa decimal: 0x2d\n",
            "decimal:  46\n",
            "binary: 46\n",
            "octa decimal: 0o56\n",
            "hexa decimal: 0x2e\n",
            "decimal:  47\n",
            "binary: 47\n",
            "octa decimal: 0o57\n",
            "hexa decimal: 0x2f\n",
            "decimal:  48\n",
            "binary: 48\n",
            "octa decimal: 0o60\n",
            "hexa decimal: 0x30\n",
            "decimal:  49\n",
            "binary: 49\n",
            "octa decimal: 0o61\n",
            "hexa decimal: 0x31\n",
            "decimal:  50\n",
            "binary: 50\n",
            "octa decimal: 0o62\n",
            "hexa decimal: 0x32\n",
            "decimal:  51\n",
            "binary: 51\n",
            "octa decimal: 0o63\n",
            "hexa decimal: 0x33\n",
            "decimal:  52\n",
            "binary: 52\n",
            "octa decimal: 0o64\n",
            "hexa decimal: 0x34\n",
            "decimal:  53\n",
            "binary: 53\n",
            "octa decimal: 0o65\n",
            "hexa decimal: 0x35\n",
            "decimal:  54\n",
            "binary: 54\n",
            "octa decimal: 0o66\n",
            "hexa decimal: 0x36\n",
            "decimal:  55\n",
            "binary: 55\n",
            "octa decimal: 0o67\n",
            "hexa decimal: 0x37\n",
            "decimal:  56\n",
            "binary: 56\n",
            "octa decimal: 0o70\n",
            "hexa decimal: 0x38\n",
            "decimal:  57\n",
            "binary: 57\n",
            "octa decimal: 0o71\n",
            "hexa decimal: 0x39\n",
            "decimal:  58\n",
            "binary: 58\n",
            "octa decimal: 0o72\n",
            "hexa decimal: 0x3a\n",
            "decimal:  59\n",
            "binary: 59\n",
            "octa decimal: 0o73\n",
            "hexa decimal: 0x3b\n",
            "decimal:  60\n",
            "binary: 60\n",
            "octa decimal: 0o74\n",
            "hexa decimal: 0x3c\n",
            "decimal:  61\n",
            "binary: 61\n",
            "octa decimal: 0o75\n",
            "hexa decimal: 0x3d\n",
            "decimal:  62\n",
            "binary: 62\n",
            "octa decimal: 0o76\n",
            "hexa decimal: 0x3e\n",
            "decimal:  63\n",
            "binary: 63\n",
            "octa decimal: 0o77\n",
            "hexa decimal: 0x3f\n",
            "decimal:  64\n",
            "binary: 64\n",
            "octa decimal: 0o100\n",
            "hexa decimal: 0x40\n",
            "decimal:  65\n",
            "binary: 65\n",
            "octa decimal: 0o101\n",
            "hexa decimal: 0x41\n",
            "decimal:  66\n",
            "binary: 66\n",
            "octa decimal: 0o102\n",
            "hexa decimal: 0x42\n",
            "decimal:  67\n",
            "binary: 67\n",
            "octa decimal: 0o103\n",
            "hexa decimal: 0x43\n",
            "decimal:  68\n",
            "binary: 68\n",
            "octa decimal: 0o104\n",
            "hexa decimal: 0x44\n",
            "decimal:  69\n",
            "binary: 69\n",
            "octa decimal: 0o105\n",
            "hexa decimal: 0x45\n",
            "decimal:  70\n",
            "binary: 70\n",
            "octa decimal: 0o106\n",
            "hexa decimal: 0x46\n",
            "decimal:  71\n",
            "binary: 71\n",
            "octa decimal: 0o107\n",
            "hexa decimal: 0x47\n",
            "decimal:  72\n",
            "binary: 72\n",
            "octa decimal: 0o110\n",
            "hexa decimal: 0x48\n",
            "decimal:  73\n",
            "binary: 73\n",
            "octa decimal: 0o111\n",
            "hexa decimal: 0x49\n",
            "decimal:  74\n",
            "binary: 74\n",
            "octa decimal: 0o112\n",
            "hexa decimal: 0x4a\n",
            "decimal:  75\n",
            "binary: 75\n",
            "octa decimal: 0o113\n",
            "hexa decimal: 0x4b\n",
            "decimal:  76\n",
            "binary: 76\n",
            "octa decimal: 0o114\n",
            "hexa decimal: 0x4c\n",
            "decimal:  77\n",
            "binary: 77\n",
            "octa decimal: 0o115\n",
            "hexa decimal: 0x4d\n",
            "decimal:  78\n",
            "binary: 78\n",
            "octa decimal: 0o116\n",
            "hexa decimal: 0x4e\n",
            "decimal:  79\n",
            "binary: 79\n",
            "octa decimal: 0o117\n",
            "hexa decimal: 0x4f\n",
            "decimal:  80\n",
            "binary: 80\n",
            "octa decimal: 0o120\n",
            "hexa decimal: 0x50\n",
            "decimal:  81\n",
            "binary: 81\n",
            "octa decimal: 0o121\n",
            "hexa decimal: 0x51\n",
            "decimal:  82\n",
            "binary: 82\n",
            "octa decimal: 0o122\n",
            "hexa decimal: 0x52\n",
            "decimal:  83\n",
            "binary: 83\n",
            "octa decimal: 0o123\n",
            "hexa decimal: 0x53\n",
            "decimal:  84\n",
            "binary: 84\n",
            "octa decimal: 0o124\n",
            "hexa decimal: 0x54\n",
            "decimal:  85\n",
            "binary: 85\n",
            "octa decimal: 0o125\n",
            "hexa decimal: 0x55\n",
            "decimal:  86\n",
            "binary: 86\n",
            "octa decimal: 0o126\n",
            "hexa decimal: 0x56\n",
            "decimal:  87\n",
            "binary: 87\n",
            "octa decimal: 0o127\n",
            "hexa decimal: 0x57\n",
            "decimal:  88\n",
            "binary: 88\n",
            "octa decimal: 0o130\n",
            "hexa decimal: 0x58\n",
            "decimal:  89\n",
            "binary: 89\n",
            "octa decimal: 0o131\n",
            "hexa decimal: 0x59\n",
            "decimal:  90\n",
            "binary: 90\n",
            "octa decimal: 0o132\n",
            "hexa decimal: 0x5a\n",
            "decimal:  91\n",
            "binary: 91\n",
            "octa decimal: 0o133\n",
            "hexa decimal: 0x5b\n",
            "decimal:  92\n",
            "binary: 92\n",
            "octa decimal: 0o134\n",
            "hexa decimal: 0x5c\n",
            "decimal:  93\n",
            "binary: 93\n",
            "octa decimal: 0o135\n",
            "hexa decimal: 0x5d\n",
            "decimal:  94\n",
            "binary: 94\n",
            "octa decimal: 0o136\n",
            "hexa decimal: 0x5e\n",
            "decimal:  95\n",
            "binary: 95\n",
            "octa decimal: 0o137\n",
            "hexa decimal: 0x5f\n",
            "decimal:  96\n",
            "binary: 96\n",
            "octa decimal: 0o140\n",
            "hexa decimal: 0x60\n",
            "decimal:  97\n",
            "binary: 97\n",
            "octa decimal: 0o141\n",
            "hexa decimal: 0x61\n",
            "decimal:  98\n",
            "binary: 98\n",
            "octa decimal: 0o142\n",
            "hexa decimal: 0x62\n",
            "decimal:  99\n",
            "binary: 99\n",
            "octa decimal: 0o143\n",
            "hexa decimal: 0x63\n",
            "decimal:  100\n",
            "binary: 100\n",
            "octa decimal: 0o144\n",
            "hexa decimal: 0x64\n",
            "decimal:  101\n",
            "binary: 101\n",
            "octa decimal: 0o145\n",
            "hexa decimal: 0x65\n",
            "decimal:  102\n",
            "binary: 102\n",
            "octa decimal: 0o146\n",
            "hexa decimal: 0x66\n",
            "decimal:  103\n",
            "binary: 103\n",
            "octa decimal: 0o147\n",
            "hexa decimal: 0x67\n",
            "decimal:  104\n",
            "binary: 104\n",
            "octa decimal: 0o150\n",
            "hexa decimal: 0x68\n",
            "decimal:  105\n",
            "binary: 105\n",
            "octa decimal: 0o151\n",
            "hexa decimal: 0x69\n",
            "decimal:  106\n",
            "binary: 106\n",
            "octa decimal: 0o152\n",
            "hexa decimal: 0x6a\n",
            "decimal:  107\n",
            "binary: 107\n",
            "octa decimal: 0o153\n",
            "hexa decimal: 0x6b\n",
            "decimal:  108\n",
            "binary: 108\n",
            "octa decimal: 0o154\n",
            "hexa decimal: 0x6c\n",
            "decimal:  109\n",
            "binary: 109\n",
            "octa decimal: 0o155\n",
            "hexa decimal: 0x6d\n",
            "decimal:  110\n",
            "binary: 110\n",
            "octa decimal: 0o156\n",
            "hexa decimal: 0x6e\n",
            "decimal:  111\n",
            "binary: 111\n",
            "octa decimal: 0o157\n",
            "hexa decimal: 0x6f\n",
            "decimal:  112\n",
            "binary: 112\n",
            "octa decimal: 0o160\n",
            "hexa decimal: 0x70\n",
            "decimal:  113\n",
            "binary: 113\n",
            "octa decimal: 0o161\n",
            "hexa decimal: 0x71\n",
            "decimal:  114\n",
            "binary: 114\n",
            "octa decimal: 0o162\n",
            "hexa decimal: 0x72\n",
            "decimal:  115\n",
            "binary: 115\n",
            "octa decimal: 0o163\n",
            "hexa decimal: 0x73\n",
            "decimal:  116\n",
            "binary: 116\n",
            "octa decimal: 0o164\n",
            "hexa decimal: 0x74\n",
            "decimal:  117\n",
            "binary: 117\n",
            "octa decimal: 0o165\n",
            "hexa decimal: 0x75\n",
            "decimal:  118\n",
            "binary: 118\n",
            "octa decimal: 0o166\n",
            "hexa decimal: 0x76\n",
            "decimal:  119\n",
            "binary: 119\n",
            "octa decimal: 0o167\n",
            "hexa decimal: 0x77\n",
            "decimal:  120\n",
            "binary: 120\n",
            "octa decimal: 0o170\n",
            "hexa decimal: 0x78\n",
            "decimal:  121\n",
            "binary: 121\n",
            "octa decimal: 0o171\n",
            "hexa decimal: 0x79\n",
            "decimal:  122\n",
            "binary: 122\n",
            "octa decimal: 0o172\n",
            "hexa decimal: 0x7a\n",
            "decimal:  123\n",
            "binary: 123\n",
            "octa decimal: 0o173\n",
            "hexa decimal: 0x7b\n",
            "decimal:  124\n",
            "binary: 124\n",
            "octa decimal: 0o174\n",
            "hexa decimal: 0x7c\n",
            "decimal:  125\n",
            "binary: 125\n",
            "octa decimal: 0o175\n",
            "hexa decimal: 0x7d\n",
            "decimal:  126\n",
            "binary: 126\n",
            "octa decimal: 0o176\n",
            "hexa decimal: 0x7e\n",
            "decimal:  127\n",
            "binary: 127\n",
            "octa decimal: 0o177\n",
            "hexa decimal: 0x7f\n",
            "decimal:  128\n",
            "binary: 128\n",
            "octa decimal: 0o200\n",
            "hexa decimal: 0x80\n",
            "decimal:  129\n",
            "binary: 129\n",
            "octa decimal: 0o201\n",
            "hexa decimal: 0x81\n",
            "decimal:  130\n",
            "binary: 130\n",
            "octa decimal: 0o202\n",
            "hexa decimal: 0x82\n",
            "decimal:  131\n",
            "binary: 131\n",
            "octa decimal: 0o203\n",
            "hexa decimal: 0x83\n",
            "decimal:  132\n",
            "binary: 132\n",
            "octa decimal: 0o204\n",
            "hexa decimal: 0x84\n",
            "decimal:  133\n",
            "binary: 133\n",
            "octa decimal: 0o205\n",
            "hexa decimal: 0x85\n",
            "decimal:  134\n",
            "binary: 134\n",
            "octa decimal: 0o206\n",
            "hexa decimal: 0x86\n",
            "decimal:  135\n",
            "binary: 135\n",
            "octa decimal: 0o207\n",
            "hexa decimal: 0x87\n",
            "decimal:  136\n",
            "binary: 136\n",
            "octa decimal: 0o210\n",
            "hexa decimal: 0x88\n",
            "decimal:  137\n",
            "binary: 137\n",
            "octa decimal: 0o211\n",
            "hexa decimal: 0x89\n",
            "decimal:  138\n",
            "binary: 138\n",
            "octa decimal: 0o212\n",
            "hexa decimal: 0x8a\n",
            "decimal:  139\n",
            "binary: 139\n",
            "octa decimal: 0o213\n",
            "hexa decimal: 0x8b\n",
            "decimal:  140\n",
            "binary: 140\n",
            "octa decimal: 0o214\n",
            "hexa decimal: 0x8c\n",
            "decimal:  141\n",
            "binary: 141\n",
            "octa decimal: 0o215\n",
            "hexa decimal: 0x8d\n",
            "decimal:  142\n",
            "binary: 142\n",
            "octa decimal: 0o216\n",
            "hexa decimal: 0x8e\n",
            "decimal:  143\n",
            "binary: 143\n",
            "octa decimal: 0o217\n",
            "hexa decimal: 0x8f\n",
            "decimal:  144\n",
            "binary: 144\n",
            "octa decimal: 0o220\n",
            "hexa decimal: 0x90\n",
            "decimal:  145\n",
            "binary: 145\n",
            "octa decimal: 0o221\n",
            "hexa decimal: 0x91\n",
            "decimal:  146\n",
            "binary: 146\n",
            "octa decimal: 0o222\n",
            "hexa decimal: 0x92\n",
            "decimal:  147\n",
            "binary: 147\n",
            "octa decimal: 0o223\n",
            "hexa decimal: 0x93\n",
            "decimal:  148\n",
            "binary: 148\n",
            "octa decimal: 0o224\n",
            "hexa decimal: 0x94\n",
            "decimal:  149\n",
            "binary: 149\n",
            "octa decimal: 0o225\n",
            "hexa decimal: 0x95\n",
            "decimal:  150\n",
            "binary: 150\n",
            "octa decimal: 0o226\n",
            "hexa decimal: 0x96\n",
            "decimal:  151\n",
            "binary: 151\n",
            "octa decimal: 0o227\n",
            "hexa decimal: 0x97\n",
            "decimal:  152\n",
            "binary: 152\n",
            "octa decimal: 0o230\n",
            "hexa decimal: 0x98\n",
            "decimal:  153\n",
            "binary: 153\n",
            "octa decimal: 0o231\n",
            "hexa decimal: 0x99\n",
            "decimal:  154\n",
            "binary: 154\n",
            "octa decimal: 0o232\n",
            "hexa decimal: 0x9a\n",
            "decimal:  155\n",
            "binary: 155\n",
            "octa decimal: 0o233\n",
            "hexa decimal: 0x9b\n",
            "decimal:  156\n",
            "binary: 156\n",
            "octa decimal: 0o234\n",
            "hexa decimal: 0x9c\n",
            "decimal:  157\n",
            "binary: 157\n",
            "octa decimal: 0o235\n",
            "hexa decimal: 0x9d\n",
            "decimal:  158\n",
            "binary: 158\n",
            "octa decimal: 0o236\n",
            "hexa decimal: 0x9e\n",
            "decimal:  159\n",
            "binary: 159\n",
            "octa decimal: 0o237\n",
            "hexa decimal: 0x9f\n",
            "decimal:  160\n",
            "binary: 160\n",
            "octa decimal: 0o240\n",
            "hexa decimal: 0xa0\n",
            "decimal:  161\n",
            "binary: 161\n",
            "octa decimal: 0o241\n",
            "hexa decimal: 0xa1\n",
            "decimal:  162\n",
            "binary: 162\n",
            "octa decimal: 0o242\n",
            "hexa decimal: 0xa2\n",
            "decimal:  163\n",
            "binary: 163\n",
            "octa decimal: 0o243\n",
            "hexa decimal: 0xa3\n",
            "decimal:  164\n",
            "binary: 164\n",
            "octa decimal: 0o244\n",
            "hexa decimal: 0xa4\n",
            "decimal:  165\n",
            "binary: 165\n",
            "octa decimal: 0o245\n",
            "hexa decimal: 0xa5\n",
            "decimal:  166\n",
            "binary: 166\n",
            "octa decimal: 0o246\n",
            "hexa decimal: 0xa6\n",
            "decimal:  167\n",
            "binary: 167\n",
            "octa decimal: 0o247\n",
            "hexa decimal: 0xa7\n",
            "decimal:  168\n",
            "binary: 168\n",
            "octa decimal: 0o250\n",
            "hexa decimal: 0xa8\n",
            "decimal:  169\n",
            "binary: 169\n",
            "octa decimal: 0o251\n",
            "hexa decimal: 0xa9\n",
            "decimal:  170\n",
            "binary: 170\n",
            "octa decimal: 0o252\n",
            "hexa decimal: 0xaa\n",
            "decimal:  171\n",
            "binary: 171\n",
            "octa decimal: 0o253\n",
            "hexa decimal: 0xab\n",
            "decimal:  172\n",
            "binary: 172\n",
            "octa decimal: 0o254\n",
            "hexa decimal: 0xac\n",
            "decimal:  173\n",
            "binary: 173\n",
            "octa decimal: 0o255\n",
            "hexa decimal: 0xad\n",
            "decimal:  174\n",
            "binary: 174\n",
            "octa decimal: 0o256\n",
            "hexa decimal: 0xae\n",
            "decimal:  175\n",
            "binary: 175\n",
            "octa decimal: 0o257\n",
            "hexa decimal: 0xaf\n",
            "decimal:  176\n",
            "binary: 176\n",
            "octa decimal: 0o260\n",
            "hexa decimal: 0xb0\n",
            "decimal:  177\n",
            "binary: 177\n",
            "octa decimal: 0o261\n",
            "hexa decimal: 0xb1\n",
            "decimal:  178\n",
            "binary: 178\n",
            "octa decimal: 0o262\n",
            "hexa decimal: 0xb2\n",
            "decimal:  179\n",
            "binary: 179\n",
            "octa decimal: 0o263\n",
            "hexa decimal: 0xb3\n",
            "decimal:  180\n",
            "binary: 180\n",
            "octa decimal: 0o264\n",
            "hexa decimal: 0xb4\n",
            "decimal:  181\n",
            "binary: 181\n",
            "octa decimal: 0o265\n",
            "hexa decimal: 0xb5\n",
            "decimal:  182\n",
            "binary: 182\n",
            "octa decimal: 0o266\n",
            "hexa decimal: 0xb6\n",
            "decimal:  183\n",
            "binary: 183\n",
            "octa decimal: 0o267\n",
            "hexa decimal: 0xb7\n",
            "decimal:  184\n",
            "binary: 184\n",
            "octa decimal: 0o270\n",
            "hexa decimal: 0xb8\n",
            "decimal:  185\n",
            "binary: 185\n",
            "octa decimal: 0o271\n",
            "hexa decimal: 0xb9\n",
            "decimal:  186\n",
            "binary: 186\n",
            "octa decimal: 0o272\n",
            "hexa decimal: 0xba\n",
            "decimal:  187\n",
            "binary: 187\n",
            "octa decimal: 0o273\n",
            "hexa decimal: 0xbb\n",
            "decimal:  188\n",
            "binary: 188\n",
            "octa decimal: 0o274\n",
            "hexa decimal: 0xbc\n",
            "decimal:  189\n",
            "binary: 189\n",
            "octa decimal: 0o275\n",
            "hexa decimal: 0xbd\n",
            "decimal:  190\n",
            "binary: 190\n",
            "octa decimal: 0o276\n",
            "hexa decimal: 0xbe\n",
            "decimal:  191\n",
            "binary: 191\n",
            "octa decimal: 0o277\n",
            "hexa decimal: 0xbf\n",
            "decimal:  192\n",
            "binary: 192\n",
            "octa decimal: 0o300\n",
            "hexa decimal: 0xc0\n",
            "decimal:  193\n",
            "binary: 193\n",
            "octa decimal: 0o301\n",
            "hexa decimal: 0xc1\n",
            "decimal:  194\n",
            "binary: 194\n",
            "octa decimal: 0o302\n",
            "hexa decimal: 0xc2\n",
            "decimal:  195\n",
            "binary: 195\n",
            "octa decimal: 0o303\n",
            "hexa decimal: 0xc3\n",
            "decimal:  196\n",
            "binary: 196\n",
            "octa decimal: 0o304\n",
            "hexa decimal: 0xc4\n",
            "decimal:  197\n",
            "binary: 197\n",
            "octa decimal: 0o305\n",
            "hexa decimal: 0xc5\n",
            "decimal:  198\n",
            "binary: 198\n",
            "octa decimal: 0o306\n",
            "hexa decimal: 0xc6\n",
            "decimal:  199\n",
            "binary: 199\n",
            "octa decimal: 0o307\n",
            "hexa decimal: 0xc7\n"
          ]
        }
      ]
    },
    {
      "cell_type": "code",
      "source": [
        "\n",
        "\n",
        "help(print)"
      ],
      "metadata": {
        "colab": {
          "base_uri": "https://localhost:8080/"
        },
        "id": "lWl6TIKn4MYx",
        "outputId": "dd9a801c-36a4-436f-bf1d-e33dcd726808"
      },
      "execution_count": null,
      "outputs": [
        {
          "output_type": "stream",
          "name": "stdout",
          "text": [
            "Help on built-in function print in module builtins:\n",
            "\n",
            "print(...)\n",
            "    print(value, ..., sep=' ', end='\\n', file=sys.stdout, flush=False)\n",
            "    \n",
            "    Prints the values to a stream, or to sys.stdout by default.\n",
            "    Optional keyword arguments:\n",
            "    file:  a file-like object (stream); defaults to the current sys.stdout.\n",
            "    sep:   string inserted between values, default a space.\n",
            "    end:   string appended after the last value, default a newline.\n",
            "    flush: whether to forcibly flush the stream.\n",
            "\n"
          ]
        }
      ]
    },
    {
      "cell_type": "code",
      "source": [
        "help(tuple)"
      ],
      "metadata": {
        "colab": {
          "base_uri": "https://localhost:8080/"
        },
        "id": "9WQPF9894ZGi",
        "outputId": "98c08f06-120b-46bf-a6eb-b20860ab27ed"
      },
      "execution_count": null,
      "outputs": [
        {
          "output_type": "stream",
          "name": "stdout",
          "text": [
            "Help on class tuple in module builtins:\n",
            "\n",
            "class tuple(object)\n",
            " |  tuple(iterable=(), /)\n",
            " |  \n",
            " |  Built-in immutable sequence.\n",
            " |  \n",
            " |  If no argument is given, the constructor returns an empty tuple.\n",
            " |  If iterable is specified the tuple is initialized from iterable's items.\n",
            " |  \n",
            " |  If the argument is a tuple, the return value is the same object.\n",
            " |  \n",
            " |  Built-in subclasses:\n",
            " |      asyncgen_hooks\n",
            " |      MonthDayNano\n",
            " |      UnraisableHookArgs\n",
            " |  \n",
            " |  Methods defined here:\n",
            " |  \n",
            " |  __add__(self, value, /)\n",
            " |      Return self+value.\n",
            " |  \n",
            " |  __contains__(self, key, /)\n",
            " |      Return key in self.\n",
            " |  \n",
            " |  __eq__(self, value, /)\n",
            " |      Return self==value.\n",
            " |  \n",
            " |  __ge__(self, value, /)\n",
            " |      Return self>=value.\n",
            " |  \n",
            " |  __getattribute__(self, name, /)\n",
            " |      Return getattr(self, name).\n",
            " |  \n",
            " |  __getitem__(self, key, /)\n",
            " |      Return self[key].\n",
            " |  \n",
            " |  __getnewargs__(self, /)\n",
            " |  \n",
            " |  __gt__(self, value, /)\n",
            " |      Return self>value.\n",
            " |  \n",
            " |  __hash__(self, /)\n",
            " |      Return hash(self).\n",
            " |  \n",
            " |  __iter__(self, /)\n",
            " |      Implement iter(self).\n",
            " |  \n",
            " |  __le__(self, value, /)\n",
            " |      Return self<=value.\n",
            " |  \n",
            " |  __len__(self, /)\n",
            " |      Return len(self).\n",
            " |  \n",
            " |  __lt__(self, value, /)\n",
            " |      Return self<value.\n",
            " |  \n",
            " |  __mul__(self, value, /)\n",
            " |      Return self*value.\n",
            " |  \n",
            " |  __ne__(self, value, /)\n",
            " |      Return self!=value.\n",
            " |  \n",
            " |  __repr__(self, /)\n",
            " |      Return repr(self).\n",
            " |  \n",
            " |  __rmul__(self, value, /)\n",
            " |      Return value*self.\n",
            " |  \n",
            " |  count(self, value, /)\n",
            " |      Return number of occurrences of value.\n",
            " |  \n",
            " |  index(self, value, start=0, stop=9223372036854775807, /)\n",
            " |      Return first index of value.\n",
            " |      \n",
            " |      Raises ValueError if the value is not present.\n",
            " |  \n",
            " |  ----------------------------------------------------------------------\n",
            " |  Class methods defined here:\n",
            " |  \n",
            " |  __class_getitem__(...) from builtins.type\n",
            " |      See PEP 585\n",
            " |  \n",
            " |  ----------------------------------------------------------------------\n",
            " |  Static methods defined here:\n",
            " |  \n",
            " |  __new__(*args, **kwargs) from builtins.type\n",
            " |      Create and return a new object.  See help(type) for accurate signature.\n",
            "\n"
          ]
        }
      ]
    },
    {
      "cell_type": "code",
      "source": [
        "\n",
        "help(hex)"
      ],
      "metadata": {
        "colab": {
          "base_uri": "https://localhost:8080/"
        },
        "id": "jUsQ4Niq4cwB",
        "outputId": "a527c123-afc4-4f7c-e5ed-9baf1c5bca46"
      },
      "execution_count": null,
      "outputs": [
        {
          "output_type": "stream",
          "name": "stdout",
          "text": [
            "Help on built-in function hex in module builtins:\n",
            "\n",
            "hex(number, /)\n",
            "    Return the hexadecimal representation of an integer.\n",
            "    \n",
            "    >>> hex(12648430)\n",
            "    '0xc0ffee'\n",
            "\n"
          ]
        }
      ]
    },
    {
      "cell_type": "code",
      "source": [
        "\n",
        "lst1 = ['apple', 'banana', 'cherry', 'dates', 'eggfruits', 'fig', 'grapes']\n",
        "\n",
        "x = iter(lst1)\n",
        "\n",
        "print(next(x))\n",
        "print(next(x))\n",
        "print(next(x))\n",
        "print(next(x))\n",
        "print(next(x))\n",
        "print(next(x))\n",
        "print(next(x))"
      ],
      "metadata": {
        "colab": {
          "base_uri": "https://localhost:8080/"
        },
        "id": "Vmp6LHOc46BS",
        "outputId": "2399316b-5d67-4505-cc3f-7275d646a2d0"
      },
      "execution_count": null,
      "outputs": [
        {
          "output_type": "stream",
          "name": "stdout",
          "text": [
            "apple\n",
            "banana\n",
            "cherry\n",
            "dates\n",
            "eggfruits\n",
            "fig\n",
            "grapes\n"
          ]
        }
      ]
    },
    {
      "cell_type": "code",
      "source": [
        "\n",
        "tup1 = ['apple', 'banana', 'cherry', 'dates', 'eggfruits', 'fig', 'grapes']\n",
        "\n",
        "x = iter(tup1)\n",
        "\n",
        "print(next(x))\n",
        "print(next(x))\n",
        "print(next(x))\n",
        "print(next(x))\n",
        "print(next(x))\n",
        "print(next(x))\n",
        "print(next(x))"
      ],
      "metadata": {
        "colab": {
          "base_uri": "https://localhost:8080/"
        },
        "id": "vBN2sdYj5wWh",
        "outputId": "83aaf142-c3cc-4058-afd4-72b281a4850e"
      },
      "execution_count": null,
      "outputs": [
        {
          "output_type": "stream",
          "name": "stdout",
          "text": [
            "apple\n",
            "banana\n",
            "cherry\n",
            "dates\n",
            "eggfruits\n",
            "fig\n",
            "grapes\n"
          ]
        }
      ]
    },
    {
      "cell_type": "code",
      "source": [
        "set1 = {'apple', 'banana', 'cherry', 'dates', 'eggfruits', 'fig', 'grapes'}\n",
        "\n",
        "x = iter(set1)\n",
        "\n",
        "print(next(x))\n",
        "print(next(x))\n",
        "print(next(x))\n",
        "print(next(x))\n",
        "print(next(x))\n",
        "print(next(x))\n",
        "print(next(x))\n",
        "print(next(x))"
      ],
      "metadata": {
        "colab": {
          "base_uri": "https://localhost:8080/",
          "height": 346
        },
        "id": "IOS9GwmF6CBA",
        "outputId": "89b52fe8-1738-4db0-c3f2-7393e81ec925"
      },
      "execution_count": null,
      "outputs": [
        {
          "output_type": "stream",
          "name": "stdout",
          "text": [
            "apple\n",
            "dates\n",
            "grapes\n",
            "eggfruits\n",
            "banana\n",
            "fig\n",
            "cherry\n"
          ]
        },
        {
          "output_type": "error",
          "ename": "StopIteration",
          "evalue": "ignored",
          "traceback": [
            "\u001b[0;31m---------------------------------------------------------------------------\u001b[0m",
            "\u001b[0;31mStopIteration\u001b[0m                             Traceback (most recent call last)",
            "\u001b[0;32m<ipython-input-26-94426790e625>\u001b[0m in \u001b[0;36m<cell line: 12>\u001b[0;34m()\u001b[0m\n\u001b[1;32m     10\u001b[0m \u001b[0mprint\u001b[0m\u001b[0;34m(\u001b[0m\u001b[0mnext\u001b[0m\u001b[0;34m(\u001b[0m\u001b[0mx\u001b[0m\u001b[0;34m)\u001b[0m\u001b[0;34m)\u001b[0m\u001b[0;34m\u001b[0m\u001b[0;34m\u001b[0m\u001b[0m\n\u001b[1;32m     11\u001b[0m \u001b[0mprint\u001b[0m\u001b[0;34m(\u001b[0m\u001b[0mnext\u001b[0m\u001b[0;34m(\u001b[0m\u001b[0mx\u001b[0m\u001b[0;34m)\u001b[0m\u001b[0;34m)\u001b[0m\u001b[0;34m\u001b[0m\u001b[0;34m\u001b[0m\u001b[0m\n\u001b[0;32m---> 12\u001b[0;31m \u001b[0mprint\u001b[0m\u001b[0;34m(\u001b[0m\u001b[0mnext\u001b[0m\u001b[0;34m(\u001b[0m\u001b[0mx\u001b[0m\u001b[0;34m)\u001b[0m\u001b[0;34m)\u001b[0m\u001b[0;34m\u001b[0m\u001b[0;34m\u001b[0m\u001b[0m\n\u001b[0m",
            "\u001b[0;31mStopIteration\u001b[0m: "
          ]
        }
      ]
    },
    {
      "cell_type": "code",
      "source": [
        "str1 = 'python programming'\n",
        "len(str1)"
      ],
      "metadata": {
        "colab": {
          "base_uri": "https://localhost:8080/"
        },
        "id": "1H_ONm6r7qt_",
        "outputId": "59a3ad11-e720-4306-b936-dfc641347b17"
      },
      "execution_count": null,
      "outputs": [
        {
          "output_type": "execute_result",
          "data": {
            "text/plain": [
              "18"
            ]
          },
          "metadata": {},
          "execution_count": 27
        }
      ]
    },
    {
      "cell_type": "code",
      "source": [
        "\n",
        "lst1 = ['apple', 'banana', 'cherry', 'dates', 'eggfruits', 'fig', 'grapes']\n",
        "len(lst1)\n"
      ],
      "metadata": {
        "colab": {
          "base_uri": "https://localhost:8080/"
        },
        "id": "FQcAItE079XE",
        "outputId": "b4cefcd7-67fd-4943-f827-5e179ac7ba68"
      },
      "execution_count": null,
      "outputs": [
        {
          "output_type": "execute_result",
          "data": {
            "text/plain": [
              "7"
            ]
          },
          "metadata": {},
          "execution_count": 28
        }
      ]
    },
    {
      "cell_type": "code",
      "source": [
        "\n",
        "min(lst1)"
      ],
      "metadata": {
        "colab": {
          "base_uri": "https://localhost:8080/",
          "height": 36
        },
        "id": "fQYQIZdT8HWF",
        "outputId": "6d036f9b-20c3-47e7-a382-97c20143040f"
      },
      "execution_count": null,
      "outputs": [
        {
          "output_type": "execute_result",
          "data": {
            "text/plain": [
              "'apple'"
            ],
            "application/vnd.google.colaboratory.intrinsic+json": {
              "type": "string"
            }
          },
          "metadata": {},
          "execution_count": 29
        }
      ]
    },
    {
      "cell_type": "code",
      "source": [
        "max(lst1)"
      ],
      "metadata": {
        "colab": {
          "base_uri": "https://localhost:8080/",
          "height": 36
        },
        "id": "sCCsHxVC8NET",
        "outputId": "c14fd084-5e72-4e8f-90ac-799a343e2268"
      },
      "execution_count": null,
      "outputs": [
        {
          "output_type": "execute_result",
          "data": {
            "text/plain": [
              "'grapes'"
            ],
            "application/vnd.google.colaboratory.intrinsic+json": {
              "type": "string"
            }
          },
          "metadata": {},
          "execution_count": 30
        }
      ]
    },
    {
      "cell_type": "code",
      "source": [
        "\n",
        "flt1 = 3.841451234876582\n",
        "round(flt1)"
      ],
      "metadata": {
        "colab": {
          "base_uri": "https://localhost:8080/"
        },
        "id": "uMgojKxs8QkQ",
        "outputId": "1cfd1040-8cbb-454c-fe43-675b9ec30e10"
      },
      "execution_count": null,
      "outputs": [
        {
          "output_type": "execute_result",
          "data": {
            "text/plain": [
              "4"
            ]
          },
          "metadata": {},
          "execution_count": 32
        }
      ]
    },
    {
      "cell_type": "code",
      "source": [
        "Tuesday Dec 12, 2023\n",
        "\n"
      ],
      "metadata": {
        "id": "Wfw0-5rTrGd7"
      },
      "execution_count": null,
      "outputs": []
    },
    {
      "cell_type": "code",
      "source": [
        "python suer define function"
      ],
      "metadata": {
        "id": "yH-KWkY-tB0H"
      },
      "execution_count": null,
      "outputs": []
    },
    {
      "cell_type": "code",
      "source": [
        "def welcome_world():\n",
        "    print('welcome to takeo data science bootcamp - BDS41')"
      ],
      "metadata": {
        "id": "KLHkywz8tHAd"
      },
      "execution_count": null,
      "outputs": []
    },
    {
      "cell_type": "code",
      "source": [
        "welcome_world()"
      ],
      "metadata": {
        "colab": {
          "base_uri": "https://localhost:8080/"
        },
        "id": "syj4CknBtpUt",
        "outputId": "eacd18bf-e109-4c64-f8bd-fdd96ae97a00"
      },
      "execution_count": null,
      "outputs": [
        {
          "output_type": "stream",
          "name": "stdout",
          "text": [
            "welcome to takeo data science bootcamp - BDS41\n"
          ]
        }
      ]
    },
    {
      "cell_type": "code",
      "source": [
        "\n",
        "def add_3(a,b,c):\n",
        "    return(a+b+c)"
      ],
      "metadata": {
        "id": "eUMmiLrJt922"
      },
      "execution_count": null,
      "outputs": []
    },
    {
      "cell_type": "code",
      "source": [
        "add_3(10,20,30)"
      ],
      "metadata": {
        "colab": {
          "base_uri": "https://localhost:8080/"
        },
        "id": "4XYgEAtkuHwt",
        "outputId": "7cfacf72-0632-4687-f87f-3bc6c330c31d"
      },
      "execution_count": null,
      "outputs": [
        {
          "output_type": "execute_result",
          "data": {
            "text/plain": [
              "60"
            ]
          },
          "metadata": {},
          "execution_count": 5
        }
      ]
    },
    {
      "cell_type": "code",
      "source": [
        "add_3(12.34,23.45,34.56)"
      ],
      "metadata": {
        "colab": {
          "base_uri": "https://localhost:8080/"
        },
        "id": "EXrqLqR-uRh0",
        "outputId": "adc88199-b3ea-478c-d099-017d683593b4"
      },
      "execution_count": null,
      "outputs": [
        {
          "output_type": "execute_result",
          "data": {
            "text/plain": [
              "70.35"
            ]
          },
          "metadata": {},
          "execution_count": 6
        }
      ]
    },
    {
      "cell_type": "code",
      "source": [
        "add_3(12+34j, -23-45j, 34+56j)"
      ],
      "metadata": {
        "colab": {
          "base_uri": "https://localhost:8080/"
        },
        "id": "toqh7ma3uajD",
        "outputId": "a7c64fc3-51ef-4d6d-9553-fcb7a362f810"
      },
      "execution_count": null,
      "outputs": [
        {
          "output_type": "execute_result",
          "data": {
            "text/plain": [
              "(23+45j)"
            ]
          },
          "metadata": {},
          "execution_count": 7
        }
      ]
    },
    {
      "cell_type": "code",
      "source": [
        "add_3(True, True, False)"
      ],
      "metadata": {
        "colab": {
          "base_uri": "https://localhost:8080/"
        },
        "id": "9xRRnzyrukW8",
        "outputId": "832334c3-9b87-42fa-946d-ee13bd4218c6"
      },
      "execution_count": null,
      "outputs": [
        {
          "output_type": "execute_result",
          "data": {
            "text/plain": [
              "2"
            ]
          },
          "metadata": {},
          "execution_count": 8
        }
      ]
    },
    {
      "cell_type": "code",
      "source": [
        "add_3('python', 'welcome', 'universe')"
      ],
      "metadata": {
        "colab": {
          "base_uri": "https://localhost:8080/",
          "height": 36
        },
        "id": "MTD4FrSfurxk",
        "outputId": "1f02bbd1-2b9a-490f-90f3-29893e45be6f"
      },
      "execution_count": null,
      "outputs": [
        {
          "output_type": "execute_result",
          "data": {
            "text/plain": [
              "'pythonwelcomeuniverse'"
            ],
            "application/vnd.google.colaboratory.intrinsic+json": {
              "type": "string"
            }
          },
          "metadata": {},
          "execution_count": 9
        }
      ]
    },
    {
      "cell_type": "code",
      "source": [
        "\n",
        "def add_3(a,b,c):\n",
        "    print(a+b+c)\n",
        "    print(a-b-c)\n",
        "    print(a*b*c)\n",
        "    print(a/b/c)\n"
      ],
      "metadata": {
        "id": "DhKsH5wrvCL8"
      },
      "execution_count": null,
      "outputs": []
    },
    {
      "cell_type": "code",
      "source": [
        "add_3(12.15, 25.25, 45.45)"
      ],
      "metadata": {
        "colab": {
          "base_uri": "https://localhost:8080/"
        },
        "id": "HjdliMKkwPlC",
        "outputId": "dc15d287-ad04-43cb-cde3-199b3f3b271c"
      },
      "execution_count": null,
      "outputs": [
        {
          "output_type": "stream",
          "name": "stdout",
          "text": [
            "82.85\n",
            "-58.550000000000004\n",
            "13943.491875000002\n",
            "0.010587197333594745\n"
          ]
        }
      ]
    },
    {
      "cell_type": "code",
      "source": [],
      "metadata": {
        "id": "YusIt0zaxjb4"
      },
      "execution_count": null,
      "outputs": []
    },
    {
      "cell_type": "code",
      "source": [
        "def create_email(a, b):\n",
        "    print(a,'.',b,'@junkmail.com')"
      ],
      "metadata": {
        "id": "hi_xGbVey354"
      },
      "execution_count": null,
      "outputs": []
    },
    {
      "cell_type": "code",
      "source": [
        "create_email('prahlad','rijal')"
      ],
      "metadata": {
        "colab": {
          "base_uri": "https://localhost:8080/"
        },
        "id": "Yar5CBFWzLkl",
        "outputId": "54860624-da2e-425d-b685-242e1837b6a1"
      },
      "execution_count": null,
      "outputs": [
        {
          "output_type": "stream",
          "name": "stdout",
          "text": [
            "prahlad . rijal @junkmail.com\n"
          ]
        }
      ]
    },
    {
      "cell_type": "code",
      "source": [
        "\n",
        "\n",
        "def prahlad_rijal(rows, columns):\n",
        "    a = 0\n",
        "    while a < rows:\n",
        "        b = 0\n",
        "        while b < columns:\n",
        "            print('@', end=' ')\n",
        "            b += 1\n",
        "        print(' ')\n",
        "        a +=1"
      ],
      "metadata": {
        "id": "o0K4xIrrzjsl"
      },
      "execution_count": null,
      "outputs": []
    },
    {
      "cell_type": "code",
      "source": [
        "prahlad_rijal(10, 10)"
      ],
      "metadata": {
        "colab": {
          "base_uri": "https://localhost:8080/"
        },
        "id": "vyjNdbqa1uy3",
        "outputId": "5a659112-bf84-4d7f-e5b3-3e0a313c66ff"
      },
      "execution_count": null,
      "outputs": [
        {
          "output_type": "stream",
          "name": "stdout",
          "text": [
            "@ @ @ @ @ @ @ @ @ @  \n",
            "@ @ @ @ @ @ @ @ @ @  \n",
            "@ @ @ @ @ @ @ @ @ @  \n",
            "@ @ @ @ @ @ @ @ @ @  \n",
            "@ @ @ @ @ @ @ @ @ @  \n",
            "@ @ @ @ @ @ @ @ @ @  \n",
            "@ @ @ @ @ @ @ @ @ @  \n",
            "@ @ @ @ @ @ @ @ @ @  \n",
            "@ @ @ @ @ @ @ @ @ @  \n",
            "@ @ @ @ @ @ @ @ @ @  \n"
          ]
        }
      ]
    },
    {
      "cell_type": "code",
      "source": [
        "def odd_even():\n",
        "    if a % 2 == 0:\n",
        "    print('This number', a, 'is even')\n",
        "    else:\n",
        "        print('This number', a, 'is odd')\n",
        "\n"
      ],
      "metadata": {
        "id": "LZj4W9HA31W1"
      },
      "execution_count": null,
      "outputs": []
    },
    {
      "cell_type": "code",
      "source": [
        "odd_even(14)\n"
      ],
      "metadata": {
        "colab": {
          "base_uri": "https://localhost:8080/",
          "height": 181
        },
        "id": "a3pUNy-z4Taz",
        "outputId": "f89e6143-a268-4fb7-c895-88cd597b928e"
      },
      "execution_count": null,
      "outputs": [
        {
          "output_type": "error",
          "ename": "NameError",
          "evalue": "ignored",
          "traceback": [
            "\u001b[0;31m---------------------------------------------------------------------------\u001b[0m",
            "\u001b[0;31mNameError\u001b[0m                                 Traceback (most recent call last)",
            "\u001b[0;32m<ipython-input-43-c8257488d457>\u001b[0m in \u001b[0;36m<cell line: 1>\u001b[0;34m()\u001b[0m\n\u001b[0;32m----> 1\u001b[0;31m \u001b[0modd_even\u001b[0m\u001b[0;34m(\u001b[0m\u001b[0;36m14\u001b[0m\u001b[0;34m)\u001b[0m\u001b[0;34m\u001b[0m\u001b[0;34m\u001b[0m\u001b[0m\n\u001b[0m",
            "\u001b[0;31mNameError\u001b[0m: name 'odd_even' is not defined"
          ]
        }
      ]
    },
    {
      "cell_type": "code",
      "source": [
        "\n",
        "student_lst1 = [98, 90, 80, 87, 76, 70, 65, 60, 54, 50, 43, 40]\n",
        "\n",
        "for i in student_lst1:\n",
        "  print(\"Percentage Achieved\", i)\n",
        "  if i >=85:\n",
        "    print('...Pass with First Class Distinction')\n",
        "  elif i >= 60:\n",
        "    print('...Pass with First Class')\n",
        "  elif i >= 40:\n",
        "    print('...Pass with second class')\n",
        "  elif i >= 35\n",
        "    print('...pass with third')\n",
        "    print('...Better luck next time')\n"
      ],
      "metadata": {
        "id": "lbgL0IM-4ywC"
      },
      "execution_count": null,
      "outputs": []
    },
    {
      "cell_type": "code",
      "source": [
        "dict1 = {'Aam': 56, 'Bam': 67, 'Cam': 78, 'Dam': 89, 'Eam': 90, 'Fam': 91, 'Gam': 34, 'Ham': 32, 'Iam': 33, 'Jam': 54, 'Kam': 57}\n",
        "for i in dict1:\n",
        "  print(\"Percentage Achieved\", i)\n",
        "  if i >=85:\n",
        "    print('...Pass with First Class Distinction')\n",
        "  elif i >= 60:\n",
        "    print('...Pass with First Class')\n",
        "  elif i >= 40:\n",
        "    print('...Pass with second class')\n",
        "  elif i >= 35\n",
        "    print('...pass with third class')\n",
        "else:\n",
        "    print('...Better luck next time')\n"
      ],
      "metadata": {
        "id": "nsLDwGVB_1cd"
      },
      "execution_count": null,
      "outputs": []
    },
    {
      "cell_type": "code",
      "source": [
        "dict1(87)"
      ],
      "metadata": {
        "colab": {
          "base_uri": "https://localhost:8080/",
          "height": 181
        },
        "id": "9iwHuhU2A7Rc",
        "outputId": "85b2da0a-beed-4642-d2ef-b781deafd729"
      },
      "execution_count": null,
      "outputs": [
        {
          "output_type": "error",
          "ename": "TypeError",
          "evalue": "ignored",
          "traceback": [
            "\u001b[0;31m---------------------------------------------------------------------------\u001b[0m",
            "\u001b[0;31mTypeError\u001b[0m                                 Traceback (most recent call last)",
            "\u001b[0;32m<ipython-input-50-514ef7609451>\u001b[0m in \u001b[0;36m<cell line: 1>\u001b[0;34m()\u001b[0m\n\u001b[0;32m----> 1\u001b[0;31m \u001b[0mdict1\u001b[0m\u001b[0;34m(\u001b[0m\u001b[0;36m87\u001b[0m\u001b[0;34m)\u001b[0m\u001b[0;34m\u001b[0m\u001b[0;34m\u001b[0m\u001b[0m\n\u001b[0m",
            "\u001b[0;31mTypeError\u001b[0m: 'dict' object is not callable"
          ]
        }
      ]
    },
    {
      "cell_type": "code",
      "source": [
        "def any_argument(*prahlad):\n",
        "    return prahlad"
      ],
      "metadata": {
        "id": "eZvRJsMIBc31"
      },
      "execution_count": null,
      "outputs": []
    },
    {
      "cell_type": "code",
      "source": [
        "any_argument()"
      ],
      "metadata": {
        "colab": {
          "base_uri": "https://localhost:8080/"
        },
        "id": "vzyDOy3ECjiW",
        "outputId": "f6a8cacd-212d-4a6d-c3a0-dc890fac5601"
      },
      "execution_count": null,
      "outputs": [
        {
          "output_type": "execute_result",
          "data": {
            "text/plain": [
              "()"
            ]
          },
          "metadata": {},
          "execution_count": 59
        }
      ]
    },
    {
      "cell_type": "code",
      "source": [
        "any_argument(10)"
      ],
      "metadata": {
        "colab": {
          "base_uri": "https://localhost:8080/"
        },
        "id": "WKO6CP3OC8R-",
        "outputId": "4571bd2a-8cd6-48e6-d47a-c270bdfff0be"
      },
      "execution_count": null,
      "outputs": [
        {
          "output_type": "execute_result",
          "data": {
            "text/plain": [
              "(10,)"
            ]
          },
          "metadata": {},
          "execution_count": 60
        }
      ]
    },
    {
      "cell_type": "code",
      "source": [
        "any_argument(10, 20, 30, 40, 50, 60, 70)"
      ],
      "metadata": {
        "colab": {
          "base_uri": "https://localhost:8080/"
        },
        "id": "wHYrMHiADA7F",
        "outputId": "64c40c41-1715-4315-ad7e-bc8e76b832b9"
      },
      "execution_count": null,
      "outputs": [
        {
          "output_type": "execute_result",
          "data": {
            "text/plain": [
              "(10, 20, 30, 40, 50, 60, 70)"
            ]
          },
          "metadata": {},
          "execution_count": 61
        }
      ]
    },
    {
      "cell_type": "code",
      "source": [
        "any_argument('nepal is great')"
      ],
      "metadata": {
        "colab": {
          "base_uri": "https://localhost:8080/"
        },
        "id": "HZgt2zrKDNUX",
        "outputId": "71fcb626-a34b-4d8d-8f7b-8b354ad325d0"
      },
      "execution_count": null,
      "outputs": [
        {
          "output_type": "execute_result",
          "data": {
            "text/plain": [
              "('nepal is great',)"
            ]
          },
          "metadata": {},
          "execution_count": 62
        }
      ]
    },
    {
      "cell_type": "code",
      "source": [
        "def any_kwargument(**prahlad):\n",
        "    return prahlad"
      ],
      "metadata": {
        "id": "Ypj8YmtnEmTh"
      },
      "execution_count": null,
      "outputs": []
    },
    {
      "cell_type": "code",
      "source": [
        "any_kwargument(name='rijal')\n"
      ],
      "metadata": {
        "colab": {
          "base_uri": "https://localhost:8080/"
        },
        "id": "JTC1_ob1E5dW",
        "outputId": "37215206-569e-4f1b-d216-f35cbf1d7ce5"
      },
      "execution_count": null,
      "outputs": [
        {
          "output_type": "execute_result",
          "data": {
            "text/plain": [
              "{'name': 'rijal'}"
            ]
          },
          "metadata": {},
          "execution_count": 70
        }
      ]
    },
    {
      "cell_type": "code",
      "source": [
        "any_kwargument(name='prahlad', fname='prahlad', lname='rijal')"
      ],
      "metadata": {
        "colab": {
          "base_uri": "https://localhost:8080/"
        },
        "id": "3iyIijH7GIP7",
        "outputId": "f0de0c63-38e1-4ded-bdd8-6bfe6a0f8bf4"
      },
      "execution_count": null,
      "outputs": [
        {
          "output_type": "execute_result",
          "data": {
            "text/plain": [
              "{'name': 'prahlad', 'fname': 'prahlad', 'lname': 'rijal'}"
            ]
          },
          "metadata": {},
          "execution_count": 71
        }
      ]
    },
    {
      "cell_type": "code",
      "source": [
        "any_kwargument(Aam= 56, Bam= 67, Cam= 78, Dam= 89, Eam= 90, Fam= 91, Gam= 34, Ham= 32, Iam= 33, Jam= 54, Kam= 57)"
      ],
      "metadata": {
        "colab": {
          "base_uri": "https://localhost:8080/"
        },
        "id": "u-BR7hTRGj0p",
        "outputId": "a335d325-19fd-4a7c-d218-4d9067eefd65"
      },
      "execution_count": null,
      "outputs": [
        {
          "output_type": "execute_result",
          "data": {
            "text/plain": [
              "{'Aam': 56,\n",
              " 'Bam': 67,\n",
              " 'Cam': 78,\n",
              " 'Dam': 89,\n",
              " 'Eam': 90,\n",
              " 'Fam': 91,\n",
              " 'Gam': 34,\n",
              " 'Ham': 32,\n",
              " 'Iam': 33,\n",
              " 'Jam': 54,\n",
              " 'Kam': 57}"
            ]
          },
          "metadata": {},
          "execution_count": 75
        }
      ]
    },
    {
      "cell_type": "code",
      "source": [],
      "metadata": {
        "id": "o0jh5UykHT8K"
      },
      "execution_count": null,
      "outputs": []
    }
  ]
}