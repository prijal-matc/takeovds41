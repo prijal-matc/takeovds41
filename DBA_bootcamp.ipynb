{
  "nbformat": 4,
  "nbformat_minor": 0,
  "metadata": {
    "colab": {
      "provenance": [],
      "authorship_tag": "ABX9TyNzG0PfBAtPlSwSrIlFS6VH",
      "include_colab_link": true
    },
    "kernelspec": {
      "name": "python3",
      "display_name": "Python 3"
    },
    "language_info": {
      "name": "python"
    }
  },
  "cells": [
    {
      "cell_type": "markdown",
      "metadata": {
        "id": "view-in-github",
        "colab_type": "text"
      },
      "source": [
        "<a href=\"https://colab.research.google.com/github/prijal-matc/takeovds41/blob/main/DBA_bootcamp.ipynb\" target=\"_parent\"><img src=\"https://colab.research.google.com/assets/colab-badge.svg\" alt=\"Open In Colab\"/></a>"
      ]
    },
    {
      "cell_type": "code",
      "execution_count": null,
      "metadata": {
        "colab": {
          "base_uri": "https://localhost:8080/"
        },
        "id": "bEWP5MqnpvCa",
        "outputId": "97a1dd66-ce68-46f0-a37f-959ba2a2fc84"
      },
      "outputs": [
        {
          "output_type": "stream",
          "name": "stdout",
          "text": [
            "25.85 <class 'float'>\n",
            "6086086089 <class 'int'>\n",
            "(10+30j) <class 'complex'>\n",
            "True <class 'bool'>\n",
            "Prahlad Rijal <class 'str'>\n"
          ]
        }
      ],
      "source": [
        "percent = 25.85\n",
        "print (percent, type(percent))\n",
        "mobile = 6086086089\n",
        "print (mobile, type(mobile))\n",
        "complex = 10+30j\n",
        "print (complex, type(complex))\n",
        "visa = True\n",
        "print (visa, type(visa))\n",
        "name = 'Prahlad Rijal'\n",
        "print (name, type(name))\n"
      ]
    },
    {
      "cell_type": "code",
      "source": [
        "lst1 = ['mango', 'banana', 'apple', 'cherry', 'guava']\n",
        "print (lst1, type(lst1))"
      ],
      "metadata": {
        "colab": {
          "base_uri": "https://localhost:8080/"
        },
        "id": "K2cJqoxerf-2",
        "outputId": "275fcf68-bb46-4e9e-b834-3d0a7ce4d661"
      },
      "execution_count": null,
      "outputs": [
        {
          "output_type": "stream",
          "name": "stdout",
          "text": [
            "['mango', 'banana', 'apple', 'cherry', 'guava'] <class 'list'>\n"
          ]
        }
      ]
    },
    {
      "cell_type": "code",
      "source": [
        "tup1 = ('suger', 'tea', 'coffee', 'bread')\n",
        "print (tup1, type(tup1))"
      ],
      "metadata": {
        "colab": {
          "base_uri": "https://localhost:8080/"
        },
        "id": "RF6UMw8Mr_Mm",
        "outputId": "7c951d20-042d-4b3d-e55e-7ac9aec40b04"
      },
      "execution_count": null,
      "outputs": [
        {
          "output_type": "stream",
          "name": "stdout",
          "text": [
            "('suger', 'tea', 'coffee', 'bread') <class 'tuple'>\n"
          ]
        }
      ]
    },
    {
      "cell_type": "code",
      "source": [
        "set1 = {1,2,3,4, 'a','b','c','d', 12.23,34.45,56.66, True,False}\n",
        "print (set1, type(set1))"
      ],
      "metadata": {
        "colab": {
          "base_uri": "https://localhost:8080/"
        },
        "id": "tta4cb-UsSiD",
        "outputId": "80f062a6-d030-4d75-b4d0-8c40cd838eaf"
      },
      "execution_count": null,
      "outputs": [
        {
          "output_type": "stream",
          "name": "stdout",
          "text": [
            "{False, 1, 2, 3, 4, 'a', 34.45, 'b', 12.23, 56.66, 'd', 'c'} <class 'set'>\n"
          ]
        }
      ]
    },
    {
      "cell_type": "code",
      "source": [
        "lst1 = ['mango', 'banana', 'apple', 'cherry', 'guava']\n",
        "print(lst1)\n",
        "lst1.append\n",
        "print(lst1)"
      ],
      "metadata": {
        "colab": {
          "base_uri": "https://localhost:8080/"
        },
        "id": "iuVHpbtpsxfj",
        "outputId": "9ad46abe-2212-4f2d-c1d5-ed3780c30ab9"
      },
      "execution_count": null,
      "outputs": [
        {
          "output_type": "stream",
          "name": "stdout",
          "text": [
            "['mango', 'banana', 'apple', 'cherry', 'guava']\n",
            "['mango', 'banana', 'apple', 'cherry', 'guava']\n"
          ]
        }
      ]
    },
    {
      "cell_type": "code",
      "source": [
        "lst1 = ['mango', 'banana', 'apple', 'cherry', 'guava']\n",
        "print(lst1)\n",
        "lst1.clear()\n",
        "print(lst1)"
      ],
      "metadata": {
        "colab": {
          "base_uri": "https://localhost:8080/"
        },
        "id": "vis9j6was7Sp",
        "outputId": "2e0b5730-a5b6-4319-81b8-e24c78c1d2ca"
      },
      "execution_count": null,
      "outputs": [
        {
          "output_type": "stream",
          "name": "stdout",
          "text": [
            "['mango', 'banana', 'apple', 'cherry', 'guava']\n",
            "[]\n"
          ]
        }
      ]
    },
    {
      "cell_type": "code",
      "source": [
        "lst1 = ['mango', 'banana', 'apple', 'cherry', 'guava']\n",
        "print(lst1)\n",
        "lst1.copy()\n",
        "print(lst1)"
      ],
      "metadata": {
        "colab": {
          "base_uri": "https://localhost:8080/"
        },
        "id": "Mb3Hjwk9tFup",
        "outputId": "fedb5e7c-e09f-4e42-8fde-6e43d639dc67"
      },
      "execution_count": null,
      "outputs": [
        {
          "output_type": "stream",
          "name": "stdout",
          "text": [
            "['mango', 'banana', 'apple', 'cherry', 'guava']\n",
            "['mango', 'banana', 'apple', 'cherry', 'guava']\n"
          ]
        }
      ]
    },
    {
      "cell_type": "code",
      "source": [
        "lst1 = ['mango', 'banana', 'apple', 'cherry', 'guava']\n",
        "print(lst1)\n",
        "lst1.count('banana')\n",
        "print(lst1)"
      ],
      "metadata": {
        "colab": {
          "base_uri": "https://localhost:8080/"
        },
        "id": "h8YOK7LXtUPg",
        "outputId": "a07d0f50-1bee-4de6-e2bd-2432af1c9f79"
      },
      "execution_count": null,
      "outputs": [
        {
          "output_type": "stream",
          "name": "stdout",
          "text": [
            "['mango', 'banana', 'apple', 'cherry', 'guava']\n",
            "['mango', 'banana', 'apple', 'cherry', 'guava']\n"
          ]
        }
      ]
    },
    {
      "cell_type": "code",
      "source": [
        "lst1 = ['mango', 'banana', 'apple', 'cherry', 'guava']\n",
        "print(lst1)\n",
        "lst1.reverse()\n",
        "print(lst1)"
      ],
      "metadata": {
        "colab": {
          "base_uri": "https://localhost:8080/"
        },
        "id": "ti7VWNIeuBn-",
        "outputId": "d43f7f8c-789d-48b3-b76e-20bab209be5f"
      },
      "execution_count": null,
      "outputs": [
        {
          "output_type": "stream",
          "name": "stdout",
          "text": [
            "['mango', 'banana', 'apple', 'cherry', 'guava']\n",
            "['guava', 'cherry', 'apple', 'banana', 'mango']\n"
          ]
        }
      ]
    },
    {
      "cell_type": "code",
      "source": [
        "tup1 = ('mango', 'banana', 'apple', 'cherry', 'guava')\n",
        "print(tup1)\n",
        "tup1.index\n",
        "print(tup1)"
      ],
      "metadata": {
        "colab": {
          "base_uri": "https://localhost:8080/"
        },
        "id": "iYknDs54uMUl",
        "outputId": "3064282b-2731-4fc0-9a6a-24e8a54a6e9b"
      },
      "execution_count": null,
      "outputs": [
        {
          "output_type": "stream",
          "name": "stdout",
          "text": [
            "('mango', 'banana', 'apple', 'cherry', 'guava')\n",
            "('mango', 'banana', 'apple', 'cherry', 'guava')\n"
          ]
        }
      ]
    },
    {
      "cell_type": "code",
      "source": [
        "tup1 = ('mango', 'banana', 'apple', 'cherry', 'guava')\n",
        "print(tup1)\n",
        "tup1.count('guava')\n",
        "print(tup1)\n"
      ],
      "metadata": {
        "colab": {
          "base_uri": "https://localhost:8080/"
        },
        "id": "iBEvWKrPujQ9",
        "outputId": "a881dd13-229f-4cb2-d029-06f6027a73a0"
      },
      "execution_count": null,
      "outputs": [
        {
          "output_type": "stream",
          "name": "stdout",
          "text": [
            "('mango', 'banana', 'apple', 'cherry', 'guava')\n",
            "('mango', 'banana', 'apple', 'cherry', 'guava')\n"
          ]
        }
      ]
    },
    {
      "cell_type": "code",
      "source": [
        "#**Wednesday Dec 06, 2023**\n"
      ],
      "metadata": {
        "id": "svziaJafyunC"
      },
      "execution_count": null,
      "outputs": []
    },
    {
      "cell_type": "code",
      "source": [
        "lst1 = [12,23,34,45,56,67,78,89,90]\n",
        "lst1[::]"
      ],
      "metadata": {
        "colab": {
          "base_uri": "https://localhost:8080/"
        },
        "id": "WgnmBrGh0DdA",
        "outputId": "2df3c950-8a7e-4839-a0d0-40e86e104eff"
      },
      "execution_count": null,
      "outputs": [
        {
          "output_type": "execute_result",
          "data": {
            "text/plain": [
              "[12, 23, 34, 45, 56, 67, 78, 89, 90]"
            ]
          },
          "metadata": {},
          "execution_count": 22
        }
      ]
    },
    {
      "cell_type": "code",
      "source": [
        "lst1 = [12,23,34,45,56,67,78,89,90]\n",
        "lst1[0::]"
      ],
      "metadata": {
        "colab": {
          "base_uri": "https://localhost:8080/"
        },
        "id": "09v05QOx0hao",
        "outputId": "c3c21959-4dab-456a-d6c1-2f6e1952a879"
      },
      "execution_count": null,
      "outputs": [
        {
          "output_type": "execute_result",
          "data": {
            "text/plain": [
              "[12, 23, 34, 45, 56, 67, 78, 89, 90]"
            ]
          },
          "metadata": {},
          "execution_count": 23
        }
      ]
    },
    {
      "cell_type": "code",
      "source": [
        "lst1 = [12,23,34,45,56,67,78,89,90]\n",
        "lst1[0:len(lst1)]"
      ],
      "metadata": {
        "colab": {
          "base_uri": "https://localhost:8080/"
        },
        "id": "mCSG8bjx0nb4",
        "outputId": "05264292-9d6c-4bee-ddbd-d0aa0bc149fa"
      },
      "execution_count": null,
      "outputs": [
        {
          "output_type": "execute_result",
          "data": {
            "text/plain": [
              "[12, 23, 34, 45, 56, 67, 78, 89, 90]"
            ]
          },
          "metadata": {},
          "execution_count": 24
        }
      ]
    },
    {
      "cell_type": "code",
      "source": [
        "lst1 = [12,23,34,45,56,67,78,89,90]\n",
        "lst1[::1]\n"
      ],
      "metadata": {
        "colab": {
          "base_uri": "https://localhost:8080/"
        },
        "id": "vpHwu8op0xqH",
        "outputId": "bee30864-8f44-43f2-e343-5cee6147a9c3"
      },
      "execution_count": null,
      "outputs": [
        {
          "output_type": "execute_result",
          "data": {
            "text/plain": [
              "[12, 23, 34, 45, 56, 67, 78, 89, 90]"
            ]
          },
          "metadata": {},
          "execution_count": 25
        }
      ]
    },
    {
      "cell_type": "code",
      "source": [
        "lst1 = [12,23,34,45,56,67,78,89,90]\n",
        "lst1[:4:]"
      ],
      "metadata": {
        "colab": {
          "base_uri": "https://localhost:8080/"
        },
        "id": "4JS7U2zQ06Yf",
        "outputId": "ccce927b-5eb3-4648-8926-f0db6c481124"
      },
      "execution_count": null,
      "outputs": [
        {
          "output_type": "execute_result",
          "data": {
            "text/plain": [
              "[12, 23, 34, 45]"
            ]
          },
          "metadata": {},
          "execution_count": 26
        }
      ]
    },
    {
      "cell_type": "code",
      "source": [
        "lst1 = [12,23,34,45,56,67,78,89,90]\n",
        "lst1[2:6:]"
      ],
      "metadata": {
        "colab": {
          "base_uri": "https://localhost:8080/"
        },
        "id": "nXuFt2bZ1BaW",
        "outputId": "94da748d-5045-447c-ba2f-bd33a5285784"
      },
      "execution_count": null,
      "outputs": [
        {
          "output_type": "execute_result",
          "data": {
            "text/plain": [
              "[34, 45, 56, 67]"
            ]
          },
          "metadata": {},
          "execution_count": 27
        }
      ]
    },
    {
      "cell_type": "code",
      "source": [
        "lst1 = [12,23,34,45,56,67,78,89,90]\n",
        "lst1[-1:-(len(lst1)+1):-1]"
      ],
      "metadata": {
        "colab": {
          "base_uri": "https://localhost:8080/"
        },
        "id": "hODzNMN11MG7",
        "outputId": "d14a878c-7c61-4aef-f231-ba080252414b"
      },
      "execution_count": null,
      "outputs": [
        {
          "output_type": "execute_result",
          "data": {
            "text/plain": [
              "[90, 89, 78, 67, 56, 45, 34, 23, 12]"
            ]
          },
          "metadata": {},
          "execution_count": 31
        }
      ]
    },
    {
      "cell_type": "code",
      "source": [
        "lst1 = [12,23,34,45,56,67,78,89,90]\n",
        "lst1[-6::-1]"
      ],
      "metadata": {
        "colab": {
          "base_uri": "https://localhost:8080/"
        },
        "id": "dzo3lLWV2P5T",
        "outputId": "3f17b747-d52c-42c7-8a29-60f6ae617c85"
      },
      "execution_count": null,
      "outputs": [
        {
          "output_type": "execute_result",
          "data": {
            "text/plain": [
              "[45, 34, 23, 12]"
            ]
          },
          "metadata": {},
          "execution_count": 32
        }
      ]
    },
    {
      "cell_type": "code",
      "source": [
        "lst1 = [12,23,34,45,56,67,78,89,90]\n",
        "lst1[-4:-8:-1]\n"
      ],
      "metadata": {
        "colab": {
          "base_uri": "https://localhost:8080/"
        },
        "id": "jjtM0lGW238b",
        "outputId": "c7449b96-a90b-4bec-dc1b-338bcb37fecf"
      },
      "execution_count": null,
      "outputs": [
        {
          "output_type": "execute_result",
          "data": {
            "text/plain": [
              "[67, 56, 45, 34]"
            ]
          },
          "metadata": {},
          "execution_count": 33
        }
      ]
    },
    {
      "cell_type": "code",
      "source": [
        "lst1 = [12,23,34,45,56,67,78,89,90]\n",
        "lst1[-1::-4]"
      ],
      "metadata": {
        "colab": {
          "base_uri": "https://localhost:8080/"
        },
        "id": "FVt8-Cc44v2w",
        "outputId": "fc4fc4ba-a6bc-49a6-b31f-cd38150fb198"
      },
      "execution_count": null,
      "outputs": [
        {
          "output_type": "execute_result",
          "data": {
            "text/plain": [
              "[90, 56, 12]"
            ]
          },
          "metadata": {},
          "execution_count": 35
        }
      ]
    },
    {
      "cell_type": "code",
      "source": [
        "lst1 = [12,23,34,45,56,67,78,89,90]\n",
        "lst1[-4::-3]"
      ],
      "metadata": {
        "colab": {
          "base_uri": "https://localhost:8080/"
        },
        "id": "wvdBll3D8T5E",
        "outputId": "eebcd3db-e7e7-46b8-b4a3-63b9d8eef5ab"
      },
      "execution_count": null,
      "outputs": [
        {
          "output_type": "execute_result",
          "data": {
            "text/plain": [
              "[67, 34]"
            ]
          },
          "metadata": {},
          "execution_count": 37
        }
      ]
    },
    {
      "cell_type": "code",
      "source": [
        "lst1 = [12,23,34,45,56,67,78,89,90]\n",
        "lst1[3:9:1]"
      ],
      "metadata": {
        "colab": {
          "base_uri": "https://localhost:8080/"
        },
        "id": "bA326LzN8ukt",
        "outputId": "d676a1d1-14a2-446d-a23d-ee2dc1ff71fd"
      },
      "execution_count": null,
      "outputs": [
        {
          "output_type": "execute_result",
          "data": {
            "text/plain": [
              "[45, 56, 67, 78, 89, 90]"
            ]
          },
          "metadata": {},
          "execution_count": 38
        }
      ]
    },
    {
      "cell_type": "code",
      "source": [
        "lst1 = [12,23,34,45,56,67,78,89,90]\n",
        "lst1[-6::1]"
      ],
      "metadata": {
        "id": "EEBszjTN9r6H"
      },
      "execution_count": null,
      "outputs": []
    },
    {
      "cell_type": "code",
      "source": [
        "lst1 = [12,23,34,45,56,67,78,89,90]\n",
        "lst1[-6::1]"
      ],
      "metadata": {
        "colab": {
          "base_uri": "https://localhost:8080/"
        },
        "id": "iChWo3RZ96w3",
        "outputId": "6d88a8fc-8b1f-4588-c544-99587acdb089"
      },
      "execution_count": null,
      "outputs": [
        {
          "output_type": "execute_result",
          "data": {
            "text/plain": [
              "[45, 56, 67, 78, 89, 90]"
            ]
          },
          "metadata": {},
          "execution_count": 39
        }
      ]
    },
    {
      "cell_type": "code",
      "source": [
        "lst1 = [12,23,34,45,56,67,78,89,90]\n",
        "lst1[-1:-7:-1]"
      ],
      "metadata": {
        "colab": {
          "base_uri": "https://localhost:8080/"
        },
        "id": "I34Mubq1-Cn2",
        "outputId": "efab6174-a0d1-4714-8412-efff666e1f65"
      },
      "execution_count": null,
      "outputs": [
        {
          "output_type": "execute_result",
          "data": {
            "text/plain": [
              "[90, 89, 78, 67, 56, 45]"
            ]
          },
          "metadata": {},
          "execution_count": 40
        }
      ]
    },
    {
      "cell_type": "code",
      "source": [
        "lst1 = [12,23,34,45,56,67,78,89,90]\n",
        "lst1[:2:-1]"
      ],
      "metadata": {
        "colab": {
          "base_uri": "https://localhost:8080/"
        },
        "id": "_lA0KEEMD1jo",
        "outputId": "ff20b63c-09dc-4fbd-eb98-a84092ba67b8"
      },
      "execution_count": null,
      "outputs": [
        {
          "output_type": "execute_result",
          "data": {
            "text/plain": [
              "[90, 89, 78, 67, 56, 45]"
            ]
          },
          "metadata": {},
          "execution_count": 41
        }
      ]
    },
    {
      "cell_type": "markdown",
      "source": [
        "Python Operators\n",
        "1. arithmetic operator\n",
        "2. Assignment operator\n",
        "3. Comparison operator\n",
        "4. Logical Operator"
      ],
      "metadata": {
        "id": "rFHHmYrzEC7H"
      }
    },
    {
      "cell_type": "code",
      "source": [
        "a = 10\n",
        "b = 5\n",
        "\n",
        "print(a+b)\n",
        "print(a-b)\n",
        "print(a*b)\n",
        "print(a/b)\n",
        "\n",
        "a = 13\n",
        "b =3\n",
        "\n",
        "print(a%b) # Modulus\n",
        "print(a//b) # Floor division\n",
        "print(a**b) # Exponentiation"
      ],
      "metadata": {
        "colab": {
          "base_uri": "https://localhost:8080/"
        },
        "id": "aK7JGNq3EUpu",
        "outputId": "78fefb0a-4aa0-44f4-db4c-c3456418a7f2"
      },
      "execution_count": null,
      "outputs": [
        {
          "output_type": "stream",
          "name": "stdout",
          "text": [
            "15\n",
            "5\n",
            "50\n",
            "2.0\n",
            "1\n",
            "4\n",
            "2197\n"
          ]
        }
      ]
    },
    {
      "cell_type": "code",
      "source": [
        "a = a + b"
      ],
      "metadata": {
        "id": "JKbUTearGoDq"
      },
      "execution_count": null,
      "outputs": []
    },
    {
      "cell_type": "code",
      "source": [
        "a = 10\n",
        "b = 20\n",
        "print(a+b)"
      ],
      "metadata": {
        "colab": {
          "base_uri": "https://localhost:8080/"
        },
        "id": "vf9fae0HHRMK",
        "outputId": "a6fcbeb7-7d02-4a29-c870-47aaaf86ed8d"
      },
      "execution_count": null,
      "outputs": [
        {
          "output_type": "stream",
          "name": "stdout",
          "text": [
            "30\n"
          ]
        }
      ]
    },
    {
      "cell_type": "code",
      "source": [
        "a = 10\n",
        "b =20\n",
        "a +=b\n",
        "print (a)"
      ],
      "metadata": {
        "colab": {
          "base_uri": "https://localhost:8080/"
        },
        "id": "XNM1c5LMHdly",
        "outputId": "01ce20a6-f408-4457-f0cb-ddd584924327"
      },
      "execution_count": null,
      "outputs": [
        {
          "output_type": "stream",
          "name": "stdout",
          "text": [
            "30\n"
          ]
        }
      ]
    },
    {
      "cell_type": "code",
      "source": [
        "a = 10\n",
        "b = 20\n",
        "a -=b\n",
        "print(a)\n"
      ],
      "metadata": {
        "colab": {
          "base_uri": "https://localhost:8080/"
        },
        "id": "urHeI30rHdj4",
        "outputId": "595a6a34-6317-498c-a071-b53f515d8880"
      },
      "execution_count": null,
      "outputs": [
        {
          "output_type": "stream",
          "name": "stdout",
          "text": [
            "-10\n"
          ]
        }
      ]
    },
    {
      "cell_type": "code",
      "source": [
        "a = 10\n",
        "b = 20\n",
        "\n",
        "a *=b\n",
        "print(a)"
      ],
      "metadata": {
        "colab": {
          "base_uri": "https://localhost:8080/"
        },
        "id": "g02jVo_6H5oN",
        "outputId": "3122b861-6690-465d-f0a2-adb77589d468"
      },
      "execution_count": null,
      "outputs": [
        {
          "output_type": "stream",
          "name": "stdout",
          "text": [
            "200\n"
          ]
        }
      ]
    },
    {
      "cell_type": "code",
      "source": [
        "a = 10\n",
        "b = 20\n",
        "\n",
        "a /=b\n",
        "print(a)"
      ],
      "metadata": {
        "colab": {
          "base_uri": "https://localhost:8080/"
        },
        "id": "15VlNkv_ICeN",
        "outputId": "e0b9183d-ed26-400a-dfef-e8c8209f9abc"
      },
      "execution_count": null,
      "outputs": [
        {
          "output_type": "stream",
          "name": "stdout",
          "text": [
            "0.5\n"
          ]
        }
      ]
    },
    {
      "cell_type": "code",
      "source": [
        "a = 10\n",
        "b = 20\n",
        "\n",
        "a %=b\n",
        "print(a)"
      ],
      "metadata": {
        "colab": {
          "base_uri": "https://localhost:8080/"
        },
        "id": "RNzhUL1uIKEM",
        "outputId": "94350cd7-0b16-49a9-9c41-822c5bf29f5d"
      },
      "execution_count": null,
      "outputs": [
        {
          "output_type": "stream",
          "name": "stdout",
          "text": [
            "10\n"
          ]
        }
      ]
    },
    {
      "cell_type": "code",
      "source": [
        "a = 10\n",
        "b = 20\n",
        "a //=b\n",
        "print(a)"
      ],
      "metadata": {
        "colab": {
          "base_uri": "https://localhost:8080/"
        },
        "id": "GuKSri73IRQk",
        "outputId": "79492a3c-979a-4cd9-8684-c1fb9efdd6ea"
      },
      "execution_count": null,
      "outputs": [
        {
          "output_type": "stream",
          "name": "stdout",
          "text": [
            "0\n"
          ]
        }
      ]
    },
    {
      "cell_type": "code",
      "source": [
        "a = 10\n",
        "b = 20\n",
        "a **=b\n",
        "print(a)"
      ],
      "metadata": {
        "colab": {
          "base_uri": "https://localhost:8080/"
        },
        "id": "T-_JNTnaIZcG",
        "outputId": "4a641905-661e-407a-f12e-a034b4c91014"
      },
      "execution_count": null,
      "outputs": [
        {
          "output_type": "stream",
          "name": "stdout",
          "text": [
            "100000000000000000000\n"
          ]
        }
      ]
    },
    {
      "cell_type": "code",
      "source": [
        "a = 10\n",
        "b = 20\n",
        "\n",
        "a == b\n"
      ],
      "metadata": {
        "colab": {
          "base_uri": "https://localhost:8080/"
        },
        "id": "uw_B-73nKVEG",
        "outputId": "1a751feb-bdf7-4c8c-cdd6-a77bc81efa4b"
      },
      "execution_count": null,
      "outputs": [
        {
          "output_type": "execute_result",
          "data": {
            "text/plain": [
              "False"
            ]
          },
          "metadata": {},
          "execution_count": 62
        }
      ]
    },
    {
      "cell_type": "code",
      "source": [
        "a = 10\n",
        "b = 20\n",
        "\n",
        "a !=b\n"
      ],
      "metadata": {
        "colab": {
          "base_uri": "https://localhost:8080/"
        },
        "id": "7n3D_X-OK_xU",
        "outputId": "8b612485-3157-4134-b8ca-96f6bc85c6cc"
      },
      "execution_count": null,
      "outputs": [
        {
          "output_type": "execute_result",
          "data": {
            "text/plain": [
              "True"
            ]
          },
          "metadata": {},
          "execution_count": 61
        }
      ]
    },
    {
      "cell_type": "code",
      "source": [
        "a = 10\n",
        "b = 20\n",
        "\n",
        "a > b\n"
      ],
      "metadata": {
        "colab": {
          "base_uri": "https://localhost:8080/"
        },
        "id": "1oHXKjD3LKHs",
        "outputId": "72f3801f-c10d-488a-9d18-f7727729e484"
      },
      "execution_count": null,
      "outputs": [
        {
          "output_type": "execute_result",
          "data": {
            "text/plain": [
              "False"
            ]
          },
          "metadata": {},
          "execution_count": 60
        }
      ]
    },
    {
      "cell_type": "code",
      "source": [
        "a = 10\n",
        "b = 20\n",
        "\n",
        "a < b"
      ],
      "metadata": {
        "colab": {
          "base_uri": "https://localhost:8080/"
        },
        "id": "NOQsKSRgLjGk",
        "outputId": "94ae3ce1-506a-4647-e7ba-7a8b00f0b22a"
      },
      "execution_count": null,
      "outputs": [
        {
          "output_type": "execute_result",
          "data": {
            "text/plain": [
              "True"
            ]
          },
          "metadata": {},
          "execution_count": 63
        }
      ]
    },
    {
      "cell_type": "code",
      "source": [
        "a = 10\n",
        "b = 20\n",
        "\n",
        "a >= b"
      ],
      "metadata": {
        "colab": {
          "base_uri": "https://localhost:8080/"
        },
        "id": "rRu_SCptLwcr",
        "outputId": "ac20c544-17cc-4f01-e4ce-e1245f30ddba"
      },
      "execution_count": null,
      "outputs": [
        {
          "output_type": "execute_result",
          "data": {
            "text/plain": [
              "False"
            ]
          },
          "metadata": {},
          "execution_count": 64
        }
      ]
    },
    {
      "cell_type": "code",
      "source": [
        "a = 10\n",
        "b = 20\n",
        "\n",
        "a <= b"
      ],
      "metadata": {
        "colab": {
          "base_uri": "https://localhost:8080/"
        },
        "id": "z1Z861F_L28D",
        "outputId": "76746740-e9ec-4725-f8e6-4748cba1052f"
      },
      "execution_count": null,
      "outputs": [
        {
          "output_type": "execute_result",
          "data": {
            "text/plain": [
              "True"
            ]
          },
          "metadata": {},
          "execution_count": 65
        }
      ]
    },
    {
      "cell_type": "code",
      "source": [
        "a = 10\n",
        "b = 20\n",
        "\n",
        "a < 5 and b < 10"
      ],
      "metadata": {
        "colab": {
          "base_uri": "https://localhost:8080/"
        },
        "id": "pxutwFhrMFnq",
        "outputId": "6ad376cf-a3b2-474a-8b9b-cd17777c540e"
      },
      "execution_count": null,
      "outputs": [
        {
          "output_type": "execute_result",
          "data": {
            "text/plain": [
              "False"
            ]
          },
          "metadata": {},
          "execution_count": 69
        }
      ]
    },
    {
      "cell_type": "code",
      "source": [
        "a = 10\n",
        "b = 20\n",
        "\n",
        "a < 5 or b < 4"
      ],
      "metadata": {
        "colab": {
          "base_uri": "https://localhost:8080/"
        },
        "id": "zKL5GpRFMzGY",
        "outputId": "a44c4b18-d790-4d49-af8c-09b55b56a153"
      },
      "execution_count": null,
      "outputs": [
        {
          "output_type": "execute_result",
          "data": {
            "text/plain": [
              "False"
            ]
          },
          "metadata": {},
          "execution_count": 70
        }
      ]
    },
    {
      "cell_type": "code",
      "source": [
        "a = 10\n",
        "b = 20\n",
        "\n",
        "not (a <5 and b < 10)"
      ],
      "metadata": {
        "colab": {
          "base_uri": "https://localhost:8080/"
        },
        "id": "CZ-Tb7AoNO3P",
        "outputId": "4c720ec0-09f2-4739-8400-d67598b347cf"
      },
      "execution_count": null,
      "outputs": [
        {
          "output_type": "execute_result",
          "data": {
            "text/plain": [
              "True"
            ]
          },
          "metadata": {},
          "execution_count": 71
        }
      ]
    },
    {
      "cell_type": "code",
      "source": [],
      "metadata": {
        "id": "e7HMKzJHPFh7"
      },
      "execution_count": null,
      "outputs": []
    },
    {
      "cell_type": "code",
      "source": [],
      "metadata": {
        "id": "COz9wRb0jjp6"
      },
      "execution_count": null,
      "outputs": []
    },
    {
      "cell_type": "markdown",
      "source": [
        "Thursday Dec 07 2023"
      ],
      "metadata": {
        "id": "mNWC_UGvAe7_"
      }
    },
    {
      "cell_type": "code",
      "source": [
        "a = 10\n",
        "b = 20\n",
        "\n",
        "if a < b:\n",
        "print( 'a is greater than b')\n",
        "else:\n",
        "  print('we are in else part')"
      ],
      "metadata": {
        "colab": {
          "base_uri": "https://localhost:8080/",
          "height": 140
        },
        "id": "r94yLfL0AiyZ",
        "outputId": "39ebbb54-9a86-4182-e6bf-b573b5f2f09d"
      },
      "execution_count": null,
      "outputs": [
        {
          "output_type": "error",
          "ename": "IndentationError",
          "evalue": "ignored",
          "traceback": [
            "\u001b[0;36m  File \u001b[0;32m\"<ipython-input-3-738f3e0b94df>\"\u001b[0;36m, line \u001b[0;32m5\u001b[0m\n\u001b[0;31m    print( 'a is greater than b')\u001b[0m\n\u001b[0m    ^\u001b[0m\n\u001b[0;31mIndentationError\u001b[0m\u001b[0;31m:\u001b[0m expected an indented block after 'if' statement on line 4\n"
          ]
        }
      ]
    },
    {
      "cell_type": "code",
      "source": [
        "a =10\n",
        "b = 20\n",
        "c = 30\n",
        "\n",
        "if (a < b) and (b < c):\n",
        "    print(\"condition is True\")\n"
      ],
      "metadata": {
        "colab": {
          "base_uri": "https://localhost:8080/"
        },
        "id": "3H8U7HaeBdul",
        "outputId": "1ccc25be-63a0-4f1c-ce54-d28b673408e1"
      },
      "execution_count": null,
      "outputs": [
        {
          "output_type": "stream",
          "name": "stdout",
          "text": [
            "condition is True\n"
          ]
        }
      ]
    },
    {
      "cell_type": "code",
      "source": [
        "a =10\n",
        "b = 20\n",
        "c = 30\n",
        "\n",
        "if (a > b) or (b < c):\n",
        "    print(\"condition is True\")"
      ],
      "metadata": {
        "colab": {
          "base_uri": "https://localhost:8080/"
        },
        "id": "kZBGjpGKB1st",
        "outputId": "994977bc-2957-4e76-f12f-3a1b8ca1f9ce"
      },
      "execution_count": null,
      "outputs": [
        {
          "output_type": "stream",
          "name": "stdout",
          "text": [
            "condition is True\n"
          ]
        }
      ]
    },
    {
      "cell_type": "code",
      "source": [
        "a =10\n",
        "b = 20\n",
        "c = 30\n",
        "\n",
        "if (a > b) or (b < c):\n",
        "    print(\"condition is True\")"
      ],
      "metadata": {
        "colab": {
          "base_uri": "https://localhost:8080/"
        },
        "id": "fAANiAfzB9PS",
        "outputId": "058af123-8cb1-4f61-d5e7-aa9df8c6eb49"
      },
      "execution_count": null,
      "outputs": [
        {
          "output_type": "stream",
          "name": "stdout",
          "text": [
            "condition is True\n"
          ]
        }
      ]
    },
    {
      "cell_type": "code",
      "source": [
        "a =10\n",
        "b = 20\n",
        "c = 30\n",
        "\n",
        "if (a < b) and ((b < c) or (a < c)):\n",
        "    print(\"condition is True\")"
      ],
      "metadata": {
        "colab": {
          "base_uri": "https://localhost:8080/"
        },
        "id": "ReQ0ICZaCESS",
        "outputId": "093086ef-df96-4d0e-9202-5e6c961c04c8"
      },
      "execution_count": null,
      "outputs": [
        {
          "output_type": "stream",
          "name": "stdout",
          "text": [
            "condition is True\n"
          ]
        }
      ]
    },
    {
      "cell_type": "code",
      "source": [
        "a =10\n",
        "b = 20\n",
        "c = 30\n",
        "\n",
        "if (a < b) and (b < c) or (a < c):\n",
        "    print(\"condition is True\")"
      ],
      "metadata": {
        "colab": {
          "base_uri": "https://localhost:8080/"
        },
        "id": "ixDO8MzlCuOo",
        "outputId": "9368d90e-1304-4b6d-afa8-4508ee973cbf"
      },
      "execution_count": null,
      "outputs": [
        {
          "output_type": "stream",
          "name": "stdout",
          "text": [
            "condition is True\n"
          ]
        }
      ]
    },
    {
      "cell_type": "code",
      "source": [
        "a =10\n",
        "b = 20\n",
        "c = 30\n",
        "\n",
        "if a < b:\n",
        "    print('a < b')\n",
        "elif b < c:\n",
        "    print('b < c')\n",
        "elif a < c:\n",
        "    print('a < c')"
      ],
      "metadata": {
        "colab": {
          "base_uri": "https://localhost:8080/"
        },
        "id": "8HAvaA22FuUz",
        "outputId": "df224209-2823-41af-f129-d9ec4a51cd3c"
      },
      "execution_count": null,
      "outputs": [
        {
          "output_type": "stream",
          "name": "stdout",
          "text": [
            "a < b\n"
          ]
        }
      ]
    },
    {
      "cell_type": "code",
      "source": [
        "a =10\n",
        "b = 20\n",
        "c = 30\n",
        "\n",
        "if a > b:\n",
        "    print('a > b')\n",
        "elif b > c:\n",
        "    print('b > c')\n",
        "elif a > c:\n",
        "    print('a > c')\n",
        "else:\n",
        "    print('we are in else part')"
      ],
      "metadata": {
        "colab": {
          "base_uri": "https://localhost:8080/"
        },
        "id": "9GiAfr1IGdHa",
        "outputId": "e677f490-7346-4f68-ecf4-b4e5e5dfd71f"
      },
      "execution_count": null,
      "outputs": [
        {
          "output_type": "stream",
          "name": "stdout",
          "text": [
            "we are in else part\n"
          ]
        }
      ]
    },
    {
      "cell_type": "code",
      "source": [
        "a = 10\n",
        "b = 100\n",
        "if a < 100:\n",
        "  print('a < 20')\n",
        "  if a < 85:\n",
        "    print('a < 85')\n",
        "    if a < 70:\n",
        "      print('a < 70')\n",
        "      if a < 55:\n",
        "        print('a < 55')\n",
        "      else:\n",
        "        print('else a < 55')\n",
        "    else:\n",
        "      print('else a < 70')\n",
        "  else:\n",
        "    print('else a < 85')\n",
        "else:\n",
        "  print('else a < 100')"
      ],
      "metadata": {
        "colab": {
          "base_uri": "https://localhost:8080/"
        },
        "id": "yOMS_RZiIR_X",
        "outputId": "3ecb6078-0526-471f-da53-e5c6794ab1ab"
      },
      "execution_count": null,
      "outputs": [
        {
          "output_type": "stream",
          "name": "stdout",
          "text": [
            "a < 20\n",
            "a < 85\n",
            "a < 70\n",
            "a < 55\n"
          ]
        }
      ]
    },
    {
      "cell_type": "code",
      "source": [
        "a = 10\n",
        "b = 100\n",
        "if a < 100:\n",
        "  print('a < 20')\n",
        "  if a < 85:\n",
        "    print('a < 85')\n",
        "    if a < 70:\n",
        "      print('a < 70')\n",
        "      if a < 55:\n",
        "        print('a < 55')\n",
        "      else:\n",
        "        print('else a < 55')\n",
        "    else:\n",
        "      print('else a < 70')\n",
        "  else:\n",
        "    print('else a < 85')\n",
        "else:\n",
        "  print('else a < 100')"
      ],
      "metadata": {
        "colab": {
          "base_uri": "https://localhost:8080/"
        },
        "id": "LCIQ_k2MJlK0",
        "outputId": "86bf0e5d-59a0-4d8e-f0ce-03f188e1e70d"
      },
      "execution_count": null,
      "outputs": [
        {
          "output_type": "stream",
          "name": "stdout",
          "text": [
            "a < 20\n",
            "a < 85\n",
            "a < 70\n",
            "a < 55\n"
          ]
        }
      ]
    },
    {
      "cell_type": "code",
      "source": [
        "from re import I\n",
        "\n",
        "a = 0\n",
        "for i in range(1, 1000001, 1):\n",
        "  a += i\n",
        "print(a)\n"
      ],
      "metadata": {
        "colab": {
          "base_uri": "https://localhost:8080/"
        },
        "id": "aIdKwr3PNhZO",
        "outputId": "154a93b9-4019-4a00-ac9f-3273e0526490"
      },
      "execution_count": null,
      "outputs": [
        {
          "output_type": "stream",
          "name": "stdout",
          "text": [
            "500000500000\n"
          ]
        }
      ]
    },
    {
      "cell_type": "code",
      "source": [
        "i = 1\n",
        "a = 0\n",
        "\n",
        "while i < 101:\n",
        "  a += i\n",
        "  i += 1\n",
        "\n",
        "print (a)"
      ],
      "metadata": {
        "colab": {
          "base_uri": "https://localhost:8080/"
        },
        "id": "9YIlZ2V6N9Fc",
        "outputId": "639ead4d-c98e-47f2-a77a-3e9a059be138"
      },
      "execution_count": null,
      "outputs": [
        {
          "output_type": "stream",
          "name": "stdout",
          "text": [
            "5050\n"
          ]
        }
      ]
    },
    {
      "cell_type": "code",
      "source": [
        "i = 1\n",
        "a = 0\n",
        "\n",
        "while i < 101: # 1, 2, 3, 4, 5...99, 100\n",
        "  a += i # 1,3,6,10,15... 5050\n",
        "  i += 1 # 2,3,4,5,6\n",
        "\n",
        "print (a)"
      ],
      "metadata": {
        "colab": {
          "base_uri": "https://localhost:8080/"
        },
        "id": "QH5TXpDLPXzq",
        "outputId": "ef705c85-155a-441d-a90d-1da44ae087d5"
      },
      "execution_count": null,
      "outputs": [
        {
          "output_type": "stream",
          "name": "stdout",
          "text": [
            "5050\n"
          ]
        }
      ]
    },
    {
      "cell_type": "code",
      "source": [
        "i = 100\n",
        "a = 0\n",
        "\n",
        "while i < 101:\n",
        "  a += i\n",
        "  i += 1\n",
        "\n",
        "print (a)"
      ],
      "metadata": {
        "colab": {
          "base_uri": "https://localhost:8080/"
        },
        "id": "Dgzhqv3wQhX_",
        "outputId": "55fb64a6-b021-4951-d961-473a8a426835"
      },
      "execution_count": null,
      "outputs": [
        {
          "output_type": "stream",
          "name": "stdout",
          "text": [
            "100\n"
          ]
        }
      ]
    },
    {
      "cell_type": "code",
      "source": [
        "a = 100\n",
        "for i in range(1, 1001, 1):\n",
        "  a += i\n",
        "print(a)"
      ],
      "metadata": {
        "colab": {
          "base_uri": "https://localhost:8080/"
        },
        "id": "Is8XaJ1OQv9O",
        "outputId": "ea7fba68-1f63-4480-c04a-f8485368f40b"
      },
      "execution_count": null,
      "outputs": [
        {
          "output_type": "stream",
          "name": "stdout",
          "text": [
            "500600\n"
          ]
        }
      ]
    },
    {
      "cell_type": "code",
      "source": [
        "i = 1\n",
        "a = 0\n",
        "\n",
        "while i < 100:\n",
        "  a += i\n",
        "  i += 1\n",
        "\n",
        "print(a)"
      ],
      "metadata": {
        "colab": {
          "base_uri": "https://localhost:8080/"
        },
        "id": "AaJ7G3xuRGdW",
        "outputId": "468696ae-b74e-48e6-d13e-1b4fd7fe645c"
      },
      "execution_count": null,
      "outputs": [
        {
          "output_type": "stream",
          "name": "stdout",
          "text": [
            "4950\n"
          ]
        }
      ]
    },
    {
      "cell_type": "code",
      "source": [
        "i = 1\n",
        "a = 0\n",
        "while i<101:\n",
        "  a += i\n",
        "  i += 1\n",
        "print(a)"
      ],
      "metadata": {
        "colab": {
          "base_uri": "https://localhost:8080/"
        },
        "id": "5-ButQHDSZej",
        "outputId": "090e3726-1b5c-4ce3-8100-56e530e8ae4e"
      },
      "execution_count": null,
      "outputs": [
        {
          "output_type": "stream",
          "name": "stdout",
          "text": [
            "5050\n"
          ]
        }
      ]
    },
    {
      "cell_type": "code",
      "source": [
        "a = 0\n",
        "for i in range(1, 1001, 1):\n",
        "  a -= i\n",
        "print(a)"
      ],
      "metadata": {
        "colab": {
          "base_uri": "https://localhost:8080/"
        },
        "id": "ilbtQuQnS9Bj",
        "outputId": "e7bb26ea-1cc3-4f74-f5cc-bf5733cf6d9e"
      },
      "execution_count": null,
      "outputs": [
        {
          "output_type": "stream",
          "name": "stdout",
          "text": [
            "-500500\n"
          ]
        }
      ]
    },
    {
      "cell_type": "code",
      "source": [
        "a = 0\n",
        "for i in range(0, 100, )"
      ],
      "metadata": {
        "id": "1o9IB3XVUnow"
      },
      "execution_count": null,
      "outputs": []
    },
    {
      "cell_type": "code",
      "source": [
        "\n",
        "a = 0\n",
        "for i in range(1, 101, 1):\n",
        "  a += i\n",
        "else:\n",
        "  print('we are in else part')\n",
        "  print(a)"
      ],
      "metadata": {
        "colab": {
          "base_uri": "https://localhost:8080/"
        },
        "id": "ayEYwLPLXEmC",
        "outputId": "eb3e0594-a2d7-432e-fd20-f397c5574cb3"
      },
      "execution_count": null,
      "outputs": [
        {
          "output_type": "stream",
          "name": "stdout",
          "text": [
            "we are in else part\n",
            "5050\n"
          ]
        }
      ]
    },
    {
      "cell_type": "code",
      "source": [],
      "metadata": {
        "id": "tElz53O3XlHi"
      },
      "execution_count": null,
      "outputs": []
    },
    {
      "cell_type": "code",
      "source": [
        "i = 1\n",
        "a = 0\n",
        "\n",
        "while i < 101:\n",
        "  a += i\n",
        "  i += 1\n",
        "\n",
        "else:\n",
        "  print('we are in else part')\n",
        "print(a)"
      ],
      "metadata": {
        "colab": {
          "base_uri": "https://localhost:8080/"
        },
        "id": "4y5peO45Xp6q",
        "outputId": "0d0f7288-3d24-4de6-8386-1119d3bc2faf"
      },
      "execution_count": null,
      "outputs": [
        {
          "output_type": "stream",
          "name": "stdout",
          "text": [
            "we are in else part\n",
            "5050\n"
          ]
        }
      ]
    },
    {
      "cell_type": "code",
      "source": [
        "a = 0\n",
        "for i in range(100, 0, 1):\n",
        "  a += i\n",
        "else:\n",
        "  print('we are in else part')\n",
        "  print(a)"
      ],
      "metadata": {
        "id": "S0hgZrySYHxS",
        "outputId": "f8a8751c-caed-4cf4-c990-419c52d1e776",
        "colab": {
          "base_uri": "https://localhost:8080/"
        }
      },
      "execution_count": null,
      "outputs": [
        {
          "output_type": "stream",
          "name": "stdout",
          "text": [
            "we are in else part\n",
            "0\n"
          ]
        }
      ]
    },
    {
      "cell_type": "code",
      "source": [],
      "metadata": {
        "id": "Ijx7QxfPCY3Y"
      },
      "execution_count": null,
      "outputs": []
    },
    {
      "cell_type": "code",
      "source": [
        "Friday  Dec 08,2023\n"
      ],
      "metadata": {
        "colab": {
          "base_uri": "https://localhost:8080/",
          "height": 140
        },
        "id": "LLGTqLw6CY0Y",
        "outputId": "bec1113f-b932-4335-dfa4-c992f2dc1af4"
      },
      "execution_count": 1,
      "outputs": [
        {
          "output_type": "error",
          "ename": "SyntaxError",
          "evalue": "ignored",
          "traceback": [
            "\u001b[0;36m  File \u001b[0;32m\"<ipython-input-1-c373f7b05de1>\"\u001b[0;36m, line \u001b[0;32m1\u001b[0m\n\u001b[0;31m    Friday  Dec 08,2023\u001b[0m\n\u001b[0m                ^\u001b[0m\n\u001b[0;31mSyntaxError\u001b[0m\u001b[0;31m:\u001b[0m leading zeros in decimal integer literals are not permitted; use an 0o prefix for octal integers\n"
          ]
        }
      ]
    },
    {
      "cell_type": "code",
      "source": [
        "\n"
      ],
      "metadata": {
        "id": "fYSc9hhWGsKO"
      },
      "execution_count": null,
      "outputs": []
    },
    {
      "cell_type": "markdown",
      "source": [
        "85% first classs distinction\n",
        "75% - 60% first calss\n",
        "59.99% - 40% second class\n"
      ],
      "metadata": {
        "id": "n9XvC3NBG6QV"
      }
    },
    {
      "cell_type": "code",
      "source": [
        "student_lst1 = [98, 90, 80, 87, 76, 70, 65, 60, 54, 50, 43, 40]\n",
        "\n",
        "for i in student_lst1:\n",
        "  print(\"Percentage Achieved\", i)\n",
        "  if i >=85:\n",
        "    print('...Pass with First Class Distinction')\n",
        "  elif i >= 60:\n",
        "    print('...Pass with First Class')\n",
        "  elif i >= 40:\n",
        "    print('...Pass with second class')\n",
        "  else:\n",
        "    print('...Better luck next time')\n",
        "\n"
      ],
      "metadata": {
        "colab": {
          "base_uri": "https://localhost:8080/"
        },
        "id": "dCG6jr6RHKRv",
        "outputId": "067ce415-b01c-4e1f-f20c-b168f0910e7f"
      },
      "execution_count": 5,
      "outputs": [
        {
          "output_type": "stream",
          "name": "stdout",
          "text": [
            "Percentage Achieved 98\n",
            "...Pass with First Class Distinction\n",
            "Percentage Achieved 90\n",
            "...Pass with First Class Distinction\n",
            "Percentage Achieved 80\n",
            "...Pass with First Class\n",
            "Percentage Achieved 87\n",
            "...Pass with First Class Distinction\n",
            "Percentage Achieved 76\n",
            "...Pass with First Class\n",
            "Percentage Achieved 70\n",
            "...Pass with First Class\n",
            "Percentage Achieved 65\n",
            "...Pass with First Class\n",
            "Percentage Achieved 60\n",
            "...Pass with First Class\n",
            "Percentage Achieved 54\n",
            "...Pass with second class\n",
            "Percentage Achieved 50\n",
            "...Pass with second class\n",
            "Percentage Achieved 43\n",
            "...Pass with second class\n",
            "Percentage Achieved 40\n",
            "...Pass with second class\n"
          ]
        }
      ]
    },
    {
      "cell_type": "code",
      "source": [
        "student_name = ['Ram']\n",
        "student_sub = ['eng', 'math', 'science', 'so.sci', 'pt']\n",
        "student_marks_1 = [98,87,76,65,54]\n",
        "\n",
        "for i in student_name:\n",
        "  sub_tot = 0\n",
        "  for j in student_marks_1:\n",
        "    sub_tot += j\n",
        "  print(i, 'achieved', sub_tot, 'marks.')\n",
        "\n"
      ],
      "metadata": {
        "colab": {
          "base_uri": "https://localhost:8080/"
        },
        "id": "Oeve-IPeJB1D",
        "outputId": "0972684a-d3ea-419c-f73a-5342c84d6362"
      },
      "execution_count": 8,
      "outputs": [
        {
          "output_type": "stream",
          "name": "stdout",
          "text": [
            "Ram achieved 380 marks.\n"
          ]
        }
      ]
    },
    {
      "cell_type": "code",
      "source": [
        "student_name = ['Ram', 'shyam', 'shiv', 'shanker']\n",
        "student_sub = ['eng', 'math', 'science', 'so.sci', 'pt']\n",
        "student_marks_1 = [[98,87,76,65,54]\n",
        "                  [45,54,56,67,78]\n",
        "                  [78,76,78,79,75]\n",
        "                  [56,56,67,78,89]]\n",
        "\n",
        "for i in student_name:\n",
        "  sub_tot = 0\n",
        "  for j in student_marks_1:\n",
        "    sub_tot += j\n",
        "  print(i, 'achieved', sub_tot, 'marks.')"
      ],
      "metadata": {
        "colab": {
          "base_uri": "https://localhost:8080/",
          "height": 314
        },
        "id": "1AumuhnSLhF9",
        "outputId": "701dd987-5f51-4b99-f160-6b8c0dff9ad8"
      },
      "execution_count": 11,
      "outputs": [
        {
          "output_type": "stream",
          "name": "stderr",
          "text": [
            "<>:3: SyntaxWarning: list indices must be integers or slices, not tuple; perhaps you missed a comma?\n",
            "<>:3: SyntaxWarning: list indices must be integers or slices, not tuple; perhaps you missed a comma?\n",
            "<ipython-input-11-394150ced3eb>:3: SyntaxWarning: list indices must be integers or slices, not tuple; perhaps you missed a comma?\n",
            "  student_marks_1 = [[98,87,76,65,54]\n"
          ]
        },
        {
          "output_type": "error",
          "ename": "TypeError",
          "evalue": "ignored",
          "traceback": [
            "\u001b[0;31m---------------------------------------------------------------------------\u001b[0m",
            "\u001b[0;31mTypeError\u001b[0m                                 Traceback (most recent call last)",
            "\u001b[0;32m<ipython-input-11-394150ced3eb>\u001b[0m in \u001b[0;36m<cell line: 3>\u001b[0;34m()\u001b[0m\n\u001b[1;32m      1\u001b[0m \u001b[0mstudent_name\u001b[0m \u001b[0;34m=\u001b[0m \u001b[0;34m[\u001b[0m\u001b[0;34m'Ram'\u001b[0m\u001b[0;34m,\u001b[0m \u001b[0;34m'shyam'\u001b[0m\u001b[0;34m,\u001b[0m \u001b[0;34m'shiv'\u001b[0m\u001b[0;34m,\u001b[0m \u001b[0;34m'shanker'\u001b[0m\u001b[0;34m]\u001b[0m\u001b[0;34m\u001b[0m\u001b[0;34m\u001b[0m\u001b[0m\n\u001b[1;32m      2\u001b[0m \u001b[0mstudent_sub\u001b[0m \u001b[0;34m=\u001b[0m \u001b[0;34m[\u001b[0m\u001b[0;34m'eng'\u001b[0m\u001b[0;34m,\u001b[0m \u001b[0;34m'math'\u001b[0m\u001b[0;34m,\u001b[0m \u001b[0;34m'science'\u001b[0m\u001b[0;34m,\u001b[0m \u001b[0;34m'so.sci'\u001b[0m\u001b[0;34m,\u001b[0m \u001b[0;34m'pt'\u001b[0m\u001b[0;34m]\u001b[0m\u001b[0;34m\u001b[0m\u001b[0;34m\u001b[0m\u001b[0m\n\u001b[0;32m----> 3\u001b[0;31m student_marks_1 = [[98,87,76,65,54]\n\u001b[0m\u001b[1;32m      4\u001b[0m                   \u001b[0;34m[\u001b[0m\u001b[0;36m45\u001b[0m\u001b[0;34m,\u001b[0m\u001b[0;36m54\u001b[0m\u001b[0;34m,\u001b[0m\u001b[0;36m56\u001b[0m\u001b[0;34m,\u001b[0m\u001b[0;36m67\u001b[0m\u001b[0;34m,\u001b[0m\u001b[0;36m78\u001b[0m\u001b[0;34m]\u001b[0m\u001b[0;34m\u001b[0m\u001b[0;34m\u001b[0m\u001b[0m\n\u001b[1;32m      5\u001b[0m                   \u001b[0;34m[\u001b[0m\u001b[0;36m78\u001b[0m\u001b[0;34m,\u001b[0m\u001b[0;36m76\u001b[0m\u001b[0;34m,\u001b[0m\u001b[0;36m78\u001b[0m\u001b[0;34m,\u001b[0m\u001b[0;36m79\u001b[0m\u001b[0;34m,\u001b[0m\u001b[0;36m75\u001b[0m\u001b[0;34m]\u001b[0m\u001b[0;34m\u001b[0m\u001b[0;34m\u001b[0m\u001b[0m\n",
            "\u001b[0;31mTypeError\u001b[0m: list indices must be integers or slices, not tuple"
          ]
        }
      ]
    },
    {
      "cell_type": "code",
      "source": [
        "\n",
        "for i in range(10):\n",
        "  for j in range(10):\n",
        "    print('*', end='')\n",
        "  print('\\n')"
      ],
      "metadata": {
        "colab": {
          "base_uri": "https://localhost:8080/"
        },
        "id": "JOCc3i9MNUSR",
        "outputId": "61610216-ea82-48c9-df74-cc59a076e8d9"
      },
      "execution_count": 12,
      "outputs": [
        {
          "output_type": "stream",
          "name": "stdout",
          "text": [
            "**********\n",
            "\n",
            "**********\n",
            "\n",
            "**********\n",
            "\n",
            "**********\n",
            "\n",
            "**********\n",
            "\n",
            "**********\n",
            "\n",
            "**********\n",
            "\n",
            "**********\n",
            "\n",
            "**********\n",
            "\n",
            "**********\n",
            "\n"
          ]
        }
      ]
    },
    {
      "cell_type": "code",
      "source": [
        "for i in range(10):\n",
        "  for j in range(10):\n",
        "    #for k in range (10):\n",
        "    print('*', end=' ')\n",
        "  print('')"
      ],
      "metadata": {
        "colab": {
          "base_uri": "https://localhost:8080/"
        },
        "id": "sG4p61oqNm6Q",
        "outputId": "22aca0ec-e488-47ee-fc71-2668f328c090"
      },
      "execution_count": 20,
      "outputs": [
        {
          "output_type": "stream",
          "name": "stdout",
          "text": [
            "* * * * * * * * * * \n",
            "* * * * * * * * * * \n",
            "* * * * * * * * * * \n",
            "* * * * * * * * * * \n",
            "* * * * * * * * * * \n",
            "* * * * * * * * * * \n",
            "* * * * * * * * * * \n",
            "* * * * * * * * * * \n",
            "* * * * * * * * * * \n",
            "* * * * * * * * * * \n"
          ]
        }
      ]
    },
    {
      "cell_type": "code",
      "source": [
        "\n",
        "for i in range(10):\n",
        "  for j in range(i + 1):\n",
        "    print('*', end=' ')\n",
        "  print('')"
      ],
      "metadata": {
        "colab": {
          "base_uri": "https://localhost:8080/"
        },
        "id": "l5BBHKUSP5ae",
        "outputId": "9c30b02e-6058-46db-8291-6d846d02ec7a"
      },
      "execution_count": 21,
      "outputs": [
        {
          "output_type": "stream",
          "name": "stdout",
          "text": [
            "* \n",
            "* * \n",
            "* * * \n",
            "* * * * \n",
            "* * * * * \n",
            "* * * * * * \n",
            "* * * * * * * \n",
            "* * * * * * * * \n",
            "* * * * * * * * * \n",
            "* * * * * * * * * * \n"
          ]
        }
      ]
    },
    {
      "cell_type": "code",
      "source": [],
      "metadata": {
        "id": "dP0p5u4DO2uP"
      },
      "execution_count": null,
      "outputs": []
    },
    {
      "cell_type": "code",
      "source": [
        "height = 10\n",
        "\n",
        "for i in range(height):\n",
        "\n",
        "    for j in range(height - i - 1):\n",
        "        print(' ', end=' ')\n",
        "\n",
        "\n",
        "    for k in range(2 * i + 1):\n",
        "        print('*', end=' ')\n",
        "\n",
        "\n",
        "    print('')"
      ],
      "metadata": {
        "colab": {
          "base_uri": "https://localhost:8080/"
        },
        "id": "RtkSZ3jSQWz0",
        "outputId": "2bf3985d-f800-4736-bff3-b83223bc005f"
      },
      "execution_count": 23,
      "outputs": [
        {
          "output_type": "stream",
          "name": "stdout",
          "text": [
            "                  * \n",
            "                * * * \n",
            "              * * * * * \n",
            "            * * * * * * * \n",
            "          * * * * * * * * * \n",
            "        * * * * * * * * * * * \n",
            "      * * * * * * * * * * * * * \n",
            "    * * * * * * * * * * * * * * * \n",
            "  * * * * * * * * * * * * * * * * * \n",
            "* * * * * * * * * * * * * * * * * * * \n"
          ]
        }
      ]
    },
    {
      "cell_type": "code",
      "source": [
        "for i in range(10):\n",
        "  for j in range (10-i):\n",
        "    print('', end=' ')\n",
        "  for k in range(i + 1):\n",
        "    print('*', end=' ')\n",
        "  print()"
      ],
      "metadata": {
        "colab": {
          "base_uri": "https://localhost:8080/"
        },
        "id": "4DWqgbAKRedi",
        "outputId": "48aaf3b0-0725-4fce-ffbb-a355e47006fe"
      },
      "execution_count": 32,
      "outputs": [
        {
          "output_type": "stream",
          "name": "stdout",
          "text": [
            "          * \n",
            "         * * \n",
            "        * * * \n",
            "       * * * * \n",
            "      * * * * * \n",
            "     * * * * * * \n",
            "    * * * * * * * \n",
            "   * * * * * * * * \n",
            "  * * * * * * * * * \n",
            " * * * * * * * * * * \n"
          ]
        }
      ]
    },
    {
      "cell_type": "code",
      "source": [],
      "metadata": {
        "id": "dq_0kv7qX-LI"
      },
      "execution_count": null,
      "outputs": []
    },
    {
      "cell_type": "code",
      "source": [
        "i = 0\n",
        "while i < 5:\n",
        "    j = 0\n",
        "    while j <= i:\n",
        "        print('*', end=' ')\n",
        "        j += 1\n",
        "    print('')\n",
        "    i += 1"
      ],
      "metadata": {
        "colab": {
          "base_uri": "https://localhost:8080/"
        },
        "id": "O8Uw2JhCe1ij",
        "outputId": "8c568e34-eb19-44b6-ddb8-c01e1461c05d"
      },
      "execution_count": 34,
      "outputs": [
        {
          "output_type": "stream",
          "name": "stdout",
          "text": [
            "* \n",
            "* * \n",
            "* * * \n",
            "* * * * \n",
            "* * * * * \n"
          ]
        }
      ]
    },
    {
      "cell_type": "code",
      "source": [
        "rows = 5\n",
        "columns = 5\n",
        "\n",
        "i = 0\n",
        "\n",
        "while i < rows:\n",
        "  j = 0\n",
        "  while j < columns:\n",
        "    print('*', end='')\n",
        "    j += 1\n",
        "  print('')\n",
        "  i +=1\n",
        "\n"
      ],
      "metadata": {
        "colab": {
          "base_uri": "https://localhost:8080/"
        },
        "id": "gAJQgs2nfPux",
        "outputId": "b965cfe5-56aa-49d2-f9fe-7631eab4f598"
      },
      "execution_count": 42,
      "outputs": [
        {
          "output_type": "stream",
          "name": "stdout",
          "text": [
            "*****\n",
            "*****\n",
            "*****\n",
            "*****\n",
            "*****\n"
          ]
        }
      ]
    }
  ]
}