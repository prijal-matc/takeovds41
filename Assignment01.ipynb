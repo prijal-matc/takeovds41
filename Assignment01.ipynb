{
  "nbformat": 4,
  "nbformat_minor": 0,
  "metadata": {
    "colab": {
      "provenance": [],
      "authorship_tag": "ABX9TyO9HAUClZgXJtY0PifzCTXF",
      "include_colab_link": true
    },
    "kernelspec": {
      "name": "python3",
      "display_name": "Python 3"
    },
    "language_info": {
      "name": "python"
    }
  },
  "cells": [
    {
      "cell_type": "markdown",
      "metadata": {
        "id": "view-in-github",
        "colab_type": "text"
      },
      "source": [
        "<a href=\"https://colab.research.google.com/github/prijal-matc/takeovds41/blob/main/Assignment01.ipynb\" target=\"_parent\"><img src=\"https://colab.research.google.com/assets/colab-badge.svg\" alt=\"Open In Colab\"/></a>"
      ]
    },
    {
      "cell_type": "code",
      "execution_count": null,
      "metadata": {
        "id": "Nge_LFYc_kmJ"
      },
      "outputs": [],
      "source": [
        "def add_numbers(*args):\n",
        "    result = 0\n",
        "    for num in args:\n",
        "        result += num\n",
        "    return result"
      ]
    },
    {
      "cell_type": "code",
      "source": [
        "sum_result = add_numbers(1,2,3) # output 6\n",
        "print(sum_result)"
      ],
      "metadata": {
        "colab": {
          "base_uri": "https://localhost:8080/"
        },
        "id": "TlsJRiJ1AWC_",
        "outputId": "68b3eda0-3271-4035-a6d3-446278882337"
      },
      "execution_count": null,
      "outputs": [
        {
          "output_type": "stream",
          "name": "stdout",
          "text": [
            "6\n"
          ]
        }
      ]
    },
    {
      "cell_type": "code",
      "source": [
        "sum_result = add_numbers(5,10,15,20) # output 50\n",
        "print(sum_result)"
      ],
      "metadata": {
        "colab": {
          "base_uri": "https://localhost:8080/"
        },
        "id": "gG2_bEk5AmMN",
        "outputId": "1022eda0-740c-4659-c84b-00a09100db52"
      },
      "execution_count": null,
      "outputs": [
        {
          "output_type": "stream",
          "name": "stdout",
          "text": [
            "50\n"
          ]
        }
      ]
    },
    {
      "cell_type": "code",
      "source": [
        "sum_result = add_numbers(2,4,6,8,10) # output 30\n",
        "print(sum_result)"
      ],
      "metadata": {
        "colab": {
          "base_uri": "https://localhost:8080/"
        },
        "id": "mpTtELTvAzL0",
        "outputId": "89d1d5fc-5f89-4bb1-c76d-549d78405408"
      },
      "execution_count": null,
      "outputs": [
        {
          "output_type": "stream",
          "name": "stdout",
          "text": [
            "30\n"
          ]
        }
      ]
    },
    {
      "cell_type": "code",
      "source": [
        "def mul_numbers(*args):\n",
        "    result = 1\n",
        "    for num in args:\n",
        "        result *= num\n",
        "    return result"
      ],
      "metadata": {
        "id": "DYXMXvn4BPhF"
      },
      "execution_count": null,
      "outputs": []
    },
    {
      "cell_type": "code",
      "source": [
        "sum_result = mul_numbers(1,2,3) # output 6\n",
        "print(sum_result)"
      ],
      "metadata": {
        "colab": {
          "base_uri": "https://localhost:8080/"
        },
        "id": "ICPx91niBdIF",
        "outputId": "e54c41c9-3100-401e-9216-9b5cb9d63b84"
      },
      "execution_count": null,
      "outputs": [
        {
          "output_type": "stream",
          "name": "stdout",
          "text": [
            "6\n"
          ]
        }
      ]
    },
    {
      "cell_type": "code",
      "source": [
        "sum_result = mul_numbers(5,10,15,20) # output 15000\n",
        "print(sum_result)"
      ],
      "metadata": {
        "colab": {
          "base_uri": "https://localhost:8080/"
        },
        "id": "QMP43tqeBm68",
        "outputId": "87c379e7-593e-4482-ae01-c580aa27d92a"
      },
      "execution_count": null,
      "outputs": [
        {
          "output_type": "stream",
          "name": "stdout",
          "text": [
            "15000\n"
          ]
        }
      ]
    },
    {
      "cell_type": "code",
      "source": [
        "sum_result = mul_numbers(2,4,6,8,10) # output 3840\n",
        "print(sum_result)"
      ],
      "metadata": {
        "colab": {
          "base_uri": "https://localhost:8080/"
        },
        "id": "BGMsZmXzBwm8",
        "outputId": "46bf3d4e-4dc4-49c9-f93a-245a4214bd3b"
      },
      "execution_count": null,
      "outputs": [
        {
          "output_type": "stream",
          "name": "stdout",
          "text": [
            "3840\n"
          ]
        }
      ]
    },
    {
      "cell_type": "code",
      "source": [
        "def div_numbers(*args):\n",
        "    result = 1\n",
        "    for num in args:\n",
        "        result /= num\n",
        "    return result"
      ],
      "metadata": {
        "id": "5eAsvLzPCBP0"
      },
      "execution_count": null,
      "outputs": []
    },
    {
      "cell_type": "code",
      "source": [
        "sum_result = div_numbers(1,2,3)\n",
        "print(sum_result)"
      ],
      "metadata": {
        "colab": {
          "base_uri": "https://localhost:8080/"
        },
        "id": "uFhaBvAcCP-V",
        "outputId": "a14177c1-48d2-4708-fb36-940562e4ac2d"
      },
      "execution_count": null,
      "outputs": [
        {
          "output_type": "stream",
          "name": "stdout",
          "text": [
            "0.16666666666666666\n"
          ]
        }
      ]
    },
    {
      "cell_type": "code",
      "source": [
        "sum_result = div_numbers(5,10,15,20)\n",
        "print(sum_result)"
      ],
      "metadata": {
        "colab": {
          "base_uri": "https://localhost:8080/"
        },
        "id": "xNr4YqyjCUWM",
        "outputId": "e6fc67a9-e6bc-429a-e577-4a760ae96a8e"
      },
      "execution_count": null,
      "outputs": [
        {
          "output_type": "stream",
          "name": "stdout",
          "text": [
            "6.666666666666667e-05\n"
          ]
        }
      ]
    },
    {
      "cell_type": "code",
      "source": [
        "sum_result = div_numbers(2,4,6,8,10)\n",
        "print(sum_result)"
      ],
      "metadata": {
        "colab": {
          "base_uri": "https://localhost:8080/"
        },
        "id": "xTcbLvRXCX9i",
        "outputId": "d580c269-cf57-46ad-9d79-32284c623558"
      },
      "execution_count": null,
      "outputs": [
        {
          "output_type": "stream",
          "name": "stdout",
          "text": [
            "0.00026041666666666666\n"
          ]
        }
      ]
    },
    {
      "cell_type": "code",
      "source": [
        "def sub_numbers(*args):\n",
        "    result = 1\n",
        "    for num in args:\n",
        "        result -= num\n",
        "    return result"
      ],
      "metadata": {
        "id": "gqYLXe3pDFzb"
      },
      "execution_count": null,
      "outputs": []
    },
    {
      "cell_type": "code",
      "source": [
        "sum_result = sub_numbers(1,2,3)\n",
        "print(sum_result)"
      ],
      "metadata": {
        "colab": {
          "base_uri": "https://localhost:8080/"
        },
        "id": "fmW3zlr1DJ1M",
        "outputId": "3f8e4f93-612e-49c3-d3ce-e181cdf5ad5b"
      },
      "execution_count": null,
      "outputs": [
        {
          "output_type": "stream",
          "name": "stdout",
          "text": [
            "-5\n"
          ]
        }
      ]
    },
    {
      "cell_type": "code",
      "source": [
        "sum_result = sub_numbers(5,10,15,20)\n",
        "print(sum_result)"
      ],
      "metadata": {
        "colab": {
          "base_uri": "https://localhost:8080/"
        },
        "id": "HOABWyncDaLz",
        "outputId": "452585cc-6497-4640-d3dc-092aa1aa5958"
      },
      "execution_count": null,
      "outputs": [
        {
          "output_type": "stream",
          "name": "stdout",
          "text": [
            "-49\n"
          ]
        }
      ]
    },
    {
      "cell_type": "code",
      "source": [
        "sum_result = sub_numbers(2,4,6,8,10)\n",
        "print(sum_result)"
      ],
      "metadata": {
        "colab": {
          "base_uri": "https://localhost:8080/"
        },
        "id": "RN4pt116DQTr",
        "outputId": "b7c07182-a417-4c6c-acec-73fab0dbce80"
      },
      "execution_count": null,
      "outputs": [
        {
          "output_type": "stream",
          "name": "stdout",
          "text": [
            "-29\n"
          ]
        }
      ]
    },
    {
      "cell_type": "code",
      "source": [],
      "metadata": {
        "id": "sCwfWWfGDZGL"
      },
      "execution_count": null,
      "outputs": []
    },
    {
      "cell_type": "code",
      "source": [
        "def print_details(**kwargs):\n",
        "    for key, value in kwargs.items():\n",
        "        print(f'{key}: {value}')"
      ],
      "metadata": {
        "id": "uYqoWpOIEWLU"
      },
      "execution_count": null,
      "outputs": []
    },
    {
      "cell_type": "code",
      "source": [
        "print_details(name = 'Prahlad', age = 28, city = 'Madison')"
      ],
      "metadata": {
        "colab": {
          "base_uri": "https://localhost:8080/"
        },
        "id": "ydNBtiveEoCi",
        "outputId": "8808bb19-652b-4bf2-c8b2-bb458f2a18e6"
      },
      "execution_count": null,
      "outputs": [
        {
          "output_type": "stream",
          "name": "stdout",
          "text": [
            "name: Prahlad\n",
            "age: 28\n",
            "city: Madison\n"
          ]
        }
      ]
    },
    {
      "cell_type": "code",
      "source": [
        "print_details(product = 'Laptop', brand = 'Dell', price = 1200)"
      ],
      "metadata": {
        "colab": {
          "base_uri": "https://localhost:8080/"
        },
        "id": "bCoEdMV3E8sT",
        "outputId": "6dcf0417-f9e3-4933-f5aa-2eddd304632e"
      },
      "execution_count": null,
      "outputs": [
        {
          "output_type": "stream",
          "name": "stdout",
          "text": [
            "product: Laptop\n",
            "brand: Dell\n",
            "price: 1200\n"
          ]
        }
      ]
    },
    {
      "cell_type": "code",
      "source": [],
      "metadata": {
        "id": "ReYyLGqhFRKS"
      },
      "execution_count": null,
      "outputs": []
    },
    {
      "cell_type": "markdown",
      "source": [
        "The special syntax **kwargs in function definitions in Python is used to pass a keyworded, variable-length argument list. We use the name kwargs with the double star. The reason is that the double star allows us to pass through keyword arguments (and any number of them).\n"
      ],
      "metadata": {
        "id": "Z2Q9JImnFuD2"
      }
    },
    {
      "cell_type": "code",
      "source": [],
      "metadata": {
        "id": "TYvi2KmJFvci"
      },
      "execution_count": null,
      "outputs": []
    },
    {
      "cell_type": "markdown",
      "source": [
        "question 3"
      ],
      "metadata": {
        "id": "g6UDZ2SPHGXA"
      }
    },
    {
      "cell_type": "code",
      "source": [
        "#using abs()\n",
        "number = 10\n",
        "value = abs(number)\n",
        "print(f\"value of {number} is: {value}\")\n"
      ],
      "metadata": {
        "colab": {
          "base_uri": "https://localhost:8080/"
        },
        "id": "QsXUZRgjHIJ4",
        "outputId": "eab31125-4fbf-4be0-adc6-7facb5f36aa1"
      },
      "execution_count": null,
      "outputs": [
        {
          "output_type": "stream",
          "name": "stdout",
          "text": [
            "value of 10 is: 10\n"
          ]
        }
      ]
    },
    {
      "cell_type": "code",
      "source": [
        "# using all()\n",
        "list = [True, True, False, True]\n",
        "result = all (list)\n",
        "print(f\"all items in the list are true: {result}\")"
      ],
      "metadata": {
        "colab": {
          "base_uri": "https://localhost:8080/"
        },
        "id": "BqzSYYkEHn9f",
        "outputId": "96798854-5d7d-4bc6-e2f9-39da5cd8b66a"
      },
      "execution_count": null,
      "outputs": [
        {
          "output_type": "stream",
          "name": "stdout",
          "text": [
            "all items in the list are true: False\n"
          ]
        }
      ]
    },
    {
      "cell_type": "code",
      "source": [
        "list = [True, True, True, True]\n",
        "result = all (list)\n",
        "print(f\"all items in the list are true: {result}\")"
      ],
      "metadata": {
        "colab": {
          "base_uri": "https://localhost:8080/"
        },
        "id": "4z7fE5KmIecQ",
        "outputId": "229e5d14-b426-4493-cb72-760998a8ab15"
      },
      "execution_count": null,
      "outputs": [
        {
          "output_type": "stream",
          "name": "stdout",
          "text": [
            "all items in the list are true: True\n"
          ]
        }
      ]
    },
    {
      "cell_type": "code",
      "source": [
        "# using any()\n",
        "list =[False, False, True, False]\n",
        "result = any(list)\n",
        "print(f\"At least one item in the list is true: {result}\")"
      ],
      "metadata": {
        "colab": {
          "base_uri": "https://localhost:8080/"
        },
        "id": "yTffEwsgIhHO",
        "outputId": "95ed366f-9bbc-4d5e-c4a9-d62eb1ce6873"
      },
      "execution_count": null,
      "outputs": [
        {
          "output_type": "stream",
          "name": "stdout",
          "text": [
            "At least one item in the list is true: True\n"
          ]
        }
      ]
    },
    {
      "cell_type": "code",
      "source": [
        "# using Dict()\n",
        "keys = ['name', 'age', 'city']\n",
        "values=['Prahlad', 28, 'Madison']\n",
        "my_dict = dict(zip(keys, values))\n",
        "print(f\"dictionary: {dict}\")"
      ],
      "metadata": {
        "colab": {
          "base_uri": "https://localhost:8080/"
        },
        "id": "kSucwdFcI5SP",
        "outputId": "9b83358a-9630-4055-ec81-5e44d752fa56"
      },
      "execution_count": null,
      "outputs": [
        {
          "output_type": "stream",
          "name": "stdout",
          "text": [
            "dictionary: <class 'dict'>\n"
          ]
        }
      ]
    },
    {
      "cell_type": "code",
      "source": [],
      "metadata": {
        "id": "PoJWxvDwKTee"
      },
      "execution_count": null,
      "outputs": []
    },
    {
      "cell_type": "code",
      "source": [
        "num = 5\n",
        "\n",
        "if num > 0:\n",
        "    print('the number is positive')\n",
        "else:\n",
        "    if num < 0:\n",
        "        print('the number is negative')\n",
        "    else:\n",
        "        print('the number is zero.')"
      ],
      "metadata": {
        "colab": {
          "base_uri": "https://localhost:8080/"
        },
        "id": "pCDoh0N_K3lh",
        "outputId": "3b6246a1-0f64-4888-84f1-4fc95518dadf"
      },
      "execution_count": null,
      "outputs": [
        {
          "output_type": "stream",
          "name": "stdout",
          "text": [
            "the number is positive\n"
          ]
        }
      ]
    },
    {
      "cell_type": "code",
      "source": [
        "age = 35\n",
        "\n",
        "if age >= 60:\n",
        "    print('you are a senior citizen')\n",
        "else:\n",
        "    if age >= 18:\n",
        "        print('you are an adult')\n",
        "    else:\n",
        "        print('you are a teenager')"
      ],
      "metadata": {
        "colab": {
          "base_uri": "https://localhost:8080/"
        },
        "id": "xhWcNuFvK5X1",
        "outputId": "ff44d8d2-ebef-4e5b-af73-3266565445a0"
      },
      "execution_count": null,
      "outputs": [
        {
          "output_type": "stream",
          "name": "stdout",
          "text": [
            "you are an adult\n"
          ]
        }
      ]
    },
    {
      "cell_type": "code",
      "source": [],
      "metadata": {
        "id": "Qm_rQI1rLVrf"
      },
      "execution_count": null,
      "outputs": []
    },
    {
      "cell_type": "code",
      "source": [
        "username = 'prijal'\n",
        "password = 'super'\n",
        "\n",
        "input_username = input('enter your username: ')\n",
        "input_password = input('enter your password: ')\n",
        "\n",
        "if input_username == username and input_password == password:\n",
        "    print('login successful ')\n",
        "elif input_username != username:\n",
        "    print('Invalid username. please try again. ')\n",
        "else:\n",
        "    print('Incorrect password. please try again')"
      ],
      "metadata": {
        "colab": {
          "base_uri": "https://localhost:8080/"
        },
        "id": "MSavNT7NLWP9",
        "outputId": "8c0c335a-a535-40c3-8be1-3495e4728135"
      },
      "execution_count": null,
      "outputs": [
        {
          "output_type": "stream",
          "name": "stdout",
          "text": [
            "enter your username: prijal\n",
            "enter your password: super\n",
            "login successful \n"
          ]
        }
      ]
    },
    {
      "cell_type": "code",
      "source": [
        "rows = 10\n",
        "hollow_pyramid(rows)\n",
        "\n",
        "def hollow_pyramid(rows):\n",
        "    for i in range(1, rows + 1):\n",
        "        for j in range(1, 2 * rows):\n",
        "            if i == rows or j == rows - i + 1 or j == rows + i - 1:\n",
        "                print(\"*\", end=\"\")\n",
        "            else:\n",
        "                print(\" \", end=\"\")\n",
        "        print()"
      ],
      "metadata": {
        "colab": {
          "base_uri": "https://localhost:8080/"
        },
        "id": "xibV7kLpLlsj",
        "outputId": "3af90f2d-55ff-44bd-fc4c-880fd5910d13"
      },
      "execution_count": null,
      "outputs": [
        {
          "output_type": "stream",
          "name": "stdout",
          "text": [
            "         *         \n",
            "        * *        \n",
            "       *   *       \n",
            "      *     *      \n",
            "     *       *     \n",
            "    *         *    \n",
            "   *           *   \n",
            "  *             *  \n",
            " *               * \n",
            "*******************\n"
          ]
        }
      ]
    },
    {
      "cell_type": "code",
      "source": [
        "rows = 10\n",
        "\n",
        "for i in range(1, rows + 1):\n",
        "    for j in range(1, rows * 2):\n",
        "        if j <= rows -i or j >= rows + i:\n",
        "            print(' ', end='')\n",
        "        else:\n",
        "            print('*', end='')\n",
        "    print()"
      ],
      "metadata": {
        "colab": {
          "base_uri": "https://localhost:8080/"
        },
        "id": "mnA1oVECM-gF",
        "outputId": "d8726742-b9c8-4f72-9eec-10317fea4018"
      },
      "execution_count": null,
      "outputs": [
        {
          "output_type": "stream",
          "name": "stdout",
          "text": [
            "         *         \n",
            "        ***        \n",
            "       *****       \n",
            "      *******      \n",
            "     *********     \n",
            "    ***********    \n",
            "   *************   \n",
            "  ***************  \n",
            " ***************** \n",
            "*******************\n"
          ]
        }
      ]
    },
    {
      "cell_type": "code",
      "source": [
        "side = 10\n",
        "\n",
        "for i in range(side):\n",
        "    for j in range(side):\n",
        "        if i == 0 or i == side - 1 or j == 0 or j == side - 1:\n",
        "            print(\"*\", end=\" \")\n",
        "        else:\n",
        "            print(\" \", end=\" \")\n",
        "    print()"
      ],
      "metadata": {
        "colab": {
          "base_uri": "https://localhost:8080/"
        },
        "id": "uzASIqTlNPm7",
        "outputId": "7a566162-3b47-481d-c9b2-5cb067fa3191"
      },
      "execution_count": null,
      "outputs": [
        {
          "output_type": "stream",
          "name": "stdout",
          "text": [
            "* * * * * * * * * * \n",
            "*                 * \n",
            "*                 * \n",
            "*                 * \n",
            "*                 * \n",
            "*                 * \n",
            "*                 * \n",
            "*                 * \n",
            "*                 * \n",
            "* * * * * * * * * * \n"
          ]
        }
      ]
    },
    {
      "cell_type": "code",
      "source": [
        "rows = 5\n",
        "columns = 8\n",
        "hollow_rectangle(rows, columns)\n",
        "\n",
        "def hollow_rectangle(rows, columns):\n",
        "    for i in range(1, rows + 1):\n",
        "        for j in range(1, columns + 1):\n",
        "            if i == 1 or i == rows or j == 1 or j == columns:\n",
        "                print(\"*\", end=\" \")\n",
        "            else:\n",
        "                print(\" \", end=\" \")\n",
        "        print()\n",
        "\n"
      ],
      "metadata": {
        "colab": {
          "base_uri": "https://localhost:8080/"
        },
        "id": "Ry4h9w4-ProA",
        "outputId": "9a1220b6-01e1-4271-e5fd-0daa23eb83c9"
      },
      "execution_count": null,
      "outputs": [
        {
          "output_type": "stream",
          "name": "stdout",
          "text": [
            "* * * * * * * * \n",
            "*             * \n",
            "*             * \n",
            "*             * \n",
            "* * * * * * * * \n"
          ]
        }
      ]
    },
    {
      "cell_type": "code",
      "source": [
        "capital_alphabet_pattern()\n",
        "\n",
        "def capital_alphabet_pattern():\n",
        "    start_char = ord('A')\n",
        "\n",
        "    for i in range(1, 8):\n",
        "        for j in range(1, i + 1):\n",
        "            print(chr(start_char), end=\" \")\n",
        "            start_char += 1\n",
        "        print()\n"
      ],
      "metadata": {
        "colab": {
          "base_uri": "https://localhost:8080/"
        },
        "id": "Klj2FmjkQqKa",
        "outputId": "d01b99c9-abf6-4692-c260-286b3bb7b912"
      },
      "execution_count": null,
      "outputs": [
        {
          "output_type": "stream",
          "name": "stdout",
          "text": [
            "A \n",
            "B C \n",
            "D E F \n",
            "G H I J \n",
            "K L M N O \n",
            "P Q R S T U \n",
            "V W X Y Z [ \\ \n"
          ]
        }
      ]
    },
    {
      "cell_type": "code",
      "source": [],
      "metadata": {
        "id": "AwaIEro4RZyB"
      },
      "execution_count": null,
      "outputs": []
    },
    {
      "cell_type": "code",
      "source": [
        "rows = 10\n",
        "hollow_pyramid(rows)\n",
        "\n",
        "def hollow_pyramid(rows):\n",
        "    i = 1\n",
        "    while i <= rows:\n",
        "        j = 1\n",
        "        while j <= 2 * rows:\n",
        "            if i == rows or j == rows - i + 1 or j == rows + i - 1:\n",
        "                print(\"*\", end=\"\")\n",
        "            else:\n",
        "                print(\" \", end=\"\")\n",
        "            j += 1\n",
        "        print()\n",
        "        i += 1"
      ],
      "metadata": {
        "colab": {
          "base_uri": "https://localhost:8080/"
        },
        "id": "soWmyJ1xRaGy",
        "outputId": "943af90c-83a9-404b-e817-55f705bfffc1"
      },
      "execution_count": null,
      "outputs": [
        {
          "output_type": "stream",
          "name": "stdout",
          "text": [
            "         *         \n",
            "        * *        \n",
            "       *   *       \n",
            "      *     *      \n",
            "     *       *     \n",
            "    *         *    \n",
            "   *           *   \n",
            "  *             *  \n",
            " *               * \n",
            "*******************\n"
          ]
        }
      ]
    },
    {
      "cell_type": "code",
      "source": [
        "rows = 7\n",
        "columns = 7\n",
        "hollow_square(rows, columns)\n",
        "\n",
        "def hollow_square(rows, columns):\n",
        "    i = 1\n",
        "    while i <= rows:\n",
        "        j = 1\n",
        "        while j <= columns:\n",
        "            if i == 1 or i == rows or j == 1 or j == columns:\n",
        "                print(\"*\", end=\" \")\n",
        "            else:\n",
        "                print(\" \", end=\" \")\n",
        "            j += 1\n",
        "        print()\n",
        "        i += 1\n"
      ],
      "metadata": {
        "colab": {
          "base_uri": "https://localhost:8080/"
        },
        "id": "9WULly6AUDmj",
        "outputId": "f59c3db0-ddba-4c06-961a-1738522399a5"
      },
      "execution_count": null,
      "outputs": [
        {
          "output_type": "stream",
          "name": "stdout",
          "text": [
            "* * * * * * * \n",
            "*           * \n",
            "*           * \n",
            "*           * \n",
            "*           * \n",
            "*           * \n",
            "* * * * * * * \n"
          ]
        }
      ]
    },
    {
      "cell_type": "code",
      "source": [
        "rows = 4\n",
        "columns = 7\n",
        "hollow_rectangle(rows, columns)\n",
        "\n",
        "def hollow_rectangle(rows, columns):\n",
        "    i = 1\n",
        "    while i <= rows:\n",
        "        j = 1\n",
        "        while j <= columns:\n",
        "            if i == 1 or i == rows or j == 1 or j == columns:\n",
        "                print(\"*\", end=\" \")\n",
        "            else:\n",
        "                print(\" \", end=\" \")\n",
        "            j += 1\n",
        "        print()\n",
        "        i += 1"
      ],
      "metadata": {
        "colab": {
          "base_uri": "https://localhost:8080/"
        },
        "id": "_HYvLOF-UTkw",
        "outputId": "1490049d-e0e7-4796-f666-02b08895a0a9"
      },
      "execution_count": null,
      "outputs": [
        {
          "output_type": "stream",
          "name": "stdout",
          "text": [
            "* * * * * * * \n",
            "*           * \n",
            "*           * \n",
            "* * * * * * * \n"
          ]
        }
      ]
    },
    {
      "cell_type": "code",
      "source": [],
      "metadata": {
        "id": "yeSqcfyFUp1K"
      },
      "execution_count": null,
      "outputs": []
    },
    {
      "cell_type": "code",
      "source": [
        "print('First 10 natural numbers:')\n",
        "for i in range (1, 11):\n",
        "    print( i, end = ',')\n",
        "print('\\n')"
      ],
      "metadata": {
        "colab": {
          "base_uri": "https://localhost:8080/"
        },
        "id": "A3la6T-kUqLQ",
        "outputId": "3230ed1e-5525-4120-f434-192746970702"
      },
      "execution_count": null,
      "outputs": [
        {
          "output_type": "stream",
          "name": "stdout",
          "text": [
            "First 10 natural numbers:\n",
            "1,2,3,4,5,6,7,8,9,10,\n",
            "\n"
          ]
        }
      ]
    },
    {
      "cell_type": "code",
      "source": [
        "print('First 10 odd numbers:')\n",
        "for i in range(1, 21, 2):\n",
        "    print(i, end =',')\n",
        "print('\\n')"
      ],
      "metadata": {
        "colab": {
          "base_uri": "https://localhost:8080/"
        },
        "id": "l1gCuz-dXT_D",
        "outputId": "704ac153-7036-4eaf-d134-2320906d9607"
      },
      "execution_count": null,
      "outputs": [
        {
          "output_type": "stream",
          "name": "stdout",
          "text": [
            "First 10 odd numbers:\n",
            "1,3,5,7,9,11,13,15,17,19,\n",
            "\n"
          ]
        }
      ]
    },
    {
      "cell_type": "code",
      "source": [
        "print('First 10 even numbers:')\n",
        "for i in range(2, 21, 2):\n",
        "    print(i, end =',')\n",
        "print('\\n')"
      ],
      "metadata": {
        "colab": {
          "base_uri": "https://localhost:8080/"
        },
        "id": "edIp4VMmXtQx",
        "outputId": "a6136a40-df9c-4dc8-ce33-3acfa60ce6fe"
      },
      "execution_count": null,
      "outputs": [
        {
          "output_type": "stream",
          "name": "stdout",
          "text": [
            "First 10 even numbers:\n",
            "2,4,6,8,10,12,14,16,18,20,\n",
            "\n"
          ]
        }
      ]
    },
    {
      "cell_type": "code",
      "source": [
        "question 8"
      ],
      "metadata": {
        "id": "PdDK8Q2qM1SR"
      },
      "execution_count": null,
      "outputs": []
    },
    {
      "cell_type": "code",
      "source": [
        "\n",
        "num  = int(input('Enter a number: '))\n",
        "\n",
        "for i in  range(1, num+ 1):\n",
        "\n",
        "    sum_result = 0\n",
        "    sum_result += i\n",
        "print(f\"Sum: {sum_result}\")"
      ],
      "metadata": {
        "id": "itrhUZiIZKRE",
        "colab": {
          "base_uri": "https://localhost:8080/"
        },
        "outputId": "f5308cf3-a66a-4091-aff1-fbaa4f040802"
      },
      "execution_count": 10,
      "outputs": [
        {
          "output_type": "stream",
          "name": "stdout",
          "text": [
            "Enter a number: 1\n",
            "Sum: 1\n"
          ]
        }
      ]
    },
    {
      "cell_type": "code",
      "source": [
        "num  = int(input('Enter a number: '))\n",
        "\n",
        "for i in  range(1, num+ 1):\n",
        "    subtraction_result = 0\n",
        "    subtraction_result -= i\n",
        "print(f'Subtraction: {subtraction_result}')"
      ],
      "metadata": {
        "colab": {
          "base_uri": "https://localhost:8080/"
        },
        "id": "2xngFlXRJIpb",
        "outputId": "2a931591-fc8a-4b80-f8aa-bf780e2d4b77"
      },
      "execution_count": 19,
      "outputs": [
        {
          "output_type": "stream",
          "name": "stdout",
          "text": [
            "Enter a number: 1\n",
            "Subtraction: -1\n"
          ]
        }
      ]
    },
    {
      "cell_type": "code",
      "source": [
        "num = int (input('Enter a number: '))\n",
        "\n",
        "for i in range (1, num+1):\n",
        "    multiplication_result = 1\n",
        "    multiplication_result *= i\n",
        "print(f\"Multiplication: {multiplication_result}\")"
      ],
      "metadata": {
        "colab": {
          "base_uri": "https://localhost:8080/"
        },
        "id": "oQu-mrzpKNsT",
        "outputId": "0269ddc0-fdea-4df5-cfac-c19fca876689"
      },
      "execution_count": 20,
      "outputs": [
        {
          "output_type": "stream",
          "name": "stdout",
          "text": [
            "Enter a number: 1\n",
            "Multiplication: 1\n"
          ]
        }
      ]
    },
    {
      "cell_type": "code",
      "source": [
        "num = int (input('Enter a number: '))\n",
        "\n",
        "for i in range (1, num+1):\n",
        "    division_result = 1\n",
        "    division_result /= i\n",
        "print(f'Division: {division_result}')"
      ],
      "metadata": {
        "colab": {
          "base_uri": "https://localhost:8080/"
        },
        "id": "6GCy1MlsLEFy",
        "outputId": "d0618664-1f85-45ce-cae8-b54717d3aa56"
      },
      "execution_count": 21,
      "outputs": [
        {
          "output_type": "stream",
          "name": "stdout",
          "text": [
            "Enter a number: 1\n",
            "Division: 1.0\n"
          ]
        }
      ]
    },
    {
      "cell_type": "code",
      "source": [
        "num = int (input('Enter a number: '))\n",
        "\n",
        "for i in range (1, num+1):\n",
        "    floor_division_result = 1\n",
        "    floor_division_result //= i\n",
        "print(f\"Floor Division: {floor_division_result}\")\n"
      ],
      "metadata": {
        "colab": {
          "base_uri": "https://localhost:8080/"
        },
        "id": "tXDktZvgLjpi",
        "outputId": "718d9c4f-3f8e-4939-cf0b-8fe4c13f9739"
      },
      "execution_count": 22,
      "outputs": [
        {
          "output_type": "stream",
          "name": "stdout",
          "text": [
            "Enter a number: 1\n",
            "Floor Division: 1\n"
          ]
        }
      ]
    },
    {
      "cell_type": "code",
      "source": [
        "num = int (input('Enter a number: '))\n",
        "\n",
        "for i in range (1, num+1):\n",
        "    modulus_result = 0\n",
        "    modulus_result %= i\n",
        "print(f'Modulus: {modulus_result}')"
      ],
      "metadata": {
        "colab": {
          "base_uri": "https://localhost:8080/"
        },
        "id": "-vLCfOyjMFfB",
        "outputId": "afa5e3c2-551f-41ad-bd8d-5e2c6dddce9b"
      },
      "execution_count": 24,
      "outputs": [
        {
          "output_type": "stream",
          "name": "stdout",
          "text": [
            "Enter a number: 1\n",
            "Modulus: 0\n"
          ]
        }
      ]
    },
    {
      "cell_type": "code",
      "source": [
        "num = int (input('Enter a number: '))\n",
        "\n",
        "for i in range (1, num+1):\n",
        "    exponential_result = 1\n",
        "    exponential_result **= 1\n",
        "print(f'Exponential: {exponential_result}')"
      ],
      "metadata": {
        "colab": {
          "base_uri": "https://localhost:8080/"
        },
        "id": "PJ1h4eZ6MhZp",
        "outputId": "6e16c5db-5d83-4ccb-b2d8-6585ea92c62e"
      },
      "execution_count": 25,
      "outputs": [
        {
          "output_type": "stream",
          "name": "stdout",
          "text": [
            "Enter a number: 1\n",
            "Exponential: 1\n"
          ]
        }
      ]
    },
    {
      "cell_type": "code",
      "source": [],
      "metadata": {
        "id": "rxKGN5EPMzjB"
      },
      "execution_count": null,
      "outputs": []
    },
    {
      "cell_type": "code",
      "source": [
        "question 9"
      ],
      "metadata": {
        "id": "K_KMXE9jMzT5"
      },
      "execution_count": null,
      "outputs": []
    },
    {
      "cell_type": "code",
      "source": [
        "word = input ('Enter a any word: ')\n",
        "\n",
        "reversed_word = word[::-1]\n",
        "\n",
        "print(f'Reversed Word: {reversed_word}')"
      ],
      "metadata": {
        "colab": {
          "base_uri": "https://localhost:8080/"
        },
        "id": "Kgonwm8GM-FB",
        "outputId": "7eda97c3-cfeb-4da9-c5a7-b18f1e74f3f0"
      },
      "execution_count": 28,
      "outputs": [
        {
          "output_type": "stream",
          "name": "stdout",
          "text": [
            "Enter a any word: ABCD\n",
            "Reversed Word: DCBA\n"
          ]
        }
      ]
    },
    {
      "cell_type": "code",
      "source": [],
      "metadata": {
        "id": "MhO9r7GmNuWQ"
      },
      "execution_count": null,
      "outputs": []
    },
    {
      "cell_type": "code",
      "source": [
        "question 10\n"
      ],
      "metadata": {
        "id": "ge7UnmW4Nvj3"
      },
      "execution_count": null,
      "outputs": []
    },
    {
      "cell_type": "code",
      "source": [
        "def is_armstrong_number(number):\n",
        "    num_str = str(number)\n",
        "    num_digits = len(num_str)\n",
        "    armstrong_sum = sum(int(digit) ** num_digits for digit in num_str)\n",
        "    return armstrong_sum ==number\n",
        "\n",
        "num = int(input(\"Enter a number: \"))\n",
        "if is_armstrong_number(num):\n",
        "    print(f\"{num} is an Armstrong number\")\n",
        "else:\n",
        "    print(f\"{num} in not an Armstrong number\")"
      ],
      "metadata": {
        "colab": {
          "base_uri": "https://localhost:8080/"
        },
        "id": "MYjb9-FgNxwQ",
        "outputId": "c7546651-a3c2-4a26-a141-766651534897"
      },
      "execution_count": 33,
      "outputs": [
        {
          "output_type": "stream",
          "name": "stdout",
          "text": [
            "Enter a number: 1\n",
            "1 is an Armstrong number\n"
          ]
        }
      ]
    },
    {
      "cell_type": "code",
      "source": [],
      "metadata": {
        "id": "x7FDQaz-PauP"
      },
      "execution_count": null,
      "outputs": []
    },
    {
      "cell_type": "code",
      "source": [
        "question 11"
      ],
      "metadata": {
        "id": "kcWiWJzuPbLX"
      },
      "execution_count": null,
      "outputs": []
    },
    {
      "cell_type": "code",
      "source": [
        "def fibonacci_series(limit):\n",
        "    fib_series = []\n",
        "    a, b = 0, 1\n",
        "\n",
        "    while a <= limit:\n",
        "        fib_series.append(a)\n",
        "        a, b = b, a + b\n",
        "    return fib_series\n",
        "\n",
        "limit = int(input('Enter a limit for Fibonacci series: '))\n",
        "\n",
        "result = fibonacci_series(limit)\n",
        "print(f\"fibonacci series up to {limit}: {result}\")"
      ],
      "metadata": {
        "colab": {
          "base_uri": "https://localhost:8080/"
        },
        "id": "LwZnI0IFPva-",
        "outputId": "36dbfd20-26a4-4cff-fe16-4c51ceada859"
      },
      "execution_count": 42,
      "outputs": [
        {
          "output_type": "stream",
          "name": "stdout",
          "text": [
            "Enter a limit for Fibonacci series: 5\n",
            "fibonacci series up to 5: [0, 1, 1, 2, 3, 5]\n"
          ]
        }
      ]
    },
    {
      "cell_type": "code",
      "source": [],
      "metadata": {
        "id": "g-5j9y8GRFu_"
      },
      "execution_count": null,
      "outputs": []
    },
    {
      "cell_type": "code",
      "source": [
        "question 12\n"
      ],
      "metadata": {
        "id": "Ws5PCeoyRGaP"
      },
      "execution_count": null,
      "outputs": []
    },
    {
      "cell_type": "code",
      "source": [
        "def factorial(number):\n",
        "    if number ==0 or number == 1:\n",
        "        return 1\n",
        "    else:\n",
        "        return number * factorial(number -1)\n",
        "\n",
        "num = int(input('Enter a number: '))\n",
        "\n",
        "result = factorial(num)\n",
        "print(f'Factorial of {num} is: {result}')"
      ],
      "metadata": {
        "colab": {
          "base_uri": "https://localhost:8080/"
        },
        "id": "v2kepUZNRJMO",
        "outputId": "ab86a2a1-d625-4eae-8f68-35e51c4d43a5"
      },
      "execution_count": 48,
      "outputs": [
        {
          "output_type": "stream",
          "name": "stdout",
          "text": [
            "Enter a number: 1\n",
            "Factorial of 1 is: 1\n"
          ]
        }
      ]
    },
    {
      "cell_type": "code",
      "source": [
        "\n",
        "questin 13"
      ],
      "metadata": {
        "id": "-nObVSYgSOUo"
      },
      "execution_count": null,
      "outputs": []
    },
    {
      "cell_type": "code",
      "source": [
        "def month_to_days(month_name):\n",
        "    month_days = {'January': 31, 'February': 28, 'March': 31, 'April': 30, 'May': 31, 'June': 30, 'July':31, 'August':31, 'September': 30, 'October': 31, 'November': 30, 'December': 31}\n",
        "\n",
        "    month_name = month_name.title()\n",
        "    if month_name in month_days:\n",
        "        return f\"{month_name} has {month_days[month_name]} days\"\n",
        "    else:\n",
        "        return \"Invalid month name. Please enter a valid month\"\n",
        "\n",
        "month_input = input('Enter the month name: ')\n",
        "\n",
        "result = month_to_days(month_input)\n",
        "print(result)"
      ],
      "metadata": {
        "colab": {
          "base_uri": "https://localhost:8080/"
        },
        "id": "qwiqeWF0SRzV",
        "outputId": "8e3d25b3-0051-4b40-d8f9-41d89b24dd92"
      },
      "execution_count": 52,
      "outputs": [
        {
          "output_type": "stream",
          "name": "stdout",
          "text": [
            "Enter the month name: March\n",
            "March has 31 days\n"
          ]
        }
      ]
    }
  ]
}